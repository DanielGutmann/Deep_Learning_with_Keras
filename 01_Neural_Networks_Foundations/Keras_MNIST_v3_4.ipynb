{
  "nbformat": 4,
  "nbformat_minor": 0,
  "metadata": {
    "colab": {
      "name": "Keras_MNIST_v3-4.ipynb",
      "version": "0.3.2",
      "views": {},
      "default_view": {},
      "provenance": [
        {
          "file_id": "1Z2ED4_jJzLEXoEy56MbBRHmWsqyd3wZ1",
          "timestamp": 1519566425141
        },
        {
          "file_id": "1FaJoP1w3XW7c8lqyizN2sU7XppeVKP7W",
          "timestamp": 1519557772719
        },
        {
          "file_id": "1MKLl7klLVkshxOx516omiBktGN5XvVqU",
          "timestamp": 1519518287470
        },
        {
          "file_id": "1iUzfluSOOh0seHK5b-zu82Z-IrzQQKrT",
          "timestamp": 1519516616131
        },
        {
          "file_id": "1QOJ-5lgMDmP0QkMamDkpA43kpSoIko7N",
          "timestamp": 1519494277120
        }
      ],
      "collapsed_sections": [],
      "toc_visible": true
    },
    "kernelspec": {
      "name": "python3",
      "display_name": "Python 3"
    },
    "accelerator": "GPU"
  },
  "cells": [
    {
      "metadata": {
        "id": "toN6oOtaze99",
        "colab_type": "text"
      },
      "cell_type": "markdown",
      "source": [
        "# MNIST database of handwritten digits. 2nd version of a Keras Neural Network (2 hidden layers with Dropout, 20 iterations). Adam optimizer."
      ]
    },
    {
      "metadata": {
        "id": "jyxgCqS70PJh",
        "colab_type": "text"
      },
      "cell_type": "markdown",
      "source": [
        "## http://yann.lecun.com/exdb/mnist/"
      ]
    },
    {
      "metadata": {
        "id": "GlZ2cEE06gFq",
        "colab_type": "code",
        "colab": {
          "autoexec": {
            "startup": false,
            "wait_interval": 0
          },
          "output_extras": [
            {
              "item_id": 1
            }
          ],
          "base_uri": "https://localhost:8080/",
          "height": 34
        },
        "outputId": "66e176ec-c818-4dc8-d5df-a3a36e77f026",
        "executionInfo": {
          "status": "ok",
          "timestamp": 1519566513461,
          "user_tz": -60,
          "elapsed": 2884,
          "user": {
            "displayName": "Javier Estraviz",
            "photoUrl": "//lh3.googleusercontent.com/-VNHsm9RTmpU/AAAAAAAAAAI/AAAAAAAAGLU/zl5Qs4mSSaM/s50-c-k-no/photo.jpg",
            "userId": "117041449029631631280"
          }
        }
      },
      "cell_type": "code",
      "source": [
        "# https://keras.io/\n",
        "!pip install -q keras\n",
        "import keras"
      ],
      "execution_count": 1,
      "outputs": [
        {
          "output_type": "stream",
          "text": [
            "Using TensorFlow backend.\n"
          ],
          "name": "stderr"
        }
      ]
    },
    {
      "metadata": {
        "id": "-HMmRIi3X9E4",
        "colab_type": "code",
        "colab": {
          "autoexec": {
            "startup": false,
            "wait_interval": 0
          }
        }
      },
      "cell_type": "code",
      "source": [
        "import numpy as np\n",
        "from keras.datasets import mnist\n",
        "from keras.models import Sequential\n",
        "from keras.layers.core import Dense, Dropout, Activation\n",
        "from keras.optimizers import Adam\n",
        "from keras.utils import np_utils\n",
        "\n",
        "import matplotlib.pyplot as plt"
      ],
      "execution_count": 0,
      "outputs": []
    },
    {
      "metadata": {
        "id": "q2TVfWsvu5__",
        "colab_type": "code",
        "colab": {
          "autoexec": {
            "startup": false,
            "wait_interval": 0
          }
        }
      },
      "cell_type": "code",
      "source": [
        "# for reproducibility\n",
        "np.random.seed(123)"
      ],
      "execution_count": 0,
      "outputs": []
    },
    {
      "metadata": {
        "id": "Q16udZx0wtOs",
        "colab_type": "code",
        "colab": {
          "autoexec": {
            "startup": false,
            "wait_interval": 0
          }
        }
      },
      "cell_type": "code",
      "source": [
        "# network and training\n",
        "NB_EPOCH = 20\n",
        "BATCH_SIZE = 128\n",
        "VERBOSE = 1\n",
        "NB_CLASSES = 10 # number of outputs = number of digits\n",
        "OPTIMIZER = Adam() # optimizer\n",
        "N_HIDDEN = 128 # number of neurons in each hidden layer\n",
        "VALIDATION_SPLIT = 0.2 # how much train is reserved fro validation\n",
        "DROPOUT = 0.3 # Way to prevent overfitting, way of regularization"
      ],
      "execution_count": 0,
      "outputs": []
    },
    {
      "metadata": {
        "id": "qw2n91TAzxz4",
        "colab_type": "code",
        "colab": {
          "autoexec": {
            "startup": false,
            "wait_interval": 0
          }
        }
      },
      "cell_type": "code",
      "source": [
        "# data shuffled and split between train and test sets\n",
        "(X_train, y_train), (X_test, y_test) = mnist.load_data()"
      ],
      "execution_count": 0,
      "outputs": []
    },
    {
      "metadata": {
        "id": "PDDqwK9S0BxE",
        "colab_type": "code",
        "colab": {
          "autoexec": {
            "startup": false,
            "wait_interval": 0
          },
          "output_extras": [
            {
              "item_id": 1
            }
          ],
          "base_uri": "https://localhost:8080/",
          "height": 34
        },
        "outputId": "4f9a72ca-1677-4d9c-807f-d358953eb4ec",
        "executionInfo": {
          "status": "ok",
          "timestamp": 1519566517351,
          "user_tz": -60,
          "elapsed": 450,
          "user": {
            "displayName": "Javier Estraviz",
            "photoUrl": "//lh3.googleusercontent.com/-VNHsm9RTmpU/AAAAAAAAAAI/AAAAAAAAGLU/zl5Qs4mSSaM/s50-c-k-no/photo.jpg",
            "userId": "117041449029631631280"
          }
        }
      },
      "cell_type": "code",
      "source": [
        "X_train.shape # X_train is 60000 rows of 28x28 values "
      ],
      "execution_count": 6,
      "outputs": [
        {
          "output_type": "execute_result",
          "data": {
            "text/plain": [
              "(60000, 28, 28)"
            ]
          },
          "metadata": {
            "tags": []
          },
          "execution_count": 6
        }
      ]
    },
    {
      "metadata": {
        "id": "cKsi2qoo0GYN",
        "colab_type": "code",
        "colab": {
          "autoexec": {
            "startup": false,
            "wait_interval": 0
          }
        }
      },
      "cell_type": "code",
      "source": [
        "# X_train to be reshaped in 60000x784\n",
        "RESHAPED = 784 # number of neurons\n",
        "\n",
        "X_train = X_train.reshape(60000, RESHAPED)\n",
        "X_test = X_test.reshape(10000, RESHAPED)\n",
        "X_train = X_train.astype('float32')\n",
        "X_test = X_test.astype('float32')"
      ],
      "execution_count": 0,
      "outputs": []
    },
    {
      "metadata": {
        "id": "_-JcMJY80cTb",
        "colab_type": "code",
        "colab": {
          "autoexec": {
            "startup": false,
            "wait_interval": 0
          },
          "output_extras": [
            {
              "item_id": 1
            }
          ],
          "base_uri": "https://localhost:8080/",
          "height": 51
        },
        "outputId": "0302d860-c3d6-4df5-dca7-57bc5caf291a",
        "executionInfo": {
          "status": "ok",
          "timestamp": 1519566518582,
          "user_tz": -60,
          "elapsed": 439,
          "user": {
            "displayName": "Javier Estraviz",
            "photoUrl": "//lh3.googleusercontent.com/-VNHsm9RTmpU/AAAAAAAAAAI/AAAAAAAAGLU/zl5Qs4mSSaM/s50-c-k-no/photo.jpg",
            "userId": "117041449029631631280"
          }
        }
      },
      "cell_type": "code",
      "source": [
        "# normalize \n",
        "X_train /= 255\n",
        "X_test /= 255\n",
        "\n",
        "print(X_train.shape[0], 'training set')\n",
        "print(X_test.shape[0], 'testing set')"
      ],
      "execution_count": 8,
      "outputs": [
        {
          "output_type": "stream",
          "text": [
            "60000 training set\n",
            "10000 testing set\n"
          ],
          "name": "stdout"
        }
      ]
    },
    {
      "metadata": {
        "id": "8fn741JM1La1",
        "colab_type": "code",
        "colab": {
          "autoexec": {
            "startup": false,
            "wait_interval": 0
          }
        }
      },
      "cell_type": "code",
      "source": [
        "# convert class vectors to binary class matrices\n",
        "Y_train = np_utils.to_categorical(y_train, NB_CLASSES)\n",
        "Y_test = np_utils.to_categorical(y_test, NB_CLASSES)"
      ],
      "execution_count": 0,
      "outputs": []
    },
    {
      "metadata": {
        "id": "Pf3D-c0BDv_z",
        "colab_type": "code",
        "colab": {
          "autoexec": {
            "startup": false,
            "wait_interval": 0
          }
        }
      },
      "cell_type": "code",
      "source": [
        "# Define the Sequential model or linear stack of layers\n",
        "model = Sequential()\n",
        "\n",
        "# 1st hidden layer\n",
        "model.add(Dense(N_HIDDEN, input_shape=(RESHAPED,)))\n",
        "model.add(Activation('relu'))\n",
        "model.add(Dropout(DROPOUT))\n",
        "\n",
        "# 2nd hidden layer\n",
        "model.add(Dense(N_HIDDEN))\n",
        "model.add(Activation('relu'))\n",
        "model.add(Dropout(DROPOUT))\n",
        "\n",
        "# Output layer with 10 neurons\n",
        "model.add(Dense(NB_CLASSES))\n",
        "model.add(Activation('softmax'))"
      ],
      "execution_count": 0,
      "outputs": []
    },
    {
      "metadata": {
        "id": "QDp0fZLvF3Ay",
        "colab_type": "code",
        "colab": {
          "autoexec": {
            "startup": false,
            "wait_interval": 0
          },
          "output_extras": [
            {
              "item_id": 1
            }
          ],
          "base_uri": "https://localhost:8080/",
          "height": 408
        },
        "outputId": "19323357-7c50-4e84-a288-8eccad564922",
        "executionInfo": {
          "status": "ok",
          "timestamp": 1519566520449,
          "user_tz": -60,
          "elapsed": 451,
          "user": {
            "displayName": "Javier Estraviz",
            "photoUrl": "//lh3.googleusercontent.com/-VNHsm9RTmpU/AAAAAAAAAAI/AAAAAAAAGLU/zl5Qs4mSSaM/s50-c-k-no/photo.jpg",
            "userId": "117041449029631631280"
          }
        }
      },
      "cell_type": "code",
      "source": [
        "model.summary()"
      ],
      "execution_count": 11,
      "outputs": [
        {
          "output_type": "stream",
          "text": [
            "_________________________________________________________________\n",
            "Layer (type)                 Output Shape              Param #   \n",
            "=================================================================\n",
            "dense_1 (Dense)              (None, 128)               100480    \n",
            "_________________________________________________________________\n",
            "activation_1 (Activation)    (None, 128)               0         \n",
            "_________________________________________________________________\n",
            "dropout_1 (Dropout)          (None, 128)               0         \n",
            "_________________________________________________________________\n",
            "dense_2 (Dense)              (None, 128)               16512     \n",
            "_________________________________________________________________\n",
            "activation_2 (Activation)    (None, 128)               0         \n",
            "_________________________________________________________________\n",
            "dropout_2 (Dropout)          (None, 128)               0         \n",
            "_________________________________________________________________\n",
            "dense_3 (Dense)              (None, 10)                1290      \n",
            "_________________________________________________________________\n",
            "activation_3 (Activation)    (None, 10)                0         \n",
            "=================================================================\n",
            "Total params: 118,282\n",
            "Trainable params: 118,282\n",
            "Non-trainable params: 0\n",
            "_________________________________________________________________\n"
          ],
          "name": "stdout"
        }
      ]
    },
    {
      "metadata": {
        "id": "djKhTvbjF-wX",
        "colab_type": "code",
        "colab": {
          "autoexec": {
            "startup": false,
            "wait_interval": 0
          }
        }
      },
      "cell_type": "code",
      "source": [
        "model.compile(loss='categorical_crossentropy', \n",
        "              optimizer=OPTIMIZER, \n",
        "              metrics=['accuracy'])"
      ],
      "execution_count": 0,
      "outputs": []
    },
    {
      "metadata": {
        "id": "olXjLZrCHh6Q",
        "colab_type": "code",
        "colab": {
          "autoexec": {
            "startup": false,
            "wait_interval": 0
          },
          "output_extras": [
            {
              "item_id": 52
            },
            {
              "item_id": 102
            },
            {
              "item_id": 149
            },
            {
              "item_id": 190
            }
          ],
          "base_uri": "https://localhost:8080/",
          "height": 714
        },
        "outputId": "1b716091-ac08-4210-cf89-356a75a20dba",
        "executionInfo": {
          "status": "ok",
          "timestamp": 1519566569713,
          "user_tz": -60,
          "elapsed": 48416,
          "user": {
            "displayName": "Javier Estraviz",
            "photoUrl": "//lh3.googleusercontent.com/-VNHsm9RTmpU/AAAAAAAAAAI/AAAAAAAAGLU/zl5Qs4mSSaM/s50-c-k-no/photo.jpg",
            "userId": "117041449029631631280"
          }
        }
      },
      "cell_type": "code",
      "source": [
        "history = model.fit(X_train, Y_train, batch_size=BATCH_SIZE, epochs=NB_EPOCH, verbose=VERBOSE, validation_split=VALIDATION_SPLIT)"
      ],
      "execution_count": 13,
      "outputs": [
        {
          "output_type": "stream",
          "text": [
            "Train on 48000 samples, validate on 12000 samples\n",
            "Epoch 1/20\n",
            "48000/48000 [==============================] - 3s 59us/step - loss: 0.5386 - acc: 0.8359 - val_loss: 0.2049 - val_acc: 0.9400\n",
            "Epoch 2/20\n",
            "48000/48000 [==============================] - 2s 49us/step - loss: 0.2388 - acc: 0.9289 - val_loss: 0.1413 - val_acc: 0.9583\n",
            "Epoch 3/20\n",
            "48000/48000 [==============================] - 2s 49us/step - loss: 0.1809 - acc: 0.9457 - val_loss: 0.1152 - val_acc: 0.9666\n",
            "Epoch 4/20\n",
            "48000/48000 [==============================] - 2s 49us/step - loss: 0.1463 - acc: 0.9569 - val_loss: 0.1024 - val_acc: 0.9692\n",
            "Epoch 5/20\n",
            "48000/48000 [==============================] - 2s 49us/step - loss: 0.1293 - acc: 0.9608 - val_loss: 0.0996 - val_acc: 0.9720\n",
            "Epoch 6/20\n",
            "15232/48000 [========>.....................] - ETA: 1s - loss: 0.1172 - acc: 0.9637"
          ],
          "name": "stdout"
        },
        {
          "output_type": "stream",
          "text": [
            "48000/48000 [==============================] - 2s 50us/step - loss: 0.1189 - acc: 0.9635 - val_loss: 0.0932 - val_acc: 0.9720\n",
            "Epoch 7/20\n",
            "48000/48000 [==============================] - 2s 48us/step - loss: 0.1047 - acc: 0.9670 - val_loss: 0.0903 - val_acc: 0.9737\n",
            "Epoch 8/20\n",
            "48000/48000 [==============================] - 2s 49us/step - loss: 0.0972 - acc: 0.9692 - val_loss: 0.0884 - val_acc: 0.9736\n",
            "Epoch 9/20\n",
            "48000/48000 [==============================] - 2s 49us/step - loss: 0.0894 - acc: 0.9723 - val_loss: 0.0866 - val_acc: 0.9761\n",
            "Epoch 10/20\n",
            "48000/48000 [==============================] - 2s 50us/step - loss: 0.0847 - acc: 0.9737 - val_loss: 0.0830 - val_acc: 0.9767\n",
            "Epoch 11/20\n",
            "36480/48000 [=====================>........] - ETA: 0s - loss: 0.0759 - acc: 0.9762"
          ],
          "name": "stdout"
        },
        {
          "output_type": "stream",
          "text": [
            "48000/48000 [==============================] - 2s 49us/step - loss: 0.0785 - acc: 0.9757 - val_loss: 0.0815 - val_acc: 0.9774\n",
            "Epoch 12/20\n",
            "48000/48000 [==============================] - 2s 49us/step - loss: 0.0745 - acc: 0.9759 - val_loss: 0.0822 - val_acc: 0.9762\n",
            "Epoch 13/20\n",
            "48000/48000 [==============================] - 2s 50us/step - loss: 0.0699 - acc: 0.9781 - val_loss: 0.0825 - val_acc: 0.9771\n",
            "Epoch 14/20\n",
            "48000/48000 [==============================] - 2s 49us/step - loss: 0.0667 - acc: 0.9779 - val_loss: 0.0801 - val_acc: 0.9764\n",
            "Epoch 15/20\n",
            "48000/48000 [==============================] - 2s 50us/step - loss: 0.0646 - acc: 0.9793 - val_loss: 0.0794 - val_acc: 0.9779\n",
            "Epoch 16/20\n",
            "34944/48000 [====================>.........] - ETA: 0s - loss: 0.0613 - acc: 0.9803"
          ],
          "name": "stdout"
        },
        {
          "output_type": "stream",
          "text": [
            "48000/48000 [==============================] - 2s 49us/step - loss: 0.0635 - acc: 0.9793 - val_loss: 0.0803 - val_acc: 0.9778\n",
            "Epoch 17/20\n",
            "48000/48000 [==============================] - 2s 50us/step - loss: 0.0602 - acc: 0.9807 - val_loss: 0.0837 - val_acc: 0.9764\n",
            "Epoch 18/20\n",
            "48000/48000 [==============================] - 2s 50us/step - loss: 0.0589 - acc: 0.9806 - val_loss: 0.0827 - val_acc: 0.9774\n",
            "Epoch 19/20\n",
            "48000/48000 [==============================] - 2s 49us/step - loss: 0.0527 - acc: 0.9833 - val_loss: 0.0849 - val_acc: 0.9785\n",
            "Epoch 20/20\n",
            "48000/48000 [==============================] - 2s 49us/step - loss: 0.0528 - acc: 0.9826 - val_loss: 0.0883 - val_acc: 0.9761\n"
          ],
          "name": "stdout"
        }
      ]
    },
    {
      "metadata": {
        "id": "HRU5FkTIHw5O",
        "colab_type": "code",
        "colab": {
          "autoexec": {
            "startup": false,
            "wait_interval": 0
          },
          "output_extras": [
            {
              "item_id": 3
            }
          ],
          "base_uri": "https://localhost:8080/",
          "height": 68
        },
        "outputId": "2febfbc9-f7c1-4e01-a5ac-0087e82dc64e",
        "executionInfo": {
          "status": "ok",
          "timestamp": 1519566570741,
          "user_tz": -60,
          "elapsed": 1015,
          "user": {
            "displayName": "Javier Estraviz",
            "photoUrl": "//lh3.googleusercontent.com/-VNHsm9RTmpU/AAAAAAAAAAI/AAAAAAAAGLU/zl5Qs4mSSaM/s50-c-k-no/photo.jpg",
            "userId": "117041449029631631280"
          }
        }
      },
      "cell_type": "code",
      "source": [
        "score = model.evaluate(X_test, Y_test, verbose=VERBOSE)\n",
        "\n",
        "print(\"Test score: \", score[0])\n",
        "print(\"Test accuracy: \", score[1])"
      ],
      "execution_count": 14,
      "outputs": [
        {
          "output_type": "stream",
          "text": [
            "10000/10000 [==============================] - 1s 64us/step\n",
            "Test score:  0.07422579833401832\n",
            "Test accuracy:  0.9792\n"
          ],
          "name": "stdout"
        }
      ]
    },
    {
      "metadata": {
        "id": "Yai7fUgPYA5C",
        "colab_type": "code",
        "colab": {
          "autoexec": {
            "startup": false,
            "wait_interval": 0
          },
          "output_extras": [
            {
              "item_id": 1
            }
          ],
          "base_uri": "https://localhost:8080/",
          "height": 34
        },
        "outputId": "cd29934c-8efc-4802-be55-b1a295cbcb22",
        "executionInfo": {
          "status": "ok",
          "timestamp": 1519566571327,
          "user_tz": -60,
          "elapsed": 568,
          "user": {
            "displayName": "Javier Estraviz",
            "photoUrl": "//lh3.googleusercontent.com/-VNHsm9RTmpU/AAAAAAAAAAI/AAAAAAAAGLU/zl5Qs4mSSaM/s50-c-k-no/photo.jpg",
            "userId": "117041449029631631280"
          }
        }
      },
      "cell_type": "code",
      "source": [
        "# list all data in history\n",
        "print(history.history.keys())"
      ],
      "execution_count": 15,
      "outputs": [
        {
          "output_type": "stream",
          "text": [
            "dict_keys(['val_loss', 'val_acc', 'loss', 'acc'])\n"
          ],
          "name": "stdout"
        }
      ]
    },
    {
      "metadata": {
        "id": "v6UI21vIYkJw",
        "colab_type": "code",
        "colab": {
          "autoexec": {
            "startup": false,
            "wait_interval": 0
          },
          "output_extras": [
            {
              "item_id": 1
            }
          ],
          "base_uri": "https://localhost:8080/",
          "height": 376
        },
        "outputId": "da062c29-35ce-4562-fd9f-a0daa386cb53",
        "executionInfo": {
          "status": "ok",
          "timestamp": 1519566572355,
          "user_tz": -60,
          "elapsed": 835,
          "user": {
            "displayName": "Javier Estraviz",
            "photoUrl": "//lh3.googleusercontent.com/-VNHsm9RTmpU/AAAAAAAAAAI/AAAAAAAAGLU/zl5Qs4mSSaM/s50-c-k-no/photo.jpg",
            "userId": "117041449029631631280"
          }
        }
      },
      "cell_type": "code",
      "source": [
        "# summarize history for accuracy\n",
        "plt.plot(history.history['acc'])\n",
        "plt.plot(history.history['val_acc'])\n",
        "plt.title('model accuracy')\n",
        "plt.ylabel('accuracy')\n",
        "plt.xlabel('epoch')\n",
        "plt.legend(['train', 'test'], loc='upper left')\n",
        "plt.show()"
      ],
      "execution_count": 16,
      "outputs": [
        {
          "output_type": "display_data",
          "data": {
            "image/png": "[encoded data removed]",
            "text/plain": [
              "<matplotlib.figure.Figure at 0x7fb0b813ffd0>"
            ]
          },
          "metadata": {
            "tags": []
          }
        }
      ]
    },
    {
      "metadata": {
        "id": "_6xV6ozIYkpr",
        "colab_type": "code",
        "colab": {
          "autoexec": {
            "startup": false,
            "wait_interval": 0
          },
          "output_extras": [
            {
              "item_id": 1
            }
          ],
          "base_uri": "https://localhost:8080/",
          "height": 376
        },
        "outputId": "76b00099-86d4-4274-990c-744c82f8537a",
        "executionInfo": {
          "status": "ok",
          "timestamp": 1519566573051,
          "user_tz": -60,
          "elapsed": 499,
          "user": {
            "displayName": "Javier Estraviz",
            "photoUrl": "//lh3.googleusercontent.com/-VNHsm9RTmpU/AAAAAAAAAAI/AAAAAAAAGLU/zl5Qs4mSSaM/s50-c-k-no/photo.jpg",
            "userId": "117041449029631631280"
          }
        }
      },
      "cell_type": "code",
      "source": [
        "# summarize history for loss\n",
        "plt.plot(history.history['loss'])\n",
        "plt.plot(history.history['val_loss'])\n",
        "plt.title('model loss')\n",
        "plt.ylabel('loss')\n",
        "plt.xlabel('epoch')\n",
        "plt.legend(['train', 'test'], loc='upper left')\n",
        "plt.show()"
      ],
      "execution_count": 17,
      "outputs": [
        {
          "output_type": "display_data",
          "data": {
            "image/png": "[encoded data removed]",
            "text/plain": [
              "<matplotlib.figure.Figure at 0x7fb0b813fc88>"
            ]
          },
          "metadata": {
            "tags": []
          }
        }
      ]
    }
  ]
}