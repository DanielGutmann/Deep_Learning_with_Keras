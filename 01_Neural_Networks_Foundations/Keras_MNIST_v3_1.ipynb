{
  "nbformat": 4,
  "nbformat_minor": 0,
  "metadata": {
    "colab": {
      "name": "Keras_MNIST_v3-1.ipynb",
      "version": "0.3.2",
      "views": {},
      "default_view": {},
      "provenance": [
        {
          "file_id": "1iUzfluSOOh0seHK5b-zu82Z-IrzQQKrT",
          "timestamp": 1519516616131
        },
        {
          "file_id": "1QOJ-5lgMDmP0QkMamDkpA43kpSoIko7N",
          "timestamp": 1519494277120
        }
      ],
      "collapsed_sections": [],
      "toc_visible": true
    },
    "kernelspec": {
      "name": "python3",
      "display_name": "Python 3"
    }
  },
  "cells": [
    {
      "metadata": {
        "id": "toN6oOtaze99",
        "colab_type": "text"
      },
      "cell_type": "markdown",
      "source": [
        "# MNIST database of handwritten digits. 2nd version of a Keras Neural Network (2 hidden layers with Dropout, 20 iterations)"
      ]
    },
    {
      "metadata": {
        "id": "jyxgCqS70PJh",
        "colab_type": "text"
      },
      "cell_type": "markdown",
      "source": [
        "## http://yann.lecun.com/exdb/mnist/"
      ]
    },
    {
      "metadata": {
        "id": "GlZ2cEE06gFq",
        "colab_type": "code",
        "colab": {
          "autoexec": {
            "startup": false,
            "wait_interval": 0
          },
          "output_extras": [
            {
              "item_id": 1
            }
          ],
          "base_uri": "https://localhost:8080/",
          "height": 34
        },
        "outputId": "1d39e549-4ce0-4a33-a902-a33e8981d244",
        "executionInfo": {
          "status": "ok",
          "timestamp": 1519518106319,
          "user_tz": -60,
          "elapsed": 5996,
          "user": {
            "displayName": "Javier Estraviz",
            "photoUrl": "//lh3.googleusercontent.com/-VNHsm9RTmpU/AAAAAAAAAAI/AAAAAAAAGLU/zl5Qs4mSSaM/s50-c-k-no/photo.jpg",
            "userId": "117041449029631631280"
          }
        }
      },
      "cell_type": "code",
      "source": [
        "# https://keras.io/\n",
        "!pip install -q keras\n",
        "import keras"
      ],
      "execution_count": 3,
      "outputs": [
        {
          "output_type": "stream",
          "text": [
            "Using TensorFlow backend.\n"
          ],
          "name": "stderr"
        }
      ]
    },
    {
      "metadata": {
        "id": "-HMmRIi3X9E4",
        "colab_type": "code",
        "colab": {
          "autoexec": {
            "startup": false,
            "wait_interval": 0
          }
        }
      },
      "cell_type": "code",
      "source": [
        "import numpy as np\n",
        "from keras.datasets import mnist\n",
        "from keras.models import Sequential\n",
        "from keras.layers.core import Dense, Dropout, Activation\n",
        "from keras.optimizers import SGD\n",
        "from keras.utils import np_utils"
      ],
      "execution_count": 0,
      "outputs": []
    },
    {
      "metadata": {
        "id": "q2TVfWsvu5__",
        "colab_type": "code",
        "colab": {
          "autoexec": {
            "startup": false,
            "wait_interval": 0
          }
        }
      },
      "cell_type": "code",
      "source": [
        "# for reproducibility\n",
        "np.random.seed(123)"
      ],
      "execution_count": 0,
      "outputs": []
    },
    {
      "metadata": {
        "id": "Q16udZx0wtOs",
        "colab_type": "code",
        "colab": {
          "autoexec": {
            "startup": false,
            "wait_interval": 0
          }
        }
      },
      "cell_type": "code",
      "source": [
        "# network and training\n",
        "NB_EPOCH = 20 # only 20 iterations instead of 200 that we had in the 1st model\n",
        "BATCH_SIZE = 128\n",
        "VERBOSE = 1\n",
        "NB_CLASSES = 10 # number of outputs = number of digits\n",
        "OPTIMIZER = SGD() # Stochastic Gradient Descent optimizer\n",
        "N_HIDDEN = 128 # number of neurons in each hidden layer\n",
        "VALIDATION_SPLIT = 0.2 # how much train is reserved fro validation\n",
        "DROPOUT = 0.3 # Way to prevent overfitting, way of regularization"
      ],
      "execution_count": 0,
      "outputs": []
    },
    {
      "metadata": {
        "id": "qw2n91TAzxz4",
        "colab_type": "code",
        "colab": {
          "autoexec": {
            "startup": false,
            "wait_interval": 0
          },
          "output_extras": [
            {
              "item_id": 4
            }
          ],
          "base_uri": "https://localhost:8080/",
          "height": 51
        },
        "outputId": "3ae03c33-8f5c-4475-e854-09f0ba9b73f0",
        "executionInfo": {
          "status": "ok",
          "timestamp": 1519518109976,
          "user_tz": -60,
          "elapsed": 1676,
          "user": {
            "displayName": "Javier Estraviz",
            "photoUrl": "//lh3.googleusercontent.com/-VNHsm9RTmpU/AAAAAAAAAAI/AAAAAAAAGLU/zl5Qs4mSSaM/s50-c-k-no/photo.jpg",
            "userId": "117041449029631631280"
          }
        }
      },
      "cell_type": "code",
      "source": [
        "# data shuffled and split between train and test sets\n",
        "(X_train, y_train), (X_test, y_test) = mnist.load_data()"
      ],
      "execution_count": 7,
      "outputs": [
        {
          "output_type": "stream",
          "text": [
            "Downloading data from https://s3.amazonaws.com/img-datasets/mnist.npz\n",
            "11493376/11490434 [==============================] - 1s 0us/step\n"
          ],
          "name": "stdout"
        }
      ]
    },
    {
      "metadata": {
        "id": "PDDqwK9S0BxE",
        "colab_type": "code",
        "colab": {
          "autoexec": {
            "startup": false,
            "wait_interval": 0
          },
          "output_extras": [
            {
              "item_id": 1
            }
          ],
          "base_uri": "https://localhost:8080/",
          "height": 34
        },
        "outputId": "c7e281d6-8591-4eea-9702-052ae50ee31c",
        "executionInfo": {
          "status": "ok",
          "timestamp": 1519518110723,
          "user_tz": -60,
          "elapsed": 737,
          "user": {
            "displayName": "Javier Estraviz",
            "photoUrl": "//lh3.googleusercontent.com/-VNHsm9RTmpU/AAAAAAAAAAI/AAAAAAAAGLU/zl5Qs4mSSaM/s50-c-k-no/photo.jpg",
            "userId": "117041449029631631280"
          }
        }
      },
      "cell_type": "code",
      "source": [
        "X_train.shape # X_train is 60000 rows of 28x28 values "
      ],
      "execution_count": 8,
      "outputs": [
        {
          "output_type": "execute_result",
          "data": {
            "text/plain": [
              "(60000, 28, 28)"
            ]
          },
          "metadata": {
            "tags": []
          },
          "execution_count": 8
        }
      ]
    },
    {
      "metadata": {
        "id": "cKsi2qoo0GYN",
        "colab_type": "code",
        "colab": {
          "autoexec": {
            "startup": false,
            "wait_interval": 0
          }
        }
      },
      "cell_type": "code",
      "source": [
        "# X_train to be reshaped in 60000x784\n",
        "RESHAPED = 784 # number of neurons\n",
        "\n",
        "X_train = X_train.reshape(60000, RESHAPED)\n",
        "X_test = X_test.reshape(10000, RESHAPED)\n",
        "X_train = X_train.astype('float32')\n",
        "X_test = X_test.astype('float32')"
      ],
      "execution_count": 0,
      "outputs": []
    },
    {
      "metadata": {
        "id": "_-JcMJY80cTb",
        "colab_type": "code",
        "colab": {
          "autoexec": {
            "startup": false,
            "wait_interval": 0
          },
          "output_extras": [
            {
              "item_id": 1
            }
          ],
          "base_uri": "https://localhost:8080/",
          "height": 51
        },
        "outputId": "c226fa3a-f085-4ec2-e8eb-71ad9df91028",
        "executionInfo": {
          "status": "ok",
          "timestamp": 1519518112276,
          "user_tz": -60,
          "elapsed": 442,
          "user": {
            "displayName": "Javier Estraviz",
            "photoUrl": "//lh3.googleusercontent.com/-VNHsm9RTmpU/AAAAAAAAAAI/AAAAAAAAGLU/zl5Qs4mSSaM/s50-c-k-no/photo.jpg",
            "userId": "117041449029631631280"
          }
        }
      },
      "cell_type": "code",
      "source": [
        "# normalize \n",
        "X_train /= 255\n",
        "X_test /= 255\n",
        "\n",
        "print(X_train.shape[0], 'training set')\n",
        "print(X_test.shape[0], 'testing set')"
      ],
      "execution_count": 10,
      "outputs": [
        {
          "output_type": "stream",
          "text": [
            "60000 training set\n",
            "10000 testing set\n"
          ],
          "name": "stdout"
        }
      ]
    },
    {
      "metadata": {
        "id": "8fn741JM1La1",
        "colab_type": "code",
        "colab": {
          "autoexec": {
            "startup": false,
            "wait_interval": 0
          }
        }
      },
      "cell_type": "code",
      "source": [
        "# convert class vectors to binary class matrices\n",
        "Y_train = np_utils.to_categorical(y_train, NB_CLASSES)\n",
        "Y_test = np_utils.to_categorical(y_test, NB_CLASSES)"
      ],
      "execution_count": 0,
      "outputs": []
    },
    {
      "metadata": {
        "id": "Pf3D-c0BDv_z",
        "colab_type": "code",
        "colab": {
          "autoexec": {
            "startup": false,
            "wait_interval": 0
          }
        }
      },
      "cell_type": "code",
      "source": [
        "# Define the Sequential model or linear stack of layers\n",
        "model = Sequential()\n",
        "\n",
        "# 1st hidden layer\n",
        "model.add(Dense(N_HIDDEN, input_shape=(RESHAPED,)))\n",
        "model.add(Activation('relu'))\n",
        "model.add(Dropout(DROPOUT))\n",
        "\n",
        "# 2nd hidden layer\n",
        "model.add(Dense(N_HIDDEN))\n",
        "model.add(Activation('relu'))\n",
        "model.add(Dropout(DROPOUT))\n",
        "\n",
        "# Output layer with 10 neurons\n",
        "model.add(Dense(NB_CLASSES))\n",
        "model.add(Activation('softmax'))"
      ],
      "execution_count": 0,
      "outputs": []
    },
    {
      "metadata": {
        "id": "QDp0fZLvF3Ay",
        "colab_type": "code",
        "colab": {
          "autoexec": {
            "startup": false,
            "wait_interval": 0
          },
          "output_extras": [
            {
              "item_id": 1
            }
          ],
          "base_uri": "https://localhost:8080/",
          "height": 408
        },
        "outputId": "53cfdaf0-6bfb-422c-ed06-b232ae64bda2",
        "executionInfo": {
          "status": "ok",
          "timestamp": 1519518114186,
          "user_tz": -60,
          "elapsed": 440,
          "user": {
            "displayName": "Javier Estraviz",
            "photoUrl": "//lh3.googleusercontent.com/-VNHsm9RTmpU/AAAAAAAAAAI/AAAAAAAAGLU/zl5Qs4mSSaM/s50-c-k-no/photo.jpg",
            "userId": "117041449029631631280"
          }
        }
      },
      "cell_type": "code",
      "source": [
        "model.summary()"
      ],
      "execution_count": 13,
      "outputs": [
        {
          "output_type": "stream",
          "text": [
            "_________________________________________________________________\n",
            "Layer (type)                 Output Shape              Param #   \n",
            "=================================================================\n",
            "dense_1 (Dense)              (None, 128)               100480    \n",
            "_________________________________________________________________\n",
            "activation_1 (Activation)    (None, 128)               0         \n",
            "_________________________________________________________________\n",
            "dropout_1 (Dropout)          (None, 128)               0         \n",
            "_________________________________________________________________\n",
            "dense_2 (Dense)              (None, 128)               16512     \n",
            "_________________________________________________________________\n",
            "activation_2 (Activation)    (None, 128)               0         \n",
            "_________________________________________________________________\n",
            "dropout_2 (Dropout)          (None, 128)               0         \n",
            "_________________________________________________________________\n",
            "dense_3 (Dense)              (None, 10)                1290      \n",
            "_________________________________________________________________\n",
            "activation_3 (Activation)    (None, 10)                0         \n",
            "=================================================================\n",
            "Total params: 118,282\n",
            "Trainable params: 118,282\n",
            "Non-trainable params: 0\n",
            "_________________________________________________________________\n"
          ],
          "name": "stdout"
        }
      ]
    },
    {
      "metadata": {
        "id": "djKhTvbjF-wX",
        "colab_type": "code",
        "colab": {
          "autoexec": {
            "startup": false,
            "wait_interval": 0
          }
        }
      },
      "cell_type": "code",
      "source": [
        "model.compile(loss='categorical_crossentropy', \n",
        "              optimizer=OPTIMIZER, \n",
        "              metrics=['accuracy'])"
      ],
      "execution_count": 0,
      "outputs": []
    },
    {
      "metadata": {
        "id": "olXjLZrCHh6Q",
        "colab_type": "code",
        "colab": {
          "autoexec": {
            "startup": false,
            "wait_interval": 0
          },
          "output_extras": [
            {
              "item_id": 46
            },
            {
              "item_id": 83
            },
            {
              "item_id": 137
            },
            {
              "item_id": 192
            },
            {
              "item_id": 200
            }
          ],
          "base_uri": "https://localhost:8080/",
          "height": 714
        },
        "outputId": "45c637d1-b757-4c46-9d90-7ddf4a40d502",
        "executionInfo": {
          "status": "ok",
          "timestamp": 1519518171165,
          "user_tz": -60,
          "elapsed": 56147,
          "user": {
            "displayName": "Javier Estraviz",
            "photoUrl": "//lh3.googleusercontent.com/-VNHsm9RTmpU/AAAAAAAAAAI/AAAAAAAAGLU/zl5Qs4mSSaM/s50-c-k-no/photo.jpg",
            "userId": "117041449029631631280"
          }
        }
      },
      "cell_type": "code",
      "source": [
        "history = model.fit(X_train, Y_train, batch_size=BATCH_SIZE, epochs=NB_EPOCH, verbose=VERBOSE, validation_split=VALIDATION_SPLIT)"
      ],
      "execution_count": 15,
      "outputs": [
        {
          "output_type": "stream",
          "text": [
            "Train on 48000 samples, validate on 12000 samples\n",
            "Epoch 1/20\n",
            "48000/48000 [==============================] - 3s 61us/step - loss: 1.7408 - acc: 0.4500 - val_loss: 0.9300 - val_acc: 0.8177\n",
            "Epoch 2/20\n",
            "48000/48000 [==============================] - 3s 57us/step - loss: 0.9368 - acc: 0.7118 - val_loss: 0.5409 - val_acc: 0.8687\n",
            "Epoch 3/20\n",
            "48000/48000 [==============================] - 3s 61us/step - loss: 0.7119 - acc: 0.7794 - val_loss: 0.4328 - val_acc: 0.8882\n",
            "Epoch 4/20\n",
            "48000/48000 [==============================] - 3s 60us/step - loss: 0.6023 - acc: 0.8164 - val_loss: 0.3787 - val_acc: 0.8980\n",
            "Epoch 5/20\n",
            "38528/48000 [=======================>......] - ETA: 0s - loss: 0.5427 - acc: 0.8354"
          ],
          "name": "stdout"
        },
        {
          "output_type": "stream",
          "text": [
            "48000/48000 [==============================] - 3s 61us/step - loss: 0.5395 - acc: 0.8378 - val_loss: 0.3465 - val_acc: 0.9048\n",
            "Epoch 6/20\n",
            "48000/48000 [==============================] - 3s 58us/step - loss: 0.5032 - acc: 0.8500 - val_loss: 0.3217 - val_acc: 0.9107\n",
            "Epoch 7/20\n",
            "48000/48000 [==============================] - 3s 57us/step - loss: 0.4684 - acc: 0.8600 - val_loss: 0.3033 - val_acc: 0.9147\n",
            "Epoch 8/20\n",
            "48000/48000 [==============================] - 3s 57us/step - loss: 0.4403 - acc: 0.8695 - val_loss: 0.2884 - val_acc: 0.9178\n",
            "Epoch 9/20\n",
            "48000/48000 [==============================] - 3s 54us/step - loss: 0.4160 - acc: 0.8776 - val_loss: 0.2747 - val_acc: 0.9208\n",
            "Epoch 10/20\n",
            "22144/48000 [============>.................] - ETA: 1s - loss: 0.4118 - acc: 0.8777"
          ],
          "name": "stdout"
        },
        {
          "output_type": "stream",
          "text": [
            "48000/48000 [==============================] - 3s 53us/step - loss: 0.3991 - acc: 0.8818 - val_loss: 0.2652 - val_acc: 0.9233\n",
            "Epoch 11/20\n",
            "48000/48000 [==============================] - 3s 58us/step - loss: 0.3808 - acc: 0.8889 - val_loss: 0.2542 - val_acc: 0.9253\n",
            "Epoch 12/20\n",
            "48000/48000 [==============================] - 3s 63us/step - loss: 0.3697 - acc: 0.8906 - val_loss: 0.2461 - val_acc: 0.9281\n",
            "Epoch 13/20\n",
            "48000/48000 [==============================] - 3s 60us/step - loss: 0.3546 - acc: 0.8956 - val_loss: 0.2385 - val_acc: 0.9293\n",
            "Epoch 14/20\n",
            "48000/48000 [==============================] - 3s 58us/step - loss: 0.3465 - acc: 0.8992 - val_loss: 0.2306 - val_acc: 0.9318\n",
            "Epoch 15/20\n",
            "10624/48000 [=====>........................] - ETA: 2s - loss: 0.3538 - acc: 0.8932"
          ],
          "name": "stdout"
        },
        {
          "output_type": "stream",
          "text": [
            "48000/48000 [==============================] - 3s 59us/step - loss: 0.3331 - acc: 0.9011 - val_loss: 0.2242 - val_acc: 0.9334\n",
            "Epoch 16/20\n",
            "48000/48000 [==============================] - 3s 55us/step - loss: 0.3255 - acc: 0.9044 - val_loss: 0.2185 - val_acc: 0.9359\n",
            "Epoch 17/20\n",
            "48000/48000 [==============================] - 3s 57us/step - loss: 0.3200 - acc: 0.9084 - val_loss: 0.2126 - val_acc: 0.9380\n",
            "Epoch 18/20\n",
            "48000/48000 [==============================] - 3s 56us/step - loss: 0.3086 - acc: 0.9085 - val_loss: 0.2084 - val_acc: 0.9387\n",
            "Epoch 19/20\n",
            "48000/48000 [==============================] - 3s 55us/step - loss: 0.3015 - acc: 0.9104 - val_loss: 0.2026 - val_acc: 0.9409\n",
            "Epoch 20/20\n",
            "18944/48000 [==========>...................] - ETA: 1s - loss: 0.2927 - acc: 0.9140"
          ],
          "name": "stdout"
        },
        {
          "output_type": "stream",
          "text": [
            "48000/48000 [==============================] - 3s 57us/step - loss: 0.2939 - acc: 0.9141 - val_loss: 0.1986 - val_acc: 0.9420\n"
          ],
          "name": "stdout"
        }
      ]
    },
    {
      "metadata": {
        "id": "HRU5FkTIHw5O",
        "colab_type": "code",
        "colab": {
          "autoexec": {
            "startup": false,
            "wait_interval": 0
          },
          "output_extras": [
            {
              "item_id": 2
            }
          ],
          "base_uri": "https://localhost:8080/",
          "height": 68
        },
        "outputId": "cd16ed28-78a0-4a23-ce64-9517c2eca723",
        "executionInfo": {
          "status": "ok",
          "timestamp": 1519518172044,
          "user_tz": -60,
          "elapsed": 863,
          "user": {
            "displayName": "Javier Estraviz",
            "photoUrl": "//lh3.googleusercontent.com/-VNHsm9RTmpU/AAAAAAAAAAI/AAAAAAAAGLU/zl5Qs4mSSaM/s50-c-k-no/photo.jpg",
            "userId": "117041449029631631280"
          }
        }
      },
      "cell_type": "code",
      "source": [
        "score = model.evaluate(X_test, Y_test, verbose=VERBOSE)\n",
        "\n",
        "print(\"Test score: \", score[0])\n",
        "print(\"Test accuracy: \", score[1])"
      ],
      "execution_count": 16,
      "outputs": [
        {
          "output_type": "stream",
          "text": [
            "10000/10000 [==============================] - 0s 40us/step\n",
            "Test score:  0.19611325840726496\n",
            "Test accuracy:  0.9419\n"
          ],
          "name": "stdout"
        }
      ]
    }
  ]
}