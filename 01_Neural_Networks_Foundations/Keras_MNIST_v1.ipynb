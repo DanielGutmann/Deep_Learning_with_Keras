{
  "nbformat": 4,
  "nbformat_minor": 0,
  "metadata": {
    "colab": {
      "name": "Keras_MNIST_v1.ipynb",
      "version": "0.3.2",
      "views": {},
      "default_view": {},
      "provenance": [],
      "collapsed_sections": [],
      "toc_visible": true
    }
  },
  "cells": [
    {
      "metadata": {
        "id": "toN6oOtaze99",
        "colab_type": "text"
      },
      "cell_type": "markdown",
      "source": [
        "# MNIST database of handwritten digits. 1st version of a Keras Neural Network (no hidden layers)."
      ]
    },
    {
      "metadata": {
        "id": "jyxgCqS70PJh",
        "colab_type": "text"
      },
      "cell_type": "markdown",
      "source": [
        "## http://yann.lecun.com/exdb/mnist/"
      ]
    },
    {
      "metadata": {
        "id": "-HMmRIi3X9E4",
        "colab_type": "code",
        "colab": {
          "autoexec": {
            "startup": false,
            "wait_interval": 0
          }
        }
      },
      "cell_type": "code",
      "source": [
        "import numpy as np\n",
        "from keras.datasets import mnist\n",
        "from keras.models import Sequential\n",
        "from keras.layers.core import Dense, Activation\n",
        "from keras.optimizers import SGD\n",
        "from keras.utils import np_utils"
      ],
      "execution_count": 0,
      "outputs": []
    },
    {
      "metadata": {
        "id": "q2TVfWsvu5__",
        "colab_type": "code",
        "colab": {
          "autoexec": {
            "startup": false,
            "wait_interval": 0
          }
        }
      },
      "cell_type": "code",
      "source": [
        "# for reproducibility\n",
        "np.random.seed(123)"
      ],
      "execution_count": 0,
      "outputs": []
    },
    {
      "metadata": {
        "id": "Q16udZx0wtOs",
        "colab_type": "code",
        "colab": {
          "autoexec": {
            "startup": false,
            "wait_interval": 0
          }
        }
      },
      "cell_type": "code",
      "source": [
        "# network and training\n",
        "NB_EPOCH = 200\n",
        "BATCH_SIZE = 128\n",
        "VERBOSE = 1\n",
        "NB_CLASSES = 10 # number of outputs = number of digits\n",
        "OPTIMIZER = SGD() # Stochastic Gradient Descent optimizer\n",
        "# N_HIDDEN = 128 # No hidden layers in this simple model\n",
        "VALIDATION_SPLIT = 0.2 # how much train is reserved fro validation"
      ],
      "execution_count": 0,
      "outputs": []
    },
    {
      "metadata": {
        "id": "qw2n91TAzxz4",
        "colab_type": "code",
        "colab": {
          "autoexec": {
            "startup": false,
            "wait_interval": 0
          }
        }
      },
      "cell_type": "code",
      "source": [
        "# data shuffled and split between train and test sets\n",
        "(X_train, y_train), (X_test, y_test) = mnist.load_data()"
      ],
      "execution_count": 0,
      "outputs": []
    },
    {
      "metadata": {
        "id": "PDDqwK9S0BxE",
        "colab_type": "code",
        "colab": {
          "autoexec": {
            "startup": false,
            "wait_interval": 0
          },
          "output_extras": [
            {
              "item_id": 1
            }
          ],
          "base_uri": "https://localhost:8080/",
          "height": 34
        },
        "outputId": "2098d729-849a-4d45-fd44-d0feea464ccb",
        "executionInfo": {
          "status": "ok",
          "timestamp": 1519492719940,
          "user_tz": -60,
          "elapsed": 605,
          "user": {
            "displayName": "Javier Estraviz",
            "photoUrl": "//lh3.googleusercontent.com/-VNHsm9RTmpU/AAAAAAAAAAI/AAAAAAAAGLU/zl5Qs4mSSaM/s50-c-k-no/photo.jpg",
            "userId": "117041449029631631280"
          }
        }
      },
      "cell_type": "code",
      "source": [
        "X_train.shape # X_train is 60000 rows of 28x28 values "
      ],
      "execution_count": 47,
      "outputs": [
        {
          "output_type": "execute_result",
          "data": {
            "text/plain": [
              "(60000, 28, 28)"
            ]
          },
          "metadata": {
            "tags": []
          },
          "execution_count": 47
        }
      ]
    },
    {
      "metadata": {
        "id": "cKsi2qoo0GYN",
        "colab_type": "code",
        "colab": {
          "autoexec": {
            "startup": false,
            "wait_interval": 0
          }
        }
      },
      "cell_type": "code",
      "source": [
        "# X_train to be reshaped in 60000x784\n",
        "RESHAPED = 784 # number of neurons\n",
        "\n",
        "X_train = X_train.reshape(60000, RESHAPED)\n",
        "X_test = X_test.reshape(10000, RESHAPED)\n",
        "X_train = X_train.astype('float32')\n",
        "X_test = X_test.astype('float32')"
      ],
      "execution_count": 0,
      "outputs": []
    },
    {
      "metadata": {
        "id": "_-JcMJY80cTb",
        "colab_type": "code",
        "colab": {
          "autoexec": {
            "startup": false,
            "wait_interval": 0
          },
          "output_extras": [
            {
              "item_id": 1
            }
          ],
          "base_uri": "https://localhost:8080/",
          "height": 51
        },
        "outputId": "ce7f8eb6-4f81-44e4-f97e-690203fbc4e6",
        "executionInfo": {
          "status": "ok",
          "timestamp": 1519492721202,
          "user_tz": -60,
          "elapsed": 439,
          "user": {
            "displayName": "Javier Estraviz",
            "photoUrl": "//lh3.googleusercontent.com/-VNHsm9RTmpU/AAAAAAAAAAI/AAAAAAAAGLU/zl5Qs4mSSaM/s50-c-k-no/photo.jpg",
            "userId": "117041449029631631280"
          }
        }
      },
      "cell_type": "code",
      "source": [
        "# normalize \n",
        "X_train /= 255\n",
        "X_test /= 255\n",
        "\n",
        "print(X_train.shape[0], 'training set')\n",
        "print(X_test.shape[0], 'testing set')"
      ],
      "execution_count": 49,
      "outputs": [
        {
          "output_type": "stream",
          "text": [
            "(60000, 'training set')\n",
            "(10000, 'testing set')\n"
          ],
          "name": "stdout"
        }
      ]
    },
    {
      "metadata": {
        "id": "8fn741JM1La1",
        "colab_type": "code",
        "colab": {
          "autoexec": {
            "startup": false,
            "wait_interval": 0
          }
        }
      },
      "cell_type": "code",
      "source": [
        "# convert class vectors to binary class matrices\n",
        "Y_train = np_utils.to_categorical(y_train, NB_CLASSES)\n",
        "Y_test = np_utils.to_categorical(y_test, NB_CLASSES)"
      ],
      "execution_count": 0,
      "outputs": []
    },
    {
      "metadata": {
        "id": "Pf3D-c0BDv_z",
        "colab_type": "code",
        "colab": {
          "autoexec": {
            "startup": false,
            "wait_interval": 0
          }
        }
      },
      "cell_type": "code",
      "source": [
        "# Define the Sequential model or linear stack of layers\n",
        "model = Sequential()\n",
        "\n",
        "# Output layer with 10 neurons\n",
        "model.add(Dense(NB_CLASSES, input_shape=(RESHAPED,)))\n",
        "# final stage: softmax\n",
        "model.add(Activation('softmax'))"
      ],
      "execution_count": 0,
      "outputs": []
    },
    {
      "metadata": {
        "id": "QDp0fZLvF3Ay",
        "colab_type": "code",
        "colab": {
          "autoexec": {
            "startup": false,
            "wait_interval": 0
          },
          "output_extras": [
            {
              "item_id": 1
            }
          ],
          "base_uri": "https://localhost:8080/",
          "height": 204
        },
        "outputId": "cceff6ac-480b-4a84-8371-472daeb59ded",
        "executionInfo": {
          "status": "ok",
          "timestamp": 1519492723103,
          "user_tz": -60,
          "elapsed": 439,
          "user": {
            "displayName": "Javier Estraviz",
            "photoUrl": "//lh3.googleusercontent.com/-VNHsm9RTmpU/AAAAAAAAAAI/AAAAAAAAGLU/zl5Qs4mSSaM/s50-c-k-no/photo.jpg",
            "userId": "117041449029631631280"
          }
        }
      },
      "cell_type": "code",
      "source": [
        "model.summary()"
      ],
      "execution_count": 52,
      "outputs": [
        {
          "output_type": "stream",
          "text": [
            "_________________________________________________________________\n",
            "Layer (type)                 Output Shape              Param #   \n",
            "=================================================================\n",
            "dense_2 (Dense)              (None, 10)                7850      \n",
            "_________________________________________________________________\n",
            "activation_2 (Activation)    (None, 10)                0         \n",
            "=================================================================\n",
            "Total params: 7,850\n",
            "Trainable params: 7,850\n",
            "Non-trainable params: 0\n",
            "_________________________________________________________________\n"
          ],
          "name": "stdout"
        }
      ]
    },
    {
      "metadata": {
        "id": "djKhTvbjF-wX",
        "colab_type": "code",
        "colab": {
          "autoexec": {
            "startup": false,
            "wait_interval": 0
          }
        }
      },
      "cell_type": "code",
      "source": [
        "model.compile(loss='categorical_crossentropy', \n",
        "              optimizer=OPTIMIZER, \n",
        "              metrics=['accuracy'])"
      ],
      "execution_count": 0,
      "outputs": []
    },
    {
      "metadata": {
        "id": "olXjLZrCHh6Q",
        "colab_type": "code",
        "colab": {
          "autoexec": {
            "startup": false,
            "wait_interval": 0
          },
          "output_extras": [
            {
              "item_id": 34
            },
            {
              "item_id": 67
            },
            {
              "item_id": 101
            },
            {
              "item_id": 136
            },
            {
              "item_id": 170
            },
            {
              "item_id": 183
            },
            {
              "item_id": 193
            },
            {
              "item_id": 203
            },
            {
              "item_id": 212
            },
            {
              "item_id": 222
            },
            {
              "item_id": 232
            },
            {
              "item_id": 241
            },
            {
              "item_id": 264
            },
            {
              "item_id": 297
            },
            {
              "item_id": 330
            },
            {
              "item_id": 363
            },
            {
              "item_id": 396
            },
            {
              "item_id": 429
            },
            {
              "item_id": 463
            },
            {
              "item_id": 497
            },
            {
              "item_id": 530
            },
            {
              "item_id": 562
            },
            {
              "item_id": 595
            },
            {
              "item_id": 628
            },
            {
              "item_id": 660
            },
            {
              "item_id": 664
            }
          ],
          "base_uri": "https://localhost:8080/",
          "height": 6834
        },
        "outputId": "f37c3584-d638-4735-dd99-49712caed62e",
        "executionInfo": {
          "status": "ok",
          "timestamp": 1519492941311,
          "user_tz": -60,
          "elapsed": 217372,
          "user": {
            "displayName": "Javier Estraviz",
            "photoUrl": "//lh3.googleusercontent.com/-VNHsm9RTmpU/AAAAAAAAAAI/AAAAAAAAGLU/zl5Qs4mSSaM/s50-c-k-no/photo.jpg",
            "userId": "117041449029631631280"
          }
        }
      },
      "cell_type": "code",
      "source": [
        "history = model.fit(X_train, Y_train, batch_size=BATCH_SIZE, epochs=NB_EPOCH, verbose=VERBOSE, validation_split=VALIDATION_SPLIT)"
      ],
      "execution_count": 54,
      "outputs": [
        {
          "output_type": "stream",
          "text": [
            "Train on 48000 samples, validate on 12000 samples\n",
            "Epoch 1/200\n",
            "48000/48000 [==============================] - 1s 20us/step - loss: 1.3735 - acc: 0.6591 - val_loss: 0.9028 - val_acc: 0.8228\n",
            "Epoch 2/200\n",
            "48000/48000 [==============================] - 1s 20us/step - loss: 0.7999 - acc: 0.8227 - val_loss: 0.6639 - val_acc: 0.8533\n",
            "Epoch 3/200\n",
            "48000/48000 [==============================] - 1s 23us/step - loss: 0.6486 - acc: 0.8470 - val_loss: 0.5667 - val_acc: 0.8681\n",
            "Epoch 4/200\n",
            "48000/48000 [==============================] - 1s 22us/step - loss: 0.5750 - acc: 0.8583 - val_loss: 0.5126 - val_acc: 0.8762\n",
            "Epoch 5/200\n",
            "48000/48000 [==============================] - 1s 22us/step - loss: 0.5301 - acc: 0.8656 - val_loss: 0.4777 - val_acc: 0.8811\n",
            "Epoch 6/200\n",
            "48000/48000 [==============================] - 1s 22us/step - loss: 0.4993 - acc: 0.8705 - val_loss: 0.4531 - val_acc: 0.8861\n",
            "Epoch 7/200\n",
            "48000/48000 [==============================] - 1s 22us/step - loss: 0.4764 - acc: 0.8752 - val_loss: 0.4345 - val_acc: 0.8890\n",
            "Epoch 8/200\n",
            "39168/48000 [=======================>......] - ETA: 0s - loss: 0.4584 - acc: 0.8791"
          ],
          "name": "stdout"
        },
        {
          "output_type": "stream",
          "text": [
            "48000/48000 [==============================] - 1s 22us/step - loss: 0.4587 - acc: 0.8786 - val_loss: 0.4202 - val_acc: 0.8903\n",
            "Epoch 9/200\n",
            "48000/48000 [==============================] - 1s 22us/step - loss: 0.4445 - acc: 0.8821 - val_loss: 0.4085 - val_acc: 0.8917\n",
            "Epoch 10/200\n",
            "48000/48000 [==============================] - 1s 23us/step - loss: 0.4327 - acc: 0.8845 - val_loss: 0.3986 - val_acc: 0.8938\n",
            "Epoch 11/200\n",
            "48000/48000 [==============================] - 1s 23us/step - loss: 0.4227 - acc: 0.8862 - val_loss: 0.3904 - val_acc: 0.8956\n",
            "Epoch 12/200\n",
            "48000/48000 [==============================] - 1s 22us/step - loss: 0.4141 - acc: 0.8888 - val_loss: 0.3833 - val_acc: 0.8978\n",
            "Epoch 13/200\n",
            "48000/48000 [==============================] - 1s 22us/step - loss: 0.4066 - acc: 0.8902 - val_loss: 0.3770 - val_acc: 0.8992\n",
            "Epoch 14/200\n",
            "48000/48000 [==============================] - 1s 22us/step - loss: 0.4000 - acc: 0.8919 - val_loss: 0.3715 - val_acc: 0.9003\n",
            "Epoch 15/200\n",
            "48000/48000 [==============================] - 1s 22us/step - loss: 0.3941 - acc: 0.8930 - val_loss: 0.3667 - val_acc: 0.9009\n",
            "Epoch 16/200\n",
            "15232/48000 [========>.....................] - ETA: 0s - loss: 0.3899 - acc: 0.8931"
          ],
          "name": "stdout"
        },
        {
          "output_type": "stream",
          "text": [
            "48000/48000 [==============================] - 1s 22us/step - loss: 0.3889 - acc: 0.8940 - val_loss: 0.3623 - val_acc: 0.9018\n",
            "Epoch 17/200\n",
            "48000/48000 [==============================] - 1s 22us/step - loss: 0.3841 - acc: 0.8950 - val_loss: 0.3584 - val_acc: 0.9034\n",
            "Epoch 18/200\n",
            "48000/48000 [==============================] - 1s 23us/step - loss: 0.3797 - acc: 0.8956 - val_loss: 0.3549 - val_acc: 0.9033\n",
            "Epoch 19/200\n",
            "48000/48000 [==============================] - 1s 22us/step - loss: 0.3758 - acc: 0.8970 - val_loss: 0.3514 - val_acc: 0.9047\n",
            "Epoch 20/200\n",
            "48000/48000 [==============================] - 1s 23us/step - loss: 0.3721 - acc: 0.8970 - val_loss: 0.3485 - val_acc: 0.9058\n",
            "Epoch 21/200\n",
            "48000/48000 [==============================] - 1s 23us/step - loss: 0.3687 - acc: 0.8982 - val_loss: 0.3457 - val_acc: 0.9063\n",
            "Epoch 22/200\n",
            "48000/48000 [==============================] - 1s 23us/step - loss: 0.3656 - acc: 0.8988 - val_loss: 0.3431 - val_acc: 0.9069\n",
            "Epoch 23/200\n",
            "48000/48000 [==============================] - 1s 23us/step - loss: 0.3627 - acc: 0.8994 - val_loss: 0.3407 - val_acc: 0.9073\n",
            "Epoch 24/200\n",
            " 9984/48000 [=====>........................] - ETA: 0s - loss: 0.3556 - acc: 0.9047"
          ],
          "name": "stdout"
        },
        {
          "output_type": "stream",
          "text": [
            "48000/48000 [==============================] - 1s 22us/step - loss: 0.3599 - acc: 0.9002 - val_loss: 0.3385 - val_acc: 0.9070\n",
            "Epoch 25/200\n",
            "48000/48000 [==============================] - 1s 22us/step - loss: 0.3573 - acc: 0.9008 - val_loss: 0.3363 - val_acc: 0.9078\n",
            "Epoch 26/200\n",
            "48000/48000 [==============================] - 1s 22us/step - loss: 0.3549 - acc: 0.9016 - val_loss: 0.3343 - val_acc: 0.9085\n",
            "Epoch 27/200\n",
            "48000/48000 [==============================] - 1s 22us/step - loss: 0.3526 - acc: 0.9022 - val_loss: 0.3324 - val_acc: 0.9091\n",
            "Epoch 28/200\n",
            "48000/48000 [==============================] - 1s 23us/step - loss: 0.3505 - acc: 0.9026 - val_loss: 0.3307 - val_acc: 0.9094\n",
            "Epoch 29/200\n",
            "48000/48000 [==============================] - 1s 22us/step - loss: 0.3484 - acc: 0.9031 - val_loss: 0.3290 - val_acc: 0.9097\n",
            "Epoch 30/200\n",
            "48000/48000 [==============================] - 1s 22us/step - loss: 0.3464 - acc: 0.9041 - val_loss: 0.3276 - val_acc: 0.9102\n",
            "Epoch 31/200\n",
            "48000/48000 [==============================] - 1s 22us/step - loss: 0.3446 - acc: 0.9041 - val_loss: 0.3262 - val_acc: 0.9102\n",
            "Epoch 32/200\n",
            "12032/48000 [======>.......................] - ETA: 0s - loss: 0.3392 - acc: 0.9058"
          ],
          "name": "stdout"
        },
        {
          "output_type": "stream",
          "text": [
            "48000/48000 [==============================] - 1s 22us/step - loss: 0.3429 - acc: 0.9047 - val_loss: 0.3246 - val_acc: 0.9115\n",
            "Epoch 33/200\n",
            "48000/48000 [==============================] - 1s 23us/step - loss: 0.3412 - acc: 0.9050 - val_loss: 0.3233 - val_acc: 0.9118\n",
            "Epoch 34/200\n",
            "48000/48000 [==============================] - 1s 23us/step - loss: 0.3396 - acc: 0.9057 - val_loss: 0.3220 - val_acc: 0.9119\n",
            "Epoch 35/200\n",
            "48000/48000 [==============================] - 1s 23us/step - loss: 0.3381 - acc: 0.9061 - val_loss: 0.3207 - val_acc: 0.9116\n",
            "Epoch 36/200\n",
            "48000/48000 [==============================] - 1s 22us/step - loss: 0.3366 - acc: 0.9061 - val_loss: 0.3196 - val_acc: 0.9127\n",
            "Epoch 37/200\n",
            "48000/48000 [==============================] - 1s 23us/step - loss: 0.3353 - acc: 0.9069 - val_loss: 0.3185 - val_acc: 0.9122\n",
            "Epoch 38/200\n",
            "48000/48000 [==============================] - 1s 23us/step - loss: 0.3339 - acc: 0.9067 - val_loss: 0.3173 - val_acc: 0.9123\n",
            "Epoch 39/200\n",
            "48000/48000 [==============================] - 1s 22us/step - loss: 0.3326 - acc: 0.9073 - val_loss: 0.3163 - val_acc: 0.9135\n",
            "Epoch 40/200\n",
            "10368/48000 [=====>........................] - ETA: 0s - loss: 0.3339 - acc: 0.9048"
          ],
          "name": "stdout"
        },
        {
          "output_type": "stream",
          "text": [
            "48000/48000 [==============================] - 1s 22us/step - loss: 0.3314 - acc: 0.9075 - val_loss: 0.3154 - val_acc: 0.9128\n",
            "Epoch 41/200\n",
            "48000/48000 [==============================] - 1s 23us/step - loss: 0.3301 - acc: 0.9079 - val_loss: 0.3145 - val_acc: 0.9133\n",
            "Epoch 42/200\n",
            "48000/48000 [==============================] - 1s 23us/step - loss: 0.3290 - acc: 0.9080 - val_loss: 0.3134 - val_acc: 0.9136\n",
            "Epoch 43/200\n",
            "48000/48000 [==============================] - 1s 23us/step - loss: 0.3279 - acc: 0.9085 - val_loss: 0.3126 - val_acc: 0.9143\n",
            "Epoch 44/200\n",
            "48000/48000 [==============================] - 1s 22us/step - loss: 0.3268 - acc: 0.9093 - val_loss: 0.3118 - val_acc: 0.9140\n",
            "Epoch 45/200\n",
            "48000/48000 [==============================] - 1s 23us/step - loss: 0.3258 - acc: 0.9091 - val_loss: 0.3109 - val_acc: 0.9148\n",
            "Epoch 46/200\n",
            "48000/48000 [==============================] - 1s 23us/step - loss: 0.3248 - acc: 0.9091 - val_loss: 0.3101 - val_acc: 0.9149\n",
            "Epoch 47/200\n",
            "48000/48000 [==============================] - 1s 22us/step - loss: 0.3237 - acc: 0.9096 - val_loss: 0.3093 - val_acc: 0.9152\n",
            "Epoch 48/200\n",
            "10240/48000 [=====>........................] - ETA: 0s - loss: 0.3225 - acc: 0.9065"
          ],
          "name": "stdout"
        },
        {
          "output_type": "stream",
          "text": [
            "48000/48000 [==============================] - 1s 23us/step - loss: 0.3228 - acc: 0.9096 - val_loss: 0.3085 - val_acc: 0.9153\n",
            "Epoch 49/200\n",
            "48000/48000 [==============================] - 1s 23us/step - loss: 0.3219 - acc: 0.9099 - val_loss: 0.3079 - val_acc: 0.9158\n",
            "Epoch 50/200\n",
            "48000/48000 [==============================] - 1s 23us/step - loss: 0.3210 - acc: 0.9106 - val_loss: 0.3072 - val_acc: 0.9153\n",
            "Epoch 51/200\n",
            "48000/48000 [==============================] - 1s 23us/step - loss: 0.3202 - acc: 0.9110 - val_loss: 0.3065 - val_acc: 0.9162\n",
            "Epoch 52/200\n",
            "48000/48000 [==============================] - 1s 23us/step - loss: 0.3193 - acc: 0.9110 - val_loss: 0.3059 - val_acc: 0.9157\n",
            "Epoch 53/200\n",
            "48000/48000 [==============================] - 1s 22us/step - loss: 0.3185 - acc: 0.9115 - val_loss: 0.3053 - val_acc: 0.9163\n",
            "Epoch 54/200\n",
            "48000/48000 [==============================] - 1s 22us/step - loss: 0.3178 - acc: 0.9114 - val_loss: 0.3047 - val_acc: 0.9161\n",
            "Epoch 55/200\n",
            "48000/48000 [==============================] - 1s 22us/step - loss: 0.3170 - acc: 0.9117 - val_loss: 0.3042 - val_acc: 0.9160\n",
            "Epoch 56/200\n",
            " 7552/48000 [===>..........................] - ETA: 0s - loss: 0.3307 - acc: 0.9084"
          ],
          "name": "stdout"
        },
        {
          "output_type": "stream",
          "text": [
            "48000/48000 [==============================] - 1s 23us/step - loss: 0.3162 - acc: 0.9118 - val_loss: 0.3034 - val_acc: 0.9163\n",
            "Epoch 57/200\n",
            "48000/48000 [==============================] - 1s 23us/step - loss: 0.3155 - acc: 0.9120 - val_loss: 0.3029 - val_acc: 0.9166\n",
            "Epoch 58/200\n",
            "48000/48000 [==============================] - 1s 22us/step - loss: 0.3148 - acc: 0.9123 - val_loss: 0.3023 - val_acc: 0.9166\n",
            "Epoch 59/200\n",
            "48000/48000 [==============================] - 1s 23us/step - loss: 0.3140 - acc: 0.9126 - val_loss: 0.3019 - val_acc: 0.9165\n",
            "Epoch 60/200\n",
            "48000/48000 [==============================] - 1s 23us/step - loss: 0.3134 - acc: 0.9129 - val_loss: 0.3013 - val_acc: 0.9171\n",
            "Epoch 61/200\n",
            "48000/48000 [==============================] - 1s 22us/step - loss: 0.3127 - acc: 0.9131 - val_loss: 0.3007 - val_acc: 0.9164\n",
            "Epoch 62/200\n",
            "48000/48000 [==============================] - 1s 23us/step - loss: 0.3121 - acc: 0.9134 - val_loss: 0.3002 - val_acc: 0.9176\n",
            "Epoch 63/200\n",
            "48000/48000 [==============================] - 1s 23us/step - loss: 0.3115 - acc: 0.9132 - val_loss: 0.2998 - val_acc: 0.9173\n",
            "Epoch 64/200\n",
            " 7808/48000 [===>..........................] - ETA: 0s - loss: 0.3053 - acc: 0.9155"
          ],
          "name": "stdout"
        },
        {
          "output_type": "stream",
          "text": [
            "48000/48000 [==============================] - 1s 22us/step - loss: 0.3108 - acc: 0.9136 - val_loss: 0.2993 - val_acc: 0.9176\n",
            "Epoch 65/200\n",
            "48000/48000 [==============================] - 1s 22us/step - loss: 0.3103 - acc: 0.9135 - val_loss: 0.2989 - val_acc: 0.9177\n",
            "Epoch 66/200\n",
            "48000/48000 [==============================] - 1s 23us/step - loss: 0.3096 - acc: 0.9140 - val_loss: 0.2985 - val_acc: 0.9184\n",
            "Epoch 67/200\n",
            "48000/48000 [==============================] - 1s 23us/step - loss: 0.3091 - acc: 0.9137 - val_loss: 0.2979 - val_acc: 0.9180\n",
            "Epoch 68/200\n",
            "48000/48000 [==============================] - 1s 22us/step - loss: 0.3085 - acc: 0.9142 - val_loss: 0.2976 - val_acc: 0.9181\n",
            "Epoch 69/200\n",
            "48000/48000 [==============================] - 1s 22us/step - loss: 0.3080 - acc: 0.9142 - val_loss: 0.2972 - val_acc: 0.9181\n",
            "Epoch 70/200\n",
            "48000/48000 [==============================] - 1s 23us/step - loss: 0.3074 - acc: 0.9146 - val_loss: 0.2967 - val_acc: 0.9185\n",
            "Epoch 71/200\n",
            "48000/48000 [==============================] - 1s 23us/step - loss: 0.3069 - acc: 0.9146 - val_loss: 0.2964 - val_acc: 0.9184\n",
            "Epoch 72/200\n",
            " 7936/48000 [===>..........................] - ETA: 0s - loss: 0.3080 - acc: 0.9171"
          ],
          "name": "stdout"
        },
        {
          "output_type": "stream",
          "text": [
            "48000/48000 [==============================] - 1s 22us/step - loss: 0.3064 - acc: 0.9146 - val_loss: 0.2959 - val_acc: 0.9188\n",
            "Epoch 73/200\n",
            "48000/48000 [==============================] - 1s 22us/step - loss: 0.3059 - acc: 0.9146 - val_loss: 0.2955 - val_acc: 0.9190\n",
            "Epoch 74/200\n",
            "48000/48000 [==============================] - 1s 23us/step - loss: 0.3054 - acc: 0.9152 - val_loss: 0.2952 - val_acc: 0.9189\n",
            "Epoch 75/200\n",
            "48000/48000 [==============================] - 1s 22us/step - loss: 0.3049 - acc: 0.9150 - val_loss: 0.2948 - val_acc: 0.9191\n",
            "Epoch 76/200\n",
            "48000/48000 [==============================] - 1s 22us/step - loss: 0.3044 - acc: 0.9150 - val_loss: 0.2945 - val_acc: 0.9189\n",
            "Epoch 77/200\n",
            "48000/48000 [==============================] - 1s 22us/step - loss: 0.3039 - acc: 0.9152 - val_loss: 0.2942 - val_acc: 0.9192\n",
            "Epoch 78/200\n",
            "48000/48000 [==============================] - 1s 23us/step - loss: 0.3035 - acc: 0.9154 - val_loss: 0.2938 - val_acc: 0.9193\n",
            "Epoch 79/200\n",
            "48000/48000 [==============================] - 1s 23us/step - loss: 0.3030 - acc: 0.9151 - val_loss: 0.2934 - val_acc: 0.9198\n",
            "Epoch 80/200\n",
            "10112/48000 [=====>........................] - ETA: 0s - loss: 0.2962 - acc: 0.9173"
          ],
          "name": "stdout"
        },
        {
          "output_type": "stream",
          "text": [
            "48000/48000 [==============================] - 1s 22us/step - loss: 0.3026 - acc: 0.9158 - val_loss: 0.2931 - val_acc: 0.9193\n",
            "Epoch 81/200\n",
            "48000/48000 [==============================] - 1s 23us/step - loss: 0.3021 - acc: 0.9156 - val_loss: 0.2928 - val_acc: 0.9195\n",
            "Epoch 82/200\n",
            "48000/48000 [==============================] - 1s 22us/step - loss: 0.3017 - acc: 0.9158 - val_loss: 0.2925 - val_acc: 0.9198\n",
            "Epoch 83/200\n",
            "48000/48000 [==============================] - 1s 22us/step - loss: 0.3013 - acc: 0.9161 - val_loss: 0.2922 - val_acc: 0.9195\n",
            "Epoch 84/200\n",
            "48000/48000 [==============================] - 1s 22us/step - loss: 0.3009 - acc: 0.9161 - val_loss: 0.2920 - val_acc: 0.9194\n",
            "Epoch 85/200\n",
            "48000/48000 [==============================] - 1s 23us/step - loss: 0.3005 - acc: 0.9159 - val_loss: 0.2916 - val_acc: 0.9199\n",
            "Epoch 86/200\n",
            "48000/48000 [==============================] - 1s 23us/step - loss: 0.3001 - acc: 0.9164 - val_loss: 0.2913 - val_acc: 0.9197\n",
            "Epoch 87/200\n",
            "48000/48000 [==============================] - 1s 22us/step - loss: 0.2997 - acc: 0.9165 - val_loss: 0.2911 - val_acc: 0.9197\n",
            "Epoch 88/200\n",
            "10368/48000 [=====>........................] - ETA: 0s - loss: 0.2970 - acc: 0.9157"
          ],
          "name": "stdout"
        },
        {
          "output_type": "stream",
          "text": [
            "48000/48000 [==============================] - 1s 22us/step - loss: 0.2993 - acc: 0.9165 - val_loss: 0.2907 - val_acc: 0.9199\n",
            "Epoch 89/200\n",
            "48000/48000 [==============================] - 1s 23us/step - loss: 0.2990 - acc: 0.9164 - val_loss: 0.2905 - val_acc: 0.9200\n",
            "Epoch 90/200\n",
            "48000/48000 [==============================] - 1s 23us/step - loss: 0.2986 - acc: 0.9167 - val_loss: 0.2903 - val_acc: 0.9199\n",
            "Epoch 91/200\n",
            "48000/48000 [==============================] - 1s 22us/step - loss: 0.2982 - acc: 0.9169 - val_loss: 0.2899 - val_acc: 0.9207\n",
            "Epoch 92/200\n",
            "48000/48000 [==============================] - 1s 23us/step - loss: 0.2978 - acc: 0.9170 - val_loss: 0.2897 - val_acc: 0.9203\n",
            "Epoch 93/200\n",
            "48000/48000 [==============================] - 1s 23us/step - loss: 0.2975 - acc: 0.9169 - val_loss: 0.2893 - val_acc: 0.9208\n",
            "Epoch 94/200\n",
            "48000/48000 [==============================] - 1s 22us/step - loss: 0.2971 - acc: 0.9171 - val_loss: 0.2892 - val_acc: 0.9203\n",
            "Epoch 95/200\n",
            "48000/48000 [==============================] - 1s 23us/step - loss: 0.2968 - acc: 0.9172 - val_loss: 0.2889 - val_acc: 0.9204\n",
            "Epoch 96/200\n",
            " 6528/48000 [===>..........................] - ETA: 1s - loss: 0.3074 - acc: 0.9156"
          ],
          "name": "stdout"
        },
        {
          "output_type": "stream",
          "text": [
            "48000/48000 [==============================] - 1s 22us/step - loss: 0.2964 - acc: 0.9172 - val_loss: 0.2887 - val_acc: 0.9207\n",
            "Epoch 97/200\n",
            "48000/48000 [==============================] - 1s 23us/step - loss: 0.2961 - acc: 0.9175 - val_loss: 0.2885 - val_acc: 0.9204\n",
            "Epoch 98/200\n",
            "48000/48000 [==============================] - 1s 23us/step - loss: 0.2958 - acc: 0.9176 - val_loss: 0.2881 - val_acc: 0.9210\n",
            "Epoch 99/200\n",
            "48000/48000 [==============================] - 1s 23us/step - loss: 0.2955 - acc: 0.9178 - val_loss: 0.2880 - val_acc: 0.9205\n",
            "Epoch 100/200\n",
            "48000/48000 [==============================] - 1s 22us/step - loss: 0.2951 - acc: 0.9177 - val_loss: 0.2878 - val_acc: 0.9207\n",
            "Epoch 101/200\n",
            "48000/48000 [==============================] - 1s 23us/step - loss: 0.2948 - acc: 0.9181 - val_loss: 0.2875 - val_acc: 0.9213\n",
            "Epoch 102/200\n",
            "48000/48000 [==============================] - 1s 23us/step - loss: 0.2945 - acc: 0.9182 - val_loss: 0.2873 - val_acc: 0.9207\n",
            "Epoch 103/200\n",
            "48000/48000 [==============================] - 1s 22us/step - loss: 0.2942 - acc: 0.9181 - val_loss: 0.2871 - val_acc: 0.9208\n",
            "Epoch 104/200\n",
            "12032/48000 [======>.......................] - ETA: 0s - loss: 0.2893 - acc: 0.9216"
          ],
          "name": "stdout"
        },
        {
          "output_type": "stream",
          "text": [
            "48000/48000 [==============================] - 1s 23us/step - loss: 0.2939 - acc: 0.9183 - val_loss: 0.2869 - val_acc: 0.9210\n",
            "Epoch 105/200\n",
            "48000/48000 [==============================] - 1s 23us/step - loss: 0.2936 - acc: 0.9183 - val_loss: 0.2867 - val_acc: 0.9212\n",
            "Epoch 106/200\n",
            "48000/48000 [==============================] - 1s 22us/step - loss: 0.2933 - acc: 0.9183 - val_loss: 0.2864 - val_acc: 0.9216\n",
            "Epoch 107/200\n",
            "48000/48000 [==============================] - 1s 22us/step - loss: 0.2930 - acc: 0.9186 - val_loss: 0.2863 - val_acc: 0.9209\n",
            "Epoch 108/200\n",
            "48000/48000 [==============================] - 1s 23us/step - loss: 0.2928 - acc: 0.9185 - val_loss: 0.2861 - val_acc: 0.9213\n",
            "Epoch 109/200\n",
            "48000/48000 [==============================] - 1s 23us/step - loss: 0.2924 - acc: 0.9187 - val_loss: 0.2859 - val_acc: 0.9215\n",
            "Epoch 110/200\n",
            "48000/48000 [==============================] - 1s 23us/step - loss: 0.2922 - acc: 0.9189 - val_loss: 0.2857 - val_acc: 0.9214\n",
            "Epoch 111/200\n",
            "48000/48000 [==============================] - 1s 22us/step - loss: 0.2919 - acc: 0.9189 - val_loss: 0.2854 - val_acc: 0.9213\n",
            "Epoch 112/200\n",
            " 7808/48000 [===>..........................] - ETA: 0s - loss: 0.3022 - acc: 0.9143"
          ],
          "name": "stdout"
        },
        {
          "output_type": "stream",
          "text": [
            "48000/48000 [==============================] - 1s 23us/step - loss: 0.2916 - acc: 0.9187 - val_loss: 0.2853 - val_acc: 0.9215\n",
            "Epoch 113/200\n",
            "48000/48000 [==============================] - 1s 22us/step - loss: 0.2914 - acc: 0.9192 - val_loss: 0.2850 - val_acc: 0.9218\n",
            "Epoch 114/200\n",
            "48000/48000 [==============================] - 1s 22us/step - loss: 0.2911 - acc: 0.9190 - val_loss: 0.2849 - val_acc: 0.9217\n",
            "Epoch 115/200\n",
            "48000/48000 [==============================] - 1s 23us/step - loss: 0.2908 - acc: 0.9190 - val_loss: 0.2848 - val_acc: 0.9218\n",
            "Epoch 116/200\n",
            "48000/48000 [==============================] - 1s 22us/step - loss: 0.2906 - acc: 0.9194 - val_loss: 0.2845 - val_acc: 0.9219\n",
            "Epoch 117/200\n",
            "48000/48000 [==============================] - 1s 22us/step - loss: 0.2903 - acc: 0.9193 - val_loss: 0.2844 - val_acc: 0.9216\n",
            "Epoch 118/200\n",
            "48000/48000 [==============================] - 1s 23us/step - loss: 0.2901 - acc: 0.9194 - val_loss: 0.2843 - val_acc: 0.9216\n",
            "Epoch 119/200\n",
            "48000/48000 [==============================] - 1s 22us/step - loss: 0.2898 - acc: 0.9194 - val_loss: 0.2841 - val_acc: 0.9216\n",
            "Epoch 120/200\n",
            " 7808/48000 [===>..........................] - ETA: 0s - loss: 0.2846 - acc: 0.9182"
          ],
          "name": "stdout"
        },
        {
          "output_type": "stream",
          "text": [
            "48000/48000 [==============================] - 1s 23us/step - loss: 0.2896 - acc: 0.9197 - val_loss: 0.2838 - val_acc: 0.9220\n",
            "Epoch 121/200\n",
            "48000/48000 [==============================] - 1s 22us/step - loss: 0.2893 - acc: 0.9197 - val_loss: 0.2838 - val_acc: 0.9215\n",
            "Epoch 122/200\n",
            "48000/48000 [==============================] - 1s 23us/step - loss: 0.2891 - acc: 0.9195 - val_loss: 0.2836 - val_acc: 0.9217\n",
            "Epoch 123/200\n",
            "48000/48000 [==============================] - 1s 23us/step - loss: 0.2888 - acc: 0.9195 - val_loss: 0.2834 - val_acc: 0.9216\n",
            "Epoch 124/200\n",
            "48000/48000 [==============================] - 1s 22us/step - loss: 0.2886 - acc: 0.9198 - val_loss: 0.2832 - val_acc: 0.9220\n",
            "Epoch 125/200\n",
            "48000/48000 [==============================] - 1s 23us/step - loss: 0.2883 - acc: 0.9199 - val_loss: 0.2831 - val_acc: 0.9219\n",
            "Epoch 126/200\n",
            "48000/48000 [==============================] - 1s 22us/step - loss: 0.2882 - acc: 0.9198 - val_loss: 0.2828 - val_acc: 0.9222\n",
            "Epoch 127/200\n",
            "48000/48000 [==============================] - 1s 23us/step - loss: 0.2879 - acc: 0.9200 - val_loss: 0.2827 - val_acc: 0.9219\n",
            "Epoch 128/200\n",
            " 7808/48000 [===>..........................] - ETA: 0s - loss: 0.2924 - acc: 0.9187"
          ],
          "name": "stdout"
        },
        {
          "output_type": "stream",
          "text": [
            "48000/48000 [==============================] - 1s 22us/step - loss: 0.2877 - acc: 0.9200 - val_loss: 0.2826 - val_acc: 0.9220\n",
            "Epoch 129/200\n",
            "48000/48000 [==============================] - 1s 22us/step - loss: 0.2875 - acc: 0.9200 - val_loss: 0.2824 - val_acc: 0.9224\n",
            "Epoch 130/200\n",
            "48000/48000 [==============================] - 1s 23us/step - loss: 0.2872 - acc: 0.9203 - val_loss: 0.2823 - val_acc: 0.9222\n",
            "Epoch 131/200\n",
            "48000/48000 [==============================] - 1s 23us/step - loss: 0.2870 - acc: 0.9200 - val_loss: 0.2822 - val_acc: 0.9223\n",
            "Epoch 132/200\n",
            "48000/48000 [==============================] - 1s 23us/step - loss: 0.2868 - acc: 0.9200 - val_loss: 0.2820 - val_acc: 0.9223\n",
            "Epoch 133/200\n",
            "48000/48000 [==============================] - 1s 23us/step - loss: 0.2866 - acc: 0.9201 - val_loss: 0.2819 - val_acc: 0.9220\n",
            "Epoch 134/200\n",
            "48000/48000 [==============================] - 1s 23us/step - loss: 0.2864 - acc: 0.9203 - val_loss: 0.2817 - val_acc: 0.9221\n",
            "Epoch 135/200\n",
            "48000/48000 [==============================] - 1s 23us/step - loss: 0.2862 - acc: 0.9204 - val_loss: 0.2816 - val_acc: 0.9220\n",
            "Epoch 136/200\n",
            "10368/48000 [=====>........................] - ETA: 0s - loss: 0.2823 - acc: 0.9243"
          ],
          "name": "stdout"
        },
        {
          "output_type": "stream",
          "text": [
            "48000/48000 [==============================] - 1s 22us/step - loss: 0.2860 - acc: 0.9205 - val_loss: 0.2814 - val_acc: 0.9223\n",
            "Epoch 137/200\n",
            "48000/48000 [==============================] - 1s 22us/step - loss: 0.2858 - acc: 0.9205 - val_loss: 0.2813 - val_acc: 0.9224\n",
            "Epoch 138/200\n",
            "48000/48000 [==============================] - 1s 22us/step - loss: 0.2856 - acc: 0.9205 - val_loss: 0.2812 - val_acc: 0.9225\n",
            "Epoch 139/200\n",
            "48000/48000 [==============================] - 1s 23us/step - loss: 0.2854 - acc: 0.9205 - val_loss: 0.2810 - val_acc: 0.9227\n",
            "Epoch 140/200\n",
            "48000/48000 [==============================] - 1s 23us/step - loss: 0.2852 - acc: 0.9210 - val_loss: 0.2809 - val_acc: 0.9225\n",
            "Epoch 141/200\n",
            "48000/48000 [==============================] - 1s 23us/step - loss: 0.2850 - acc: 0.9207 - val_loss: 0.2808 - val_acc: 0.9227\n",
            "Epoch 142/200\n",
            "48000/48000 [==============================] - 1s 23us/step - loss: 0.2848 - acc: 0.9207 - val_loss: 0.2807 - val_acc: 0.9224\n",
            "Epoch 143/200\n",
            "48000/48000 [==============================] - 1s 23us/step - loss: 0.2846 - acc: 0.9209 - val_loss: 0.2806 - val_acc: 0.9226\n",
            "Epoch 144/200\n",
            " 5120/48000 [==>...........................] - ETA: 0s - loss: 0.2844 - acc: 0.9256"
          ],
          "name": "stdout"
        },
        {
          "output_type": "stream",
          "text": [
            "48000/48000 [==============================] - 1s 23us/step - loss: 0.2844 - acc: 0.9210 - val_loss: 0.2804 - val_acc: 0.9227\n",
            "Epoch 145/200\n",
            "48000/48000 [==============================] - 1s 23us/step - loss: 0.2842 - acc: 0.9209 - val_loss: 0.2803 - val_acc: 0.9227\n",
            "Epoch 146/200\n",
            "48000/48000 [==============================] - 1s 24us/step - loss: 0.2840 - acc: 0.9210 - val_loss: 0.2801 - val_acc: 0.9227\n",
            "Epoch 147/200\n",
            "48000/48000 [==============================] - 1s 22us/step - loss: 0.2839 - acc: 0.9213 - val_loss: 0.2800 - val_acc: 0.9225\n",
            "Epoch 148/200\n",
            "48000/48000 [==============================] - 1s 22us/step - loss: 0.2837 - acc: 0.9210 - val_loss: 0.2800 - val_acc: 0.9231\n",
            "Epoch 149/200\n",
            "48000/48000 [==============================] - 1s 23us/step - loss: 0.2835 - acc: 0.9211 - val_loss: 0.2799 - val_acc: 0.9224\n",
            "Epoch 150/200\n",
            "48000/48000 [==============================] - 1s 22us/step - loss: 0.2833 - acc: 0.9214 - val_loss: 0.2797 - val_acc: 0.9231\n",
            "Epoch 151/200\n",
            "48000/48000 [==============================] - 1s 22us/step - loss: 0.2831 - acc: 0.9212 - val_loss: 0.2798 - val_acc: 0.9231\n",
            "Epoch 152/200\n",
            " 7552/48000 [===>..........................] - ETA: 0s - loss: 0.2881 - acc: 0.9216"
          ],
          "name": "stdout"
        },
        {
          "output_type": "stream",
          "text": [
            "48000/48000 [==============================] - 1s 23us/step - loss: 0.2830 - acc: 0.9212 - val_loss: 0.2795 - val_acc: 0.9227\n",
            "Epoch 153/200\n",
            "48000/48000 [==============================] - 1s 23us/step - loss: 0.2828 - acc: 0.9211 - val_loss: 0.2794 - val_acc: 0.9227\n",
            "Epoch 154/200\n",
            "48000/48000 [==============================] - 1s 24us/step - loss: 0.2826 - acc: 0.9212 - val_loss: 0.2793 - val_acc: 0.9225\n",
            "Epoch 155/200\n",
            "48000/48000 [==============================] - 1s 23us/step - loss: 0.2824 - acc: 0.9216 - val_loss: 0.2792 - val_acc: 0.9230\n",
            "Epoch 156/200\n",
            "48000/48000 [==============================] - 1s 23us/step - loss: 0.2823 - acc: 0.9214 - val_loss: 0.2791 - val_acc: 0.9232\n",
            "Epoch 157/200\n",
            "48000/48000 [==============================] - 1s 23us/step - loss: 0.2821 - acc: 0.9217 - val_loss: 0.2790 - val_acc: 0.9227\n",
            "Epoch 158/200\n",
            "48000/48000 [==============================] - 1s 23us/step - loss: 0.2819 - acc: 0.9215 - val_loss: 0.2788 - val_acc: 0.9231\n",
            "Epoch 159/200\n",
            "48000/48000 [==============================] - 1s 23us/step - loss: 0.2818 - acc: 0.9215 - val_loss: 0.2787 - val_acc: 0.9228\n",
            "Epoch 160/200\n",
            " 5120/48000 [==>...........................] - ETA: 0s - loss: 0.2816 - acc: 0.9201"
          ],
          "name": "stdout"
        },
        {
          "output_type": "stream",
          "text": [
            "48000/48000 [==============================] - 1s 22us/step - loss: 0.2816 - acc: 0.9215 - val_loss: 0.2786 - val_acc: 0.9231\n",
            "Epoch 161/200\n",
            "48000/48000 [==============================] - 1s 22us/step - loss: 0.2814 - acc: 0.9217 - val_loss: 0.2785 - val_acc: 0.9231\n",
            "Epoch 162/200\n",
            "48000/48000 [==============================] - 1s 23us/step - loss: 0.2812 - acc: 0.9218 - val_loss: 0.2784 - val_acc: 0.9231\n",
            "Epoch 163/200\n",
            "48000/48000 [==============================] - 1s 23us/step - loss: 0.2811 - acc: 0.9219 - val_loss: 0.2783 - val_acc: 0.9232\n",
            "Epoch 164/200\n",
            "48000/48000 [==============================] - 1s 23us/step - loss: 0.2809 - acc: 0.9218 - val_loss: 0.2783 - val_acc: 0.9233\n",
            "Epoch 165/200\n",
            "48000/48000 [==============================] - 1s 23us/step - loss: 0.2808 - acc: 0.9220 - val_loss: 0.2782 - val_acc: 0.9235\n",
            "Epoch 166/200\n",
            "48000/48000 [==============================] - 1s 23us/step - loss: 0.2806 - acc: 0.9219 - val_loss: 0.2780 - val_acc: 0.9232\n",
            "Epoch 167/200\n",
            "48000/48000 [==============================] - 1s 22us/step - loss: 0.2805 - acc: 0.9218 - val_loss: 0.2779 - val_acc: 0.9233\n",
            "Epoch 168/200\n",
            " 7552/48000 [===>..........................] - ETA: 0s - loss: 0.2771 - acc: 0.9249"
          ],
          "name": "stdout"
        },
        {
          "output_type": "stream",
          "text": [
            "48000/48000 [==============================] - 1s 24us/step - loss: 0.2803 - acc: 0.9222 - val_loss: 0.2779 - val_acc: 0.9231\n",
            "Epoch 169/200\n",
            "48000/48000 [==============================] - 1s 23us/step - loss: 0.2802 - acc: 0.9221 - val_loss: 0.2778 - val_acc: 0.9232\n",
            "Epoch 170/200\n",
            "48000/48000 [==============================] - 1s 23us/step - loss: 0.2800 - acc: 0.9222 - val_loss: 0.2778 - val_acc: 0.9231\n",
            "Epoch 171/200\n",
            "48000/48000 [==============================] - 1s 24us/step - loss: 0.2799 - acc: 0.9223 - val_loss: 0.2776 - val_acc: 0.9236\n",
            "Epoch 172/200\n",
            "48000/48000 [==============================] - 1s 22us/step - loss: 0.2797 - acc: 0.9223 - val_loss: 0.2775 - val_acc: 0.9231\n",
            "Epoch 173/200\n",
            "48000/48000 [==============================] - 1s 22us/step - loss: 0.2796 - acc: 0.9223 - val_loss: 0.2775 - val_acc: 0.9236\n",
            "Epoch 174/200\n",
            "48000/48000 [==============================] - 1s 23us/step - loss: 0.2794 - acc: 0.9223 - val_loss: 0.2774 - val_acc: 0.9232\n",
            "Epoch 175/200\n",
            "48000/48000 [==============================] - 1s 23us/step - loss: 0.2793 - acc: 0.9223 - val_loss: 0.2772 - val_acc: 0.9238\n",
            "Epoch 176/200\n",
            " 2560/48000 [>.............................] - ETA: 1s - loss: 0.2832 - acc: 0.9156"
          ],
          "name": "stdout"
        },
        {
          "output_type": "stream",
          "text": [
            "48000/48000 [==============================] - 1s 23us/step - loss: 0.2791 - acc: 0.9226 - val_loss: 0.2772 - val_acc: 0.9237\n",
            "Epoch 177/200\n",
            "48000/48000 [==============================] - 1s 23us/step - loss: 0.2790 - acc: 0.9223 - val_loss: 0.2772 - val_acc: 0.9232\n",
            "Epoch 178/200\n",
            "48000/48000 [==============================] - 1s 22us/step - loss: 0.2789 - acc: 0.9227 - val_loss: 0.2770 - val_acc: 0.9235\n",
            "Epoch 179/200\n",
            "48000/48000 [==============================] - 1s 22us/step - loss: 0.2787 - acc: 0.9226 - val_loss: 0.2769 - val_acc: 0.9236\n",
            "Epoch 180/200\n",
            "48000/48000 [==============================] - 1s 22us/step - loss: 0.2786 - acc: 0.9226 - val_loss: 0.2768 - val_acc: 0.9236\n",
            "Epoch 181/200\n",
            "48000/48000 [==============================] - 1s 22us/step - loss: 0.2785 - acc: 0.9228 - val_loss: 0.2767 - val_acc: 0.9233\n",
            "Epoch 182/200\n",
            "48000/48000 [==============================] - 1s 23us/step - loss: 0.2783 - acc: 0.9225 - val_loss: 0.2766 - val_acc: 0.9238\n",
            "Epoch 183/200\n",
            "48000/48000 [==============================] - 1s 22us/step - loss: 0.2782 - acc: 0.9226 - val_loss: 0.2765 - val_acc: 0.9237\n",
            "Epoch 184/200\n",
            " 2688/48000 [>.............................] - ETA: 1s - loss: 0.2885 - acc: 0.9226"
          ],
          "name": "stdout"
        },
        {
          "output_type": "stream",
          "text": [
            "48000/48000 [==============================] - 1s 23us/step - loss: 0.2780 - acc: 0.9225 - val_loss: 0.2765 - val_acc: 0.9232\n",
            "Epoch 185/200\n",
            "48000/48000 [==============================] - 1s 23us/step - loss: 0.2779 - acc: 0.9228 - val_loss: 0.2764 - val_acc: 0.9235\n",
            "Epoch 186/200\n",
            "48000/48000 [==============================] - 1s 22us/step - loss: 0.2778 - acc: 0.9231 - val_loss: 0.2764 - val_acc: 0.9233\n",
            "Epoch 187/200\n",
            "48000/48000 [==============================] - 1s 24us/step - loss: 0.2776 - acc: 0.9226 - val_loss: 0.2763 - val_acc: 0.9237\n",
            "Epoch 188/200\n",
            "48000/48000 [==============================] - 1s 22us/step - loss: 0.2775 - acc: 0.9229 - val_loss: 0.2762 - val_acc: 0.9240\n",
            "Epoch 189/200\n",
            "48000/48000 [==============================] - 1s 22us/step - loss: 0.2774 - acc: 0.9227 - val_loss: 0.2761 - val_acc: 0.9233\n",
            "Epoch 190/200\n",
            "48000/48000 [==============================] - 1s 22us/step - loss: 0.2772 - acc: 0.9230 - val_loss: 0.2761 - val_acc: 0.9234\n",
            "Epoch 191/200\n",
            "48000/48000 [==============================] - 1s 23us/step - loss: 0.2771 - acc: 0.9228 - val_loss: 0.2759 - val_acc: 0.9240\n",
            "Epoch 192/200\n",
            "10112/48000 [=====>........................] - ETA: 0s - loss: 0.2732 - acc: 0.9253"
          ],
          "name": "stdout"
        },
        {
          "output_type": "stream",
          "text": [
            "48000/48000 [==============================] - 1s 23us/step - loss: 0.2770 - acc: 0.9231 - val_loss: 0.2759 - val_acc: 0.9231\n",
            "Epoch 193/200\n",
            "48000/48000 [==============================] - 1s 22us/step - loss: 0.2768 - acc: 0.9233 - val_loss: 0.2759 - val_acc: 0.9233\n",
            "Epoch 194/200\n",
            "48000/48000 [==============================] - 1s 22us/step - loss: 0.2767 - acc: 0.9229 - val_loss: 0.2758 - val_acc: 0.9241\n",
            "Epoch 195/200\n",
            "48000/48000 [==============================] - 1s 22us/step - loss: 0.2766 - acc: 0.9230 - val_loss: 0.2757 - val_acc: 0.9237\n",
            "Epoch 196/200\n",
            "48000/48000 [==============================] - 1s 22us/step - loss: 0.2765 - acc: 0.9232 - val_loss: 0.2756 - val_acc: 0.9237\n",
            "Epoch 197/200\n",
            "48000/48000 [==============================] - 1s 23us/step - loss: 0.2764 - acc: 0.9233 - val_loss: 0.2756 - val_acc: 0.9233\n",
            "Epoch 198/200\n",
            "48000/48000 [==============================] - 1s 22us/step - loss: 0.2762 - acc: 0.9229 - val_loss: 0.2754 - val_acc: 0.9242\n",
            "Epoch 199/200\n",
            "48000/48000 [==============================] - 1s 23us/step - loss: 0.2761 - acc: 0.9235 - val_loss: 0.2754 - val_acc: 0.9237\n",
            "Epoch 200/200\n",
            "10496/48000 [=====>........................] - ETA: 0s - loss: 0.2656 - acc: 0.9241"
          ],
          "name": "stdout"
        },
        {
          "output_type": "stream",
          "text": [
            "48000/48000 [==============================] - 1s 22us/step - loss: 0.2760 - acc: 0.9232 - val_loss: 0.2752 - val_acc: 0.9238\n"
          ],
          "name": "stdout"
        }
      ]
    },
    {
      "metadata": {
        "id": "HRU5FkTIHw5O",
        "colab_type": "code",
        "colab": {
          "autoexec": {
            "startup": false,
            "wait_interval": 0
          },
          "output_extras": [
            {
              "item_id": 2
            }
          ],
          "base_uri": "https://localhost:8080/",
          "height": 68
        },
        "outputId": "2870202f-684c-426d-8de8-2a47828326ef",
        "executionInfo": {
          "status": "ok",
          "timestamp": 1519493044215,
          "user_tz": -60,
          "elapsed": 700,
          "user": {
            "displayName": "Javier Estraviz",
            "photoUrl": "//lh3.googleusercontent.com/-VNHsm9RTmpU/AAAAAAAAAAI/AAAAAAAAGLU/zl5Qs4mSSaM/s50-c-k-no/photo.jpg",
            "userId": "117041449029631631280"
          }
        }
      },
      "cell_type": "code",
      "source": [
        "score = model.evaluate(X_test, Y_test, verbose=VERBOSE)\n",
        "\n",
        "print(\"Test score: \", score[0])\n",
        "print(\"Test accuracy: \", score[1])"
      ],
      "execution_count": 58,
      "outputs": [
        {
          "output_type": "stream",
          "text": [
            "10000/10000 [==============================] - 0s 23us/step\n",
            "('Test score: ', 0.27685544392764566)\n",
            "('Test accuracy: ', 0.9225)\n"
          ],
          "name": "stdout"
        }
      ]
    }
  ]
}