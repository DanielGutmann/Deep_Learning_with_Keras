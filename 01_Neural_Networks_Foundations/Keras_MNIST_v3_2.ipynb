{
  "nbformat": 4,
  "nbformat_minor": 0,
  "metadata": {
    "colab": {
      "name": "Keras_MNIST_v3-2.ipynb",
      "version": "0.3.2",
      "views": {},
      "default_view": {},
      "provenance": [
        {
          "file_id": "1MKLl7klLVkshxOx516omiBktGN5XvVqU",
          "timestamp": 1519518287470
        },
        {
          "file_id": "1iUzfluSOOh0seHK5b-zu82Z-IrzQQKrT",
          "timestamp": 1519516616131
        },
        {
          "file_id": "1QOJ-5lgMDmP0QkMamDkpA43kpSoIko7N",
          "timestamp": 1519494277120
        }
      ],
      "collapsed_sections": [],
      "toc_visible": true
    },
    "kernelspec": {
      "name": "python3",
      "display_name": "Python 3"
    }
  },
  "cells": [
    {
      "metadata": {
        "id": "toN6oOtaze99",
        "colab_type": "text"
      },
      "cell_type": "markdown",
      "source": [
        "# MNIST database of handwritten digits. 2nd version of a Keras Neural Network (2 hidden layers with Dropout, but 250 iterations). Graphs for accuracy and loss."
      ]
    },
    {
      "metadata": {
        "id": "jyxgCqS70PJh",
        "colab_type": "text"
      },
      "cell_type": "markdown",
      "source": [
        "## http://yann.lecun.com/exdb/mnist/"
      ]
    },
    {
      "metadata": {
        "id": "GlZ2cEE06gFq",
        "colab_type": "code",
        "colab": {
          "autoexec": {
            "startup": false,
            "wait_interval": 0
          }
        }
      },
      "cell_type": "code",
      "source": [
        "# https://keras.io/\n",
        "!pip install -q keras\n",
        "import keras"
      ],
      "execution_count": 0,
      "outputs": []
    },
    {
      "metadata": {
        "id": "-HMmRIi3X9E4",
        "colab_type": "code",
        "colab": {
          "autoexec": {
            "startup": false,
            "wait_interval": 0
          }
        }
      },
      "cell_type": "code",
      "source": [
        "import numpy as np\n",
        "from keras.datasets import mnist\n",
        "from keras.models import Sequential\n",
        "from keras.layers.core import Dense, Dropout, Activation\n",
        "from keras.optimizers import SGD\n",
        "from keras.utils import np_utils\n",
        "\n",
        "import matplotlib.pyplot as plt"
      ],
      "execution_count": 0,
      "outputs": []
    },
    {
      "metadata": {
        "id": "q2TVfWsvu5__",
        "colab_type": "code",
        "colab": {
          "autoexec": {
            "startup": false,
            "wait_interval": 0
          }
        }
      },
      "cell_type": "code",
      "source": [
        "# for reproducibility\n",
        "np.random.seed(123)"
      ],
      "execution_count": 0,
      "outputs": []
    },
    {
      "metadata": {
        "id": "Q16udZx0wtOs",
        "colab_type": "code",
        "colab": {
          "autoexec": {
            "startup": false,
            "wait_interval": 0
          }
        }
      },
      "cell_type": "code",
      "source": [
        "# network and training\n",
        "NB_EPOCH = 250 # number of iterations increased to 250\n",
        "BATCH_SIZE = 128\n",
        "VERBOSE = 1\n",
        "NB_CLASSES = 10 # number of outputs = number of digits\n",
        "OPTIMIZER = SGD() # Stochastic Gradient Descent optimizer\n",
        "N_HIDDEN = 128 # number of neurons in each hidden layer\n",
        "VALIDATION_SPLIT = 0.2 # how much train is reserved fro validation\n",
        "DROPOUT = 0.3 # Way to prevent overfitting, way of regularization"
      ],
      "execution_count": 0,
      "outputs": []
    },
    {
      "metadata": {
        "id": "qw2n91TAzxz4",
        "colab_type": "code",
        "colab": {
          "autoexec": {
            "startup": false,
            "wait_interval": 0
          }
        }
      },
      "cell_type": "code",
      "source": [
        "# data shuffled and split between train and test sets\n",
        "(X_train, y_train), (X_test, y_test) = mnist.load_data()"
      ],
      "execution_count": 0,
      "outputs": []
    },
    {
      "metadata": {
        "id": "PDDqwK9S0BxE",
        "colab_type": "code",
        "colab": {
          "autoexec": {
            "startup": false,
            "wait_interval": 0
          },
          "output_extras": [
            {
              "item_id": 1
            }
          ],
          "base_uri": "https://localhost:8080/",
          "height": 34
        },
        "outputId": "c2589f6e-0843-4c3a-87cf-a10b15911246",
        "executionInfo": {
          "status": "ok",
          "timestamp": 1519519104611,
          "user_tz": -60,
          "elapsed": 447,
          "user": {
            "displayName": "Javier Estraviz",
            "photoUrl": "//lh3.googleusercontent.com/-VNHsm9RTmpU/AAAAAAAAAAI/AAAAAAAAGLU/zl5Qs4mSSaM/s50-c-k-no/photo.jpg",
            "userId": "117041449029631631280"
          }
        }
      },
      "cell_type": "code",
      "source": [
        "X_train.shape # X_train is 60000 rows of 28x28 values "
      ],
      "execution_count": 33,
      "outputs": [
        {
          "output_type": "execute_result",
          "data": {
            "text/plain": [
              "(60000, 28, 28)"
            ]
          },
          "metadata": {
            "tags": []
          },
          "execution_count": 33
        }
      ]
    },
    {
      "metadata": {
        "id": "cKsi2qoo0GYN",
        "colab_type": "code",
        "colab": {
          "autoexec": {
            "startup": false,
            "wait_interval": 0
          }
        }
      },
      "cell_type": "code",
      "source": [
        "# X_train to be reshaped in 60000x784\n",
        "RESHAPED = 784 # number of neurons\n",
        "\n",
        "X_train = X_train.reshape(60000, RESHAPED)\n",
        "X_test = X_test.reshape(10000, RESHAPED)\n",
        "X_train = X_train.astype('float32')\n",
        "X_test = X_test.astype('float32')"
      ],
      "execution_count": 0,
      "outputs": []
    },
    {
      "metadata": {
        "id": "_-JcMJY80cTb",
        "colab_type": "code",
        "colab": {
          "autoexec": {
            "startup": false,
            "wait_interval": 0
          },
          "output_extras": [
            {
              "item_id": 1
            }
          ],
          "base_uri": "https://localhost:8080/",
          "height": 51
        },
        "outputId": "6dea5d1c-86d2-4320-fdaa-e60ce1ab06db",
        "executionInfo": {
          "status": "ok",
          "timestamp": 1519519106268,
          "user_tz": -60,
          "elapsed": 452,
          "user": {
            "displayName": "Javier Estraviz",
            "photoUrl": "//lh3.googleusercontent.com/-VNHsm9RTmpU/AAAAAAAAAAI/AAAAAAAAGLU/zl5Qs4mSSaM/s50-c-k-no/photo.jpg",
            "userId": "117041449029631631280"
          }
        }
      },
      "cell_type": "code",
      "source": [
        "# normalize \n",
        "X_train /= 255\n",
        "X_test /= 255\n",
        "\n",
        "print(X_train.shape[0], 'training set')\n",
        "print(X_test.shape[0], 'testing set')"
      ],
      "execution_count": 35,
      "outputs": [
        {
          "output_type": "stream",
          "text": [
            "60000 training set\n",
            "10000 testing set\n"
          ],
          "name": "stdout"
        }
      ]
    },
    {
      "metadata": {
        "id": "8fn741JM1La1",
        "colab_type": "code",
        "colab": {
          "autoexec": {
            "startup": false,
            "wait_interval": 0
          }
        }
      },
      "cell_type": "code",
      "source": [
        "# convert class vectors to binary class matrices\n",
        "Y_train = np_utils.to_categorical(y_train, NB_CLASSES)\n",
        "Y_test = np_utils.to_categorical(y_test, NB_CLASSES)"
      ],
      "execution_count": 0,
      "outputs": []
    },
    {
      "metadata": {
        "id": "Pf3D-c0BDv_z",
        "colab_type": "code",
        "colab": {
          "autoexec": {
            "startup": false,
            "wait_interval": 0
          }
        }
      },
      "cell_type": "code",
      "source": [
        "# Define the Sequential model or linear stack of layers\n",
        "model = Sequential()\n",
        "\n",
        "# 1st hidden layer\n",
        "model.add(Dense(N_HIDDEN, input_shape=(RESHAPED,)))\n",
        "model.add(Activation('relu'))\n",
        "model.add(Dropout(DROPOUT))\n",
        "\n",
        "# 2nd hidden layer\n",
        "model.add(Dense(N_HIDDEN))\n",
        "model.add(Activation('relu'))\n",
        "model.add(Dropout(DROPOUT))\n",
        "\n",
        "# Output layer with 10 neurons\n",
        "model.add(Dense(NB_CLASSES))\n",
        "model.add(Activation('softmax'))"
      ],
      "execution_count": 0,
      "outputs": []
    },
    {
      "metadata": {
        "id": "QDp0fZLvF3Ay",
        "colab_type": "code",
        "colab": {
          "autoexec": {
            "startup": false,
            "wait_interval": 0
          },
          "output_extras": [
            {
              "item_id": 1
            }
          ],
          "base_uri": "https://localhost:8080/",
          "height": 408
        },
        "outputId": "1f932380-d096-4cce-ae1c-c0e9f4e66b8a",
        "executionInfo": {
          "status": "ok",
          "timestamp": 1519519108626,
          "user_tz": -60,
          "elapsed": 462,
          "user": {
            "displayName": "Javier Estraviz",
            "photoUrl": "//lh3.googleusercontent.com/-VNHsm9RTmpU/AAAAAAAAAAI/AAAAAAAAGLU/zl5Qs4mSSaM/s50-c-k-no/photo.jpg",
            "userId": "117041449029631631280"
          }
        }
      },
      "cell_type": "code",
      "source": [
        "model.summary()"
      ],
      "execution_count": 38,
      "outputs": [
        {
          "output_type": "stream",
          "text": [
            "_________________________________________________________________\n",
            "Layer (type)                 Output Shape              Param #   \n",
            "=================================================================\n",
            "dense_7 (Dense)              (None, 128)               100480    \n",
            "_________________________________________________________________\n",
            "activation_7 (Activation)    (None, 128)               0         \n",
            "_________________________________________________________________\n",
            "dropout_5 (Dropout)          (None, 128)               0         \n",
            "_________________________________________________________________\n",
            "dense_8 (Dense)              (None, 128)               16512     \n",
            "_________________________________________________________________\n",
            "activation_8 (Activation)    (None, 128)               0         \n",
            "_________________________________________________________________\n",
            "dropout_6 (Dropout)          (None, 128)               0         \n",
            "_________________________________________________________________\n",
            "dense_9 (Dense)              (None, 10)                1290      \n",
            "_________________________________________________________________\n",
            "activation_9 (Activation)    (None, 10)                0         \n",
            "=================================================================\n",
            "Total params: 118,282\n",
            "Trainable params: 118,282\n",
            "Non-trainable params: 0\n",
            "_________________________________________________________________\n"
          ],
          "name": "stdout"
        }
      ]
    },
    {
      "metadata": {
        "id": "djKhTvbjF-wX",
        "colab_type": "code",
        "colab": {
          "autoexec": {
            "startup": false,
            "wait_interval": 0
          }
        }
      },
      "cell_type": "code",
      "source": [
        "model.compile(loss='categorical_crossentropy', \n",
        "              optimizer=OPTIMIZER, \n",
        "              metrics=['accuracy'])"
      ],
      "execution_count": 0,
      "outputs": []
    },
    {
      "metadata": {
        "id": "olXjLZrCHh6Q",
        "colab_type": "code",
        "colab": {
          "autoexec": {
            "startup": false,
            "wait_interval": 0
          },
          "output_extras": [
            {
              "item_id": 53
            },
            {
              "item_id": 102
            },
            {
              "item_id": 155
            },
            {
              "item_id": 170
            },
            {
              "item_id": 184
            },
            {
              "item_id": 198
            },
            {
              "item_id": 213
            },
            {
              "item_id": 228
            },
            {
              "item_id": 242
            },
            {
              "item_id": 257
            },
            {
              "item_id": 272
            },
            {
              "item_id": 287
            },
            {
              "item_id": 302
            },
            {
              "item_id": 317
            },
            {
              "item_id": 331
            },
            {
              "item_id": 346
            },
            {
              "item_id": 361
            },
            {
              "item_id": 376
            },
            {
              "item_id": 390
            },
            {
              "item_id": 405
            },
            {
              "item_id": 420
            },
            {
              "item_id": 435
            },
            {
              "item_id": 450
            },
            {
              "item_id": 465
            },
            {
              "item_id": 479
            },
            {
              "item_id": 493
            },
            {
              "item_id": 507
            },
            {
              "item_id": 522
            },
            {
              "item_id": 536
            },
            {
              "item_id": 551
            },
            {
              "item_id": 566
            },
            {
              "item_id": 580
            },
            {
              "item_id": 594
            },
            {
              "item_id": 608
            },
            {
              "item_id": 623
            },
            {
              "item_id": 637
            },
            {
              "item_id": 651
            },
            {
              "item_id": 666
            },
            {
              "item_id": 680
            },
            {
              "item_id": 695
            },
            {
              "item_id": 709
            },
            {
              "item_id": 724
            },
            {
              "item_id": 739
            },
            {
              "item_id": 754
            },
            {
              "item_id": 768
            },
            {
              "item_id": 783
            },
            {
              "item_id": 825
            },
            {
              "item_id": 872
            },
            {
              "item_id": 918
            },
            {
              "item_id": 963
            },
            {
              "item_id": 970
            }
          ],
          "base_uri": "https://localhost:8080/",
          "height": 8534
        },
        "outputId": "e921a0b5-d700-4724-a8ad-338b4f2e2e75",
        "executionInfo": {
          "status": "ok",
          "timestamp": 1519519794624,
          "user_tz": -60,
          "elapsed": 685107,
          "user": {
            "displayName": "Javier Estraviz",
            "photoUrl": "//lh3.googleusercontent.com/-VNHsm9RTmpU/AAAAAAAAAAI/AAAAAAAAGLU/zl5Qs4mSSaM/s50-c-k-no/photo.jpg",
            "userId": "117041449029631631280"
          }
        }
      },
      "cell_type": "code",
      "source": [
        "history = model.fit(X_train, Y_train, batch_size=BATCH_SIZE, epochs=NB_EPOCH, verbose=VERBOSE, validation_split=VALIDATION_SPLIT)"
      ],
      "execution_count": 40,
      "outputs": [
        {
          "output_type": "stream",
          "text": [
            "Train on 48000 samples, validate on 12000 samples\n",
            "Epoch 1/250\n",
            "48000/48000 [==============================] - 3s 55us/step - loss: 1.7408 - acc: 0.4499 - val_loss: 0.9299 - val_acc: 0.8175\n",
            "Epoch 2/250\n",
            "48000/48000 [==============================] - 3s 56us/step - loss: 0.9368 - acc: 0.7119 - val_loss: 0.5409 - val_acc: 0.8687\n",
            "Epoch 3/250\n",
            "48000/48000 [==============================] - 3s 55us/step - loss: 0.7120 - acc: 0.7795 - val_loss: 0.4328 - val_acc: 0.8883\n",
            "Epoch 4/250\n",
            "48000/48000 [==============================] - 3s 56us/step - loss: 0.6023 - acc: 0.8165 - val_loss: 0.3787 - val_acc: 0.8980\n",
            "Epoch 5/250\n",
            "47744/48000 [============================>.] - ETA: 0s - loss: 0.5400 - acc: 0.8378"
          ],
          "name": "stdout"
        },
        {
          "output_type": "stream",
          "text": [
            "48000/48000 [==============================] - 3s 57us/step - loss: 0.5396 - acc: 0.8379 - val_loss: 0.3465 - val_acc: 0.9048\n",
            "Epoch 6/250\n",
            "48000/48000 [==============================] - 3s 59us/step - loss: 0.5033 - acc: 0.8501 - val_loss: 0.3218 - val_acc: 0.9107\n",
            "Epoch 7/250\n",
            "48000/48000 [==============================] - 3s 59us/step - loss: 0.4685 - acc: 0.8601 - val_loss: 0.3034 - val_acc: 0.9147\n",
            "Epoch 8/250\n",
            "48000/48000 [==============================] - 3s 59us/step - loss: 0.4404 - acc: 0.8696 - val_loss: 0.2885 - val_acc: 0.9179\n",
            "Epoch 9/250\n",
            "48000/48000 [==============================] - 3s 58us/step - loss: 0.4161 - acc: 0.8777 - val_loss: 0.2747 - val_acc: 0.9212\n",
            "Epoch 10/250\n",
            "16000/48000 [=========>....................] - ETA: 1s - loss: 0.4092 - acc: 0.8786"
          ],
          "name": "stdout"
        },
        {
          "output_type": "stream",
          "text": [
            "48000/48000 [==============================] - 3s 58us/step - loss: 0.3992 - acc: 0.8818 - val_loss: 0.2652 - val_acc: 0.9234\n",
            "Epoch 11/250\n",
            "48000/48000 [==============================] - 3s 56us/step - loss: 0.3808 - acc: 0.8889 - val_loss: 0.2542 - val_acc: 0.9253\n",
            "Epoch 12/250\n",
            "48000/48000 [==============================] - 3s 58us/step - loss: 0.3697 - acc: 0.8907 - val_loss: 0.2462 - val_acc: 0.9280\n",
            "Epoch 13/250\n",
            "48000/48000 [==============================] - 3s 55us/step - loss: 0.3546 - acc: 0.8956 - val_loss: 0.2386 - val_acc: 0.9294\n",
            "Epoch 14/250\n",
            "48000/48000 [==============================] - 3s 56us/step - loss: 0.3466 - acc: 0.8993 - val_loss: 0.2306 - val_acc: 0.9319\n",
            "Epoch 15/250\n",
            "16896/48000 [=========>....................] - ETA: 1s - loss: 0.3408 - acc: 0.8980"
          ],
          "name": "stdout"
        },
        {
          "output_type": "stream",
          "text": [
            "48000/48000 [==============================] - 3s 59us/step - loss: 0.3331 - acc: 0.9010 - val_loss: 0.2242 - val_acc: 0.9334\n",
            "Epoch 16/250\n",
            "48000/48000 [==============================] - 3s 59us/step - loss: 0.3255 - acc: 0.9044 - val_loss: 0.2185 - val_acc: 0.9361\n",
            "Epoch 17/250\n",
            "48000/48000 [==============================] - 3s 60us/step - loss: 0.3201 - acc: 0.9083 - val_loss: 0.2126 - val_acc: 0.9382\n",
            "Epoch 18/250\n",
            "48000/48000 [==============================] - 3s 60us/step - loss: 0.3086 - acc: 0.9084 - val_loss: 0.2084 - val_acc: 0.9387\n",
            "Epoch 19/250\n",
            "48000/48000 [==============================] - 3s 58us/step - loss: 0.3016 - acc: 0.9104 - val_loss: 0.2026 - val_acc: 0.9408\n",
            "Epoch 20/250\n",
            "12032/48000 [======>.......................] - ETA: 1s - loss: 0.2932 - acc: 0.9141"
          ],
          "name": "stdout"
        },
        {
          "output_type": "stream",
          "text": [
            "48000/48000 [==============================] - 3s 57us/step - loss: 0.2939 - acc: 0.9143 - val_loss: 0.1987 - val_acc: 0.9420\n",
            "Epoch 21/250\n",
            "48000/48000 [==============================] - 3s 60us/step - loss: 0.2870 - acc: 0.9154 - val_loss: 0.1949 - val_acc: 0.9432\n",
            "Epoch 22/250\n",
            "48000/48000 [==============================] - 3s 56us/step - loss: 0.2785 - acc: 0.9181 - val_loss: 0.1902 - val_acc: 0.9449\n",
            "Epoch 23/250\n",
            "48000/48000 [==============================] - 3s 55us/step - loss: 0.2774 - acc: 0.9186 - val_loss: 0.1856 - val_acc: 0.9462\n",
            "Epoch 24/250\n",
            "48000/48000 [==============================] - 3s 56us/step - loss: 0.2711 - acc: 0.9204 - val_loss: 0.1822 - val_acc: 0.9473\n",
            "Epoch 25/250\n",
            "16128/48000 [=========>....................] - ETA: 1s - loss: 0.2683 - acc: 0.9209"
          ],
          "name": "stdout"
        },
        {
          "output_type": "stream",
          "text": [
            "48000/48000 [==============================] - 3s 59us/step - loss: 0.2629 - acc: 0.9229 - val_loss: 0.1786 - val_acc: 0.9473\n",
            "Epoch 26/250\n",
            "48000/48000 [==============================] - 3s 58us/step - loss: 0.2598 - acc: 0.9233 - val_loss: 0.1770 - val_acc: 0.9474\n",
            "Epoch 27/250\n",
            "48000/48000 [==============================] - 3s 60us/step - loss: 0.2520 - acc: 0.9259 - val_loss: 0.1721 - val_acc: 0.9491\n",
            "Epoch 28/250\n",
            "48000/48000 [==============================] - 3s 58us/step - loss: 0.2482 - acc: 0.9264 - val_loss: 0.1693 - val_acc: 0.9500\n",
            "Epoch 29/250\n",
            "48000/48000 [==============================] - 3s 57us/step - loss: 0.2438 - acc: 0.9289 - val_loss: 0.1671 - val_acc: 0.9508\n",
            "Epoch 30/250\n",
            "13824/48000 [=======>......................] - ETA: 1s - loss: 0.2360 - acc: 0.9311"
          ],
          "name": "stdout"
        },
        {
          "output_type": "stream",
          "text": [
            "48000/48000 [==============================] - 3s 54us/step - loss: 0.2402 - acc: 0.9292 - val_loss: 0.1636 - val_acc: 0.9524\n",
            "Epoch 31/250\n",
            "48000/48000 [==============================] - 3s 55us/step - loss: 0.2359 - acc: 0.9312 - val_loss: 0.1608 - val_acc: 0.9527\n",
            "Epoch 32/250\n",
            "48000/48000 [==============================] - 3s 55us/step - loss: 0.2344 - acc: 0.9310 - val_loss: 0.1593 - val_acc: 0.9534\n",
            "Epoch 33/250\n",
            "48000/48000 [==============================] - 3s 54us/step - loss: 0.2283 - acc: 0.9319 - val_loss: 0.1559 - val_acc: 0.9538\n",
            "Epoch 34/250\n",
            "48000/48000 [==============================] - 3s 58us/step - loss: 0.2248 - acc: 0.9339 - val_loss: 0.1533 - val_acc: 0.9543\n",
            "Epoch 35/250\n",
            "16896/48000 [=========>....................] - ETA: 1s - loss: 0.2179 - acc: 0.9354"
          ],
          "name": "stdout"
        },
        {
          "output_type": "stream",
          "text": [
            "48000/48000 [==============================] - 3s 58us/step - loss: 0.2208 - acc: 0.9352 - val_loss: 0.1518 - val_acc: 0.9551\n",
            "Epoch 36/250\n",
            "48000/48000 [==============================] - 3s 59us/step - loss: 0.2200 - acc: 0.9355 - val_loss: 0.1498 - val_acc: 0.9560\n",
            "Epoch 37/250\n",
            "48000/48000 [==============================] - 3s 60us/step - loss: 0.2160 - acc: 0.9374 - val_loss: 0.1468 - val_acc: 0.9574\n",
            "Epoch 38/250\n",
            "48000/48000 [==============================] - 3s 60us/step - loss: 0.2109 - acc: 0.9377 - val_loss: 0.1454 - val_acc: 0.9567\n",
            "Epoch 39/250\n",
            "48000/48000 [==============================] - 3s 57us/step - loss: 0.2101 - acc: 0.9376 - val_loss: 0.1436 - val_acc: 0.9572\n",
            "Epoch 40/250\n",
            "13312/48000 [=======>......................] - ETA: 1s - loss: 0.2062 - acc: 0.9402"
          ],
          "name": "stdout"
        },
        {
          "output_type": "stream",
          "text": [
            "48000/48000 [==============================] - 3s 57us/step - loss: 0.2080 - acc: 0.9393 - val_loss: 0.1416 - val_acc: 0.9580\n",
            "Epoch 41/250\n",
            "48000/48000 [==============================] - 3s 57us/step - loss: 0.2017 - acc: 0.9405 - val_loss: 0.1400 - val_acc: 0.9588\n",
            "Epoch 42/250\n",
            "48000/48000 [==============================] - 3s 55us/step - loss: 0.2024 - acc: 0.9401 - val_loss: 0.1390 - val_acc: 0.9583\n",
            "Epoch 43/250\n",
            "48000/48000 [==============================] - 3s 55us/step - loss: 0.1985 - acc: 0.9416 - val_loss: 0.1366 - val_acc: 0.9596\n",
            "Epoch 44/250\n",
            "48000/48000 [==============================] - 3s 56us/step - loss: 0.1948 - acc: 0.9420 - val_loss: 0.1357 - val_acc: 0.9597\n",
            "Epoch 45/250\n",
            "16768/48000 [=========>....................] - ETA: 1s - loss: 0.1903 - acc: 0.9441"
          ],
          "name": "stdout"
        },
        {
          "output_type": "stream",
          "text": [
            "48000/48000 [==============================] - 3s 57us/step - loss: 0.1936 - acc: 0.9419 - val_loss: 0.1342 - val_acc: 0.9598\n",
            "Epoch 46/250\n",
            "48000/48000 [==============================] - 3s 58us/step - loss: 0.1883 - acc: 0.9441 - val_loss: 0.1334 - val_acc: 0.9599\n",
            "Epoch 47/250\n",
            "48000/48000 [==============================] - 3s 58us/step - loss: 0.1875 - acc: 0.9441 - val_loss: 0.1312 - val_acc: 0.9606\n",
            "Epoch 48/250\n",
            "48000/48000 [==============================] - 3s 61us/step - loss: 0.1861 - acc: 0.9451 - val_loss: 0.1303 - val_acc: 0.9604\n",
            "Epoch 49/250\n",
            "48000/48000 [==============================] - 3s 57us/step - loss: 0.1851 - acc: 0.9447 - val_loss: 0.1291 - val_acc: 0.9607\n",
            "Epoch 50/250\n",
            "12160/48000 [======>.......................] - ETA: 1s - loss: 0.1805 - acc: 0.9480"
          ],
          "name": "stdout"
        },
        {
          "output_type": "stream",
          "text": [
            "48000/48000 [==============================] - 3s 57us/step - loss: 0.1816 - acc: 0.9463 - val_loss: 0.1279 - val_acc: 0.9612\n",
            "Epoch 51/250\n",
            "48000/48000 [==============================] - 3s 56us/step - loss: 0.1783 - acc: 0.9480 - val_loss: 0.1261 - val_acc: 0.9619\n",
            "Epoch 52/250\n",
            "48000/48000 [==============================] - 3s 56us/step - loss: 0.1760 - acc: 0.9470 - val_loss: 0.1250 - val_acc: 0.9624\n",
            "Epoch 53/250\n",
            "48000/48000 [==============================] - 3s 56us/step - loss: 0.1784 - acc: 0.9467 - val_loss: 0.1239 - val_acc: 0.9625\n",
            "Epoch 54/250\n",
            "48000/48000 [==============================] - 3s 58us/step - loss: 0.1770 - acc: 0.9473 - val_loss: 0.1227 - val_acc: 0.9641\n",
            "Epoch 55/250\n",
            "15872/48000 [========>.....................] - ETA: 1s - loss: 0.1711 - acc: 0.9497"
          ],
          "name": "stdout"
        },
        {
          "output_type": "stream",
          "text": [
            "48000/48000 [==============================] - 3s 57us/step - loss: 0.1697 - acc: 0.9501 - val_loss: 0.1219 - val_acc: 0.9638\n",
            "Epoch 56/250\n",
            "48000/48000 [==============================] - 3s 61us/step - loss: 0.1692 - acc: 0.9499 - val_loss: 0.1214 - val_acc: 0.9642\n",
            "Epoch 57/250\n",
            "48000/48000 [==============================] - 3s 59us/step - loss: 0.1715 - acc: 0.9495 - val_loss: 0.1204 - val_acc: 0.9641\n",
            "Epoch 58/250\n",
            "48000/48000 [==============================] - 3s 59us/step - loss: 0.1667 - acc: 0.9509 - val_loss: 0.1191 - val_acc: 0.9652\n",
            "Epoch 59/250\n",
            "48000/48000 [==============================] - 3s 58us/step - loss: 0.1675 - acc: 0.9510 - val_loss: 0.1181 - val_acc: 0.9654\n",
            "Epoch 60/250\n",
            "12928/48000 [=======>......................] - ETA: 1s - loss: 0.1751 - acc: 0.9499"
          ],
          "name": "stdout"
        },
        {
          "output_type": "stream",
          "text": [
            "48000/48000 [==============================] - 3s 59us/step - loss: 0.1674 - acc: 0.9509 - val_loss: 0.1177 - val_acc: 0.9651\n",
            "Epoch 61/250\n",
            "48000/48000 [==============================] - 3s 57us/step - loss: 0.1613 - acc: 0.9523 - val_loss: 0.1169 - val_acc: 0.9657\n",
            "Epoch 62/250\n",
            "48000/48000 [==============================] - 3s 55us/step - loss: 0.1596 - acc: 0.9530 - val_loss: 0.1161 - val_acc: 0.9661\n",
            "Epoch 63/250\n",
            "48000/48000 [==============================] - 3s 56us/step - loss: 0.1608 - acc: 0.9520 - val_loss: 0.1140 - val_acc: 0.9672\n",
            "Epoch 64/250\n",
            "48000/48000 [==============================] - 3s 59us/step - loss: 0.1605 - acc: 0.9533 - val_loss: 0.1139 - val_acc: 0.9670\n",
            "Epoch 65/250\n",
            "14208/48000 [=======>......................] - ETA: 1s - loss: 0.1549 - acc: 0.9515"
          ],
          "name": "stdout"
        },
        {
          "output_type": "stream",
          "text": [
            "48000/48000 [==============================] - 3s 58us/step - loss: 0.1572 - acc: 0.9529 - val_loss: 0.1137 - val_acc: 0.9671\n",
            "Epoch 66/250\n",
            "48000/48000 [==============================] - 3s 62us/step - loss: 0.1544 - acc: 0.9535 - val_loss: 0.1126 - val_acc: 0.9675\n",
            "Epoch 67/250\n",
            "48000/48000 [==============================] - 3s 61us/step - loss: 0.1560 - acc: 0.9534 - val_loss: 0.1119 - val_acc: 0.9675\n",
            "Epoch 68/250\n",
            "48000/48000 [==============================] - 3s 57us/step - loss: 0.1507 - acc: 0.9552 - val_loss: 0.1112 - val_acc: 0.9675\n",
            "Epoch 69/250\n",
            "48000/48000 [==============================] - 3s 56us/step - loss: 0.1500 - acc: 0.9548 - val_loss: 0.1106 - val_acc: 0.9672\n",
            "Epoch 70/250\n",
            "13952/48000 [=======>......................] - ETA: 1s - loss: 0.1501 - acc: 0.9561"
          ],
          "name": "stdout"
        },
        {
          "output_type": "stream",
          "text": [
            "48000/48000 [==============================] - 3s 54us/step - loss: 0.1513 - acc: 0.9558 - val_loss: 0.1102 - val_acc: 0.9674\n",
            "Epoch 71/250\n",
            "48000/48000 [==============================] - 3s 56us/step - loss: 0.1484 - acc: 0.9559 - val_loss: 0.1092 - val_acc: 0.9679\n",
            "Epoch 72/250\n",
            "48000/48000 [==============================] - 3s 55us/step - loss: 0.1489 - acc: 0.9552 - val_loss: 0.1086 - val_acc: 0.9680\n",
            "Epoch 73/250\n",
            "48000/48000 [==============================] - 3s 57us/step - loss: 0.1466 - acc: 0.9564 - val_loss: 0.1081 - val_acc: 0.9691\n",
            "Epoch 74/250\n",
            "48000/48000 [==============================] - 3s 56us/step - loss: 0.1456 - acc: 0.9574 - val_loss: 0.1075 - val_acc: 0.9687\n",
            "Epoch 75/250\n",
            "16256/48000 [=========>....................] - ETA: 1s - loss: 0.1434 - acc: 0.9586"
          ],
          "name": "stdout"
        },
        {
          "output_type": "stream",
          "text": [
            "48000/48000 [==============================] - 3s 59us/step - loss: 0.1433 - acc: 0.9579 - val_loss: 0.1071 - val_acc: 0.9689\n",
            "Epoch 76/250\n",
            "48000/48000 [==============================] - 3s 60us/step - loss: 0.1412 - acc: 0.9577 - val_loss: 0.1062 - val_acc: 0.9690\n",
            "Epoch 77/250\n",
            "48000/48000 [==============================] - 3s 61us/step - loss: 0.1416 - acc: 0.9570 - val_loss: 0.1066 - val_acc: 0.9688\n",
            "Epoch 78/250\n",
            "48000/48000 [==============================] - 3s 60us/step - loss: 0.1399 - acc: 0.9579 - val_loss: 0.1055 - val_acc: 0.9689\n",
            "Epoch 79/250\n",
            "48000/48000 [==============================] - 3s 57us/step - loss: 0.1403 - acc: 0.9579 - val_loss: 0.1047 - val_acc: 0.9692\n",
            "Epoch 80/250\n",
            "12032/48000 [======>.......................] - ETA: 1s - loss: 0.1384 - acc: 0.9582"
          ],
          "name": "stdout"
        },
        {
          "output_type": "stream",
          "text": [
            "48000/48000 [==============================] - 3s 57us/step - loss: 0.1372 - acc: 0.9587 - val_loss: 0.1044 - val_acc: 0.9693\n",
            "Epoch 81/250\n",
            "48000/48000 [==============================] - 3s 55us/step - loss: 0.1398 - acc: 0.9582 - val_loss: 0.1035 - val_acc: 0.9693\n",
            "Epoch 82/250\n",
            "48000/48000 [==============================] - 3s 55us/step - loss: 0.1352 - acc: 0.9593 - val_loss: 0.1030 - val_acc: 0.9698\n",
            "Epoch 83/250\n",
            "48000/48000 [==============================] - 3s 54us/step - loss: 0.1343 - acc: 0.9600 - val_loss: 0.1029 - val_acc: 0.9700\n",
            "Epoch 84/250\n",
            "48000/48000 [==============================] - 3s 58us/step - loss: 0.1363 - acc: 0.9592 - val_loss: 0.1021 - val_acc: 0.9704\n",
            "Epoch 85/250\n",
            "17792/48000 [==========>...................] - ETA: 1s - loss: 0.1311 - acc: 0.9612"
          ],
          "name": "stdout"
        },
        {
          "output_type": "stream",
          "text": [
            "48000/48000 [==============================] - 3s 56us/step - loss: 0.1295 - acc: 0.9611 - val_loss: 0.1018 - val_acc: 0.9706\n",
            "Epoch 86/250\n",
            "48000/48000 [==============================] - 3s 60us/step - loss: 0.1331 - acc: 0.9599 - val_loss: 0.1011 - val_acc: 0.9707\n",
            "Epoch 87/250\n",
            "48000/48000 [==============================] - 3s 58us/step - loss: 0.1343 - acc: 0.9600 - val_loss: 0.1006 - val_acc: 0.9712\n",
            "Epoch 88/250\n",
            "48000/48000 [==============================] - 3s 59us/step - loss: 0.1319 - acc: 0.9611 - val_loss: 0.1001 - val_acc: 0.9707\n",
            "Epoch 89/250\n",
            "48000/48000 [==============================] - 3s 53us/step - loss: 0.1292 - acc: 0.9615 - val_loss: 0.0994 - val_acc: 0.9712\n",
            "Epoch 90/250\n",
            "15872/48000 [========>.....................] - ETA: 1s - loss: 0.1301 - acc: 0.9607"
          ],
          "name": "stdout"
        },
        {
          "output_type": "stream",
          "text": [
            "48000/48000 [==============================] - 3s 56us/step - loss: 0.1299 - acc: 0.9620 - val_loss: 0.0997 - val_acc: 0.9704\n",
            "Epoch 91/250\n",
            "48000/48000 [==============================] - 3s 56us/step - loss: 0.1274 - acc: 0.9614 - val_loss: 0.0985 - val_acc: 0.9714\n",
            "Epoch 92/250\n",
            "48000/48000 [==============================] - 3s 55us/step - loss: 0.1291 - acc: 0.9625 - val_loss: 0.0986 - val_acc: 0.9712\n",
            "Epoch 93/250\n",
            "48000/48000 [==============================] - 3s 55us/step - loss: 0.1272 - acc: 0.9616 - val_loss: 0.0979 - val_acc: 0.9711\n",
            "Epoch 94/250\n",
            "48000/48000 [==============================] - 3s 58us/step - loss: 0.1254 - acc: 0.9629 - val_loss: 0.0973 - val_acc: 0.9713\n",
            "Epoch 95/250\n",
            "16128/48000 [=========>....................] - ETA: 1s - loss: 0.1209 - acc: 0.9651"
          ],
          "name": "stdout"
        },
        {
          "output_type": "stream",
          "text": [
            "48000/48000 [==============================] - 3s 59us/step - loss: 0.1228 - acc: 0.9630 - val_loss: 0.0972 - val_acc: 0.9717\n",
            "Epoch 96/250\n",
            "48000/48000 [==============================] - 3s 61us/step - loss: 0.1237 - acc: 0.9626 - val_loss: 0.0972 - val_acc: 0.9715\n",
            "Epoch 97/250\n",
            "48000/48000 [==============================] - 3s 60us/step - loss: 0.1232 - acc: 0.9625 - val_loss: 0.0964 - val_acc: 0.9717\n",
            "Epoch 98/250\n",
            "48000/48000 [==============================] - 3s 60us/step - loss: 0.1209 - acc: 0.9640 - val_loss: 0.0964 - val_acc: 0.9718\n",
            "Epoch 99/250\n",
            "48000/48000 [==============================] - 3s 58us/step - loss: 0.1219 - acc: 0.9638 - val_loss: 0.0960 - val_acc: 0.9724\n",
            "Epoch 100/250\n",
            "12160/48000 [======>.......................] - ETA: 1s - loss: 0.1195 - acc: 0.9622"
          ],
          "name": "stdout"
        },
        {
          "output_type": "stream",
          "text": [
            "48000/48000 [==============================] - 3s 58us/step - loss: 0.1184 - acc: 0.9637 - val_loss: 0.0958 - val_acc: 0.9727\n",
            "Epoch 101/250\n",
            "48000/48000 [==============================] - 3s 55us/step - loss: 0.1191 - acc: 0.9640 - val_loss: 0.0952 - val_acc: 0.9723\n",
            "Epoch 102/250\n",
            "48000/48000 [==============================] - 3s 55us/step - loss: 0.1191 - acc: 0.9646 - val_loss: 0.0951 - val_acc: 0.9717\n",
            "Epoch 103/250\n",
            "48000/48000 [==============================] - 3s 59us/step - loss: 0.1192 - acc: 0.9647 - val_loss: 0.0947 - val_acc: 0.9722\n",
            "Epoch 104/250\n",
            "48000/48000 [==============================] - 3s 59us/step - loss: 0.1165 - acc: 0.9648 - val_loss: 0.0944 - val_acc: 0.9723\n",
            "Epoch 105/250\n",
            "13056/48000 [=======>......................] - ETA: 1s - loss: 0.1212 - acc: 0.9648"
          ],
          "name": "stdout"
        },
        {
          "output_type": "stream",
          "text": [
            "48000/48000 [==============================] - 3s 59us/step - loss: 0.1157 - acc: 0.9653 - val_loss: 0.0936 - val_acc: 0.9724\n",
            "Epoch 106/250\n",
            "48000/48000 [==============================] - 3s 62us/step - loss: 0.1144 - acc: 0.9657 - val_loss: 0.0934 - val_acc: 0.9730\n",
            "Epoch 107/250\n",
            "48000/48000 [==============================] - 3s 61us/step - loss: 0.1156 - acc: 0.9653 - val_loss: 0.0937 - val_acc: 0.9727\n",
            "Epoch 108/250\n",
            "48000/48000 [==============================] - 3s 59us/step - loss: 0.1167 - acc: 0.9653 - val_loss: 0.0936 - val_acc: 0.9728\n",
            "Epoch 109/250\n",
            "48000/48000 [==============================] - 3s 58us/step - loss: 0.1147 - acc: 0.9650 - val_loss: 0.0932 - val_acc: 0.9728\n",
            "Epoch 110/250\n",
            " 8576/48000 [====>.........................] - ETA: 2s - loss: 0.1148 - acc: 0.9650"
          ],
          "name": "stdout"
        },
        {
          "output_type": "stream",
          "text": [
            "48000/48000 [==============================] - 3s 58us/step - loss: 0.1142 - acc: 0.9649 - val_loss: 0.0925 - val_acc: 0.9730\n",
            "Epoch 111/250\n",
            "48000/48000 [==============================] - 3s 54us/step - loss: 0.1129 - acc: 0.9662 - val_loss: 0.0920 - val_acc: 0.9732\n",
            "Epoch 112/250\n",
            "48000/48000 [==============================] - 3s 56us/step - loss: 0.1115 - acc: 0.9660 - val_loss: 0.0917 - val_acc: 0.9734\n",
            "Epoch 113/250\n",
            "48000/48000 [==============================] - 3s 56us/step - loss: 0.1104 - acc: 0.9667 - val_loss: 0.0919 - val_acc: 0.9733\n",
            "Epoch 114/250\n",
            "48000/48000 [==============================] - 3s 58us/step - loss: 0.1131 - acc: 0.9658 - val_loss: 0.0918 - val_acc: 0.9732\n",
            "Epoch 115/250\n",
            "14592/48000 [========>.....................] - ETA: 1s - loss: 0.1122 - acc: 0.9672"
          ],
          "name": "stdout"
        },
        {
          "output_type": "stream",
          "text": [
            "48000/48000 [==============================] - 3s 58us/step - loss: 0.1100 - acc: 0.9662 - val_loss: 0.0908 - val_acc: 0.9732\n",
            "Epoch 116/250\n",
            "48000/48000 [==============================] - 3s 60us/step - loss: 0.1082 - acc: 0.9677 - val_loss: 0.0908 - val_acc: 0.9734\n",
            "Epoch 117/250\n",
            "48000/48000 [==============================] - 3s 57us/step - loss: 0.1102 - acc: 0.9669 - val_loss: 0.0909 - val_acc: 0.9732\n",
            "Epoch 118/250\n",
            "48000/48000 [==============================] - 3s 58us/step - loss: 0.1081 - acc: 0.9668 - val_loss: 0.0896 - val_acc: 0.9733\n",
            "Epoch 119/250\n",
            "48000/48000 [==============================] - 3s 56us/step - loss: 0.1067 - acc: 0.9673 - val_loss: 0.0897 - val_acc: 0.9739\n",
            "Epoch 120/250\n",
            "11904/48000 [======>.......................] - ETA: 1s - loss: 0.1109 - acc: 0.9677"
          ],
          "name": "stdout"
        },
        {
          "output_type": "stream",
          "text": [
            "48000/48000 [==============================] - 3s 60us/step - loss: 0.1048 - acc: 0.9684 - val_loss: 0.0900 - val_acc: 0.9736\n",
            "Epoch 121/250\n",
            "48000/48000 [==============================] - 3s 56us/step - loss: 0.1059 - acc: 0.9682 - val_loss: 0.0899 - val_acc: 0.9732\n",
            "Epoch 122/250\n",
            "48000/48000 [==============================] - 3s 55us/step - loss: 0.1046 - acc: 0.9684 - val_loss: 0.0889 - val_acc: 0.9742\n",
            "Epoch 123/250\n",
            "48000/48000 [==============================] - 3s 58us/step - loss: 0.1046 - acc: 0.9688 - val_loss: 0.0891 - val_acc: 0.9735\n",
            "Epoch 124/250\n",
            "48000/48000 [==============================] - 3s 57us/step - loss: 0.1071 - acc: 0.9681 - val_loss: 0.0889 - val_acc: 0.9737\n",
            "Epoch 125/250\n",
            "14720/48000 [========>.....................] - ETA: 1s - loss: 0.0978 - acc: 0.9704"
          ],
          "name": "stdout"
        },
        {
          "output_type": "stream",
          "text": [
            "48000/48000 [==============================] - 3s 59us/step - loss: 0.1022 - acc: 0.9687 - val_loss: 0.0891 - val_acc: 0.9736\n",
            "Epoch 126/250\n",
            "48000/48000 [==============================] - 3s 59us/step - loss: 0.1056 - acc: 0.9669 - val_loss: 0.0890 - val_acc: 0.9737\n",
            "Epoch 127/250\n",
            "48000/48000 [==============================] - 3s 59us/step - loss: 0.1028 - acc: 0.9684 - val_loss: 0.0886 - val_acc: 0.9736\n",
            "Epoch 128/250\n",
            "48000/48000 [==============================] - 3s 56us/step - loss: 0.1027 - acc: 0.9689 - val_loss: 0.0879 - val_acc: 0.9739\n",
            "Epoch 129/250\n",
            "48000/48000 [==============================] - 3s 58us/step - loss: 0.1016 - acc: 0.9690 - val_loss: 0.0881 - val_acc: 0.9741\n",
            "Epoch 130/250\n",
            "13952/48000 [=======>......................] - ETA: 1s - loss: 0.0970 - acc: 0.9706"
          ],
          "name": "stdout"
        },
        {
          "output_type": "stream",
          "text": [
            "48000/48000 [==============================] - 3s 56us/step - loss: 0.0985 - acc: 0.9702 - val_loss: 0.0877 - val_acc: 0.9742\n",
            "Epoch 131/250\n",
            "48000/48000 [==============================] - 3s 54us/step - loss: 0.0997 - acc: 0.9696 - val_loss: 0.0878 - val_acc: 0.9740\n",
            "Epoch 132/250\n",
            "48000/48000 [==============================] - 3s 55us/step - loss: 0.0987 - acc: 0.9701 - val_loss: 0.0881 - val_acc: 0.9742\n",
            "Epoch 133/250\n",
            "48000/48000 [==============================] - 3s 57us/step - loss: 0.1009 - acc: 0.9693 - val_loss: 0.0876 - val_acc: 0.9742\n",
            "Epoch 134/250\n",
            "48000/48000 [==============================] - 3s 57us/step - loss: 0.1009 - acc: 0.9689 - val_loss: 0.0868 - val_acc: 0.9745\n",
            "Epoch 135/250\n",
            "16384/48000 [=========>....................] - ETA: 1s - loss: 0.0964 - acc: 0.9716"
          ],
          "name": "stdout"
        },
        {
          "output_type": "stream",
          "text": [
            "48000/48000 [==============================] - 3s 59us/step - loss: 0.0981 - acc: 0.9704 - val_loss: 0.0868 - val_acc: 0.9741\n",
            "Epoch 136/250\n",
            "48000/48000 [==============================] - 3s 58us/step - loss: 0.0994 - acc: 0.9695 - val_loss: 0.0866 - val_acc: 0.9746\n",
            "Epoch 137/250\n",
            "48000/48000 [==============================] - 3s 59us/step - loss: 0.0970 - acc: 0.9714 - val_loss: 0.0872 - val_acc: 0.9748\n",
            "Epoch 138/250\n",
            "48000/48000 [==============================] - 3s 56us/step - loss: 0.0978 - acc: 0.9704 - val_loss: 0.0864 - val_acc: 0.9748\n",
            "Epoch 139/250\n",
            "48000/48000 [==============================] - 3s 56us/step - loss: 0.0954 - acc: 0.9712 - val_loss: 0.0866 - val_acc: 0.9742\n",
            "Epoch 140/250\n",
            "14976/48000 [========>.....................] - ETA: 1s - loss: 0.0980 - acc: 0.9710"
          ],
          "name": "stdout"
        },
        {
          "output_type": "stream",
          "text": [
            "48000/48000 [==============================] - 3s 55us/step - loss: 0.0965 - acc: 0.9709 - val_loss: 0.0866 - val_acc: 0.9740\n",
            "Epoch 141/250\n",
            "48000/48000 [==============================] - 3s 53us/step - loss: 0.0978 - acc: 0.9701 - val_loss: 0.0861 - val_acc: 0.9744\n",
            "Epoch 142/250\n",
            "48000/48000 [==============================] - 3s 55us/step - loss: 0.0983 - acc: 0.9697 - val_loss: 0.0861 - val_acc: 0.9747\n",
            "Epoch 143/250\n",
            "48000/48000 [==============================] - 3s 57us/step - loss: 0.0943 - acc: 0.9717 - val_loss: 0.0858 - val_acc: 0.9747\n",
            "Epoch 144/250\n",
            "48000/48000 [==============================] - 3s 56us/step - loss: 0.0944 - acc: 0.9708 - val_loss: 0.0852 - val_acc: 0.9753\n",
            "Epoch 145/250\n",
            "16256/48000 [=========>....................] - ETA: 1s - loss: 0.0978 - acc: 0.9700"
          ],
          "name": "stdout"
        },
        {
          "output_type": "stream",
          "text": [
            "48000/48000 [==============================] - 3s 58us/step - loss: 0.0956 - acc: 0.9711 - val_loss: 0.0855 - val_acc: 0.9752\n",
            "Epoch 146/250\n",
            "48000/48000 [==============================] - 3s 58us/step - loss: 0.0930 - acc: 0.9718 - val_loss: 0.0850 - val_acc: 0.9749\n",
            "Epoch 147/250\n",
            "48000/48000 [==============================] - 3s 59us/step - loss: 0.0936 - acc: 0.9718 - val_loss: 0.0854 - val_acc: 0.9750\n",
            "Epoch 148/250\n",
            "48000/48000 [==============================] - 3s 55us/step - loss: 0.0931 - acc: 0.9713 - val_loss: 0.0851 - val_acc: 0.9747\n",
            "Epoch 149/250\n",
            "48000/48000 [==============================] - 3s 57us/step - loss: 0.0928 - acc: 0.9714 - val_loss: 0.0849 - val_acc: 0.9745\n",
            "Epoch 150/250\n",
            "14336/48000 [=======>......................] - ETA: 1s - loss: 0.0856 - acc: 0.9740"
          ],
          "name": "stdout"
        },
        {
          "output_type": "stream",
          "text": [
            "48000/48000 [==============================] - 3s 56us/step - loss: 0.0915 - acc: 0.9719 - val_loss: 0.0845 - val_acc: 0.9747\n",
            "Epoch 151/250\n",
            "48000/48000 [==============================] - 3s 57us/step - loss: 0.0929 - acc: 0.9717 - val_loss: 0.0846 - val_acc: 0.9750\n",
            "Epoch 152/250\n",
            "48000/48000 [==============================] - 3s 57us/step - loss: 0.0908 - acc: 0.9721 - val_loss: 0.0843 - val_acc: 0.9745\n",
            "Epoch 153/250\n",
            "48000/48000 [==============================] - 3s 59us/step - loss: 0.0919 - acc: 0.9722 - val_loss: 0.0843 - val_acc: 0.9749\n",
            "Epoch 154/250\n",
            "48000/48000 [==============================] - 3s 57us/step - loss: 0.0901 - acc: 0.9727 - val_loss: 0.0842 - val_acc: 0.9748\n",
            "Epoch 155/250\n",
            "12416/48000 [======>.......................] - ETA: 2s - loss: 0.0928 - acc: 0.9714"
          ],
          "name": "stdout"
        },
        {
          "output_type": "stream",
          "text": [
            "48000/48000 [==============================] - 3s 58us/step - loss: 0.0908 - acc: 0.9727 - val_loss: 0.0846 - val_acc: 0.9750\n",
            "Epoch 156/250\n",
            "48000/48000 [==============================] - 3s 58us/step - loss: 0.0888 - acc: 0.9729 - val_loss: 0.0838 - val_acc: 0.9754\n",
            "Epoch 157/250\n",
            "48000/48000 [==============================] - 3s 58us/step - loss: 0.0923 - acc: 0.9722 - val_loss: 0.0838 - val_acc: 0.9751\n",
            "Epoch 158/250\n",
            "48000/48000 [==============================] - 3s 55us/step - loss: 0.0897 - acc: 0.9720 - val_loss: 0.0836 - val_acc: 0.9752\n",
            "Epoch 159/250\n",
            "48000/48000 [==============================] - 3s 55us/step - loss: 0.0897 - acc: 0.9728 - val_loss: 0.0835 - val_acc: 0.9752\n",
            "Epoch 160/250\n",
            "17152/48000 [=========>....................] - ETA: 1s - loss: 0.0847 - acc: 0.9746"
          ],
          "name": "stdout"
        },
        {
          "output_type": "stream",
          "text": [
            "48000/48000 [==============================] - 3s 55us/step - loss: 0.0885 - acc: 0.9733 - val_loss: 0.0832 - val_acc: 0.9756\n",
            "Epoch 161/250\n",
            "48000/48000 [==============================] - 3s 53us/step - loss: 0.0881 - acc: 0.9729 - val_loss: 0.0834 - val_acc: 0.9752\n",
            "Epoch 162/250\n",
            "48000/48000 [==============================] - 3s 54us/step - loss: 0.0880 - acc: 0.9733 - val_loss: 0.0830 - val_acc: 0.9759\n",
            "Epoch 163/250\n",
            "48000/48000 [==============================] - 3s 56us/step - loss: 0.0875 - acc: 0.9734 - val_loss: 0.0833 - val_acc: 0.9758\n",
            "Epoch 164/250\n",
            "48000/48000 [==============================] - 3s 56us/step - loss: 0.0853 - acc: 0.9746 - val_loss: 0.0835 - val_acc: 0.9753\n",
            "Epoch 165/250\n",
            "17408/48000 [=========>....................] - ETA: 1s - loss: 0.0841 - acc: 0.9744"
          ],
          "name": "stdout"
        },
        {
          "output_type": "stream",
          "text": [
            "48000/48000 [==============================] - 3s 59us/step - loss: 0.0871 - acc: 0.9734 - val_loss: 0.0828 - val_acc: 0.9756\n",
            "Epoch 166/250\n",
            "48000/48000 [==============================] - 3s 60us/step - loss: 0.0864 - acc: 0.9739 - val_loss: 0.0828 - val_acc: 0.9758\n",
            "Epoch 167/250\n",
            "48000/48000 [==============================] - 3s 59us/step - loss: 0.0868 - acc: 0.9735 - val_loss: 0.0829 - val_acc: 0.9760\n",
            "Epoch 168/250\n",
            "48000/48000 [==============================] - 3s 56us/step - loss: 0.0870 - acc: 0.9727 - val_loss: 0.0823 - val_acc: 0.9760\n",
            "Epoch 169/250\n",
            "48000/48000 [==============================] - 3s 55us/step - loss: 0.0864 - acc: 0.9728 - val_loss: 0.0817 - val_acc: 0.9765\n",
            "Epoch 170/250\n",
            "14848/48000 [========>.....................] - ETA: 1s - loss: 0.0847 - acc: 0.9740"
          ],
          "name": "stdout"
        },
        {
          "output_type": "stream",
          "text": [
            "48000/48000 [==============================] - 3s 57us/step - loss: 0.0843 - acc: 0.9738 - val_loss: 0.0822 - val_acc: 0.9757\n",
            "Epoch 171/250\n",
            "48000/48000 [==============================] - 3s 52us/step - loss: 0.0818 - acc: 0.9752 - val_loss: 0.0828 - val_acc: 0.9757\n",
            "Epoch 172/250\n",
            "48000/48000 [==============================] - 3s 53us/step - loss: 0.0846 - acc: 0.9737 - val_loss: 0.0820 - val_acc: 0.9763\n",
            "Epoch 173/250\n",
            "48000/48000 [==============================] - 3s 56us/step - loss: 0.0842 - acc: 0.9743 - val_loss: 0.0819 - val_acc: 0.9759\n",
            "Epoch 174/250\n",
            "48000/48000 [==============================] - 3s 56us/step - loss: 0.0829 - acc: 0.9746 - val_loss: 0.0816 - val_acc: 0.9759\n",
            "Epoch 175/250\n",
            "20224/48000 [===========>..................] - ETA: 1s - loss: 0.0823 - acc: 0.9758"
          ],
          "name": "stdout"
        },
        {
          "output_type": "stream",
          "text": [
            "48000/48000 [==============================] - 3s 55us/step - loss: 0.0816 - acc: 0.9750 - val_loss: 0.0814 - val_acc: 0.9764\n",
            "Epoch 176/250\n",
            "48000/48000 [==============================] - 3s 57us/step - loss: 0.0808 - acc: 0.9748 - val_loss: 0.0819 - val_acc: 0.9763\n",
            "Epoch 177/250\n",
            "48000/48000 [==============================] - 3s 58us/step - loss: 0.0843 - acc: 0.9739 - val_loss: 0.0817 - val_acc: 0.9758\n",
            "Epoch 178/250\n",
            "48000/48000 [==============================] - 3s 55us/step - loss: 0.0819 - acc: 0.9744 - val_loss: 0.0811 - val_acc: 0.9767\n",
            "Epoch 179/250\n",
            "48000/48000 [==============================] - 3s 54us/step - loss: 0.0806 - acc: 0.9750 - val_loss: 0.0818 - val_acc: 0.9762\n",
            "Epoch 180/250\n",
            "17408/48000 [=========>....................] - ETA: 1s - loss: 0.0820 - acc: 0.9737"
          ],
          "name": "stdout"
        },
        {
          "output_type": "stream",
          "text": [
            "48000/48000 [==============================] - 3s 56us/step - loss: 0.0822 - acc: 0.9744 - val_loss: 0.0810 - val_acc: 0.9762\n",
            "Epoch 181/250\n",
            "48000/48000 [==============================] - 3s 53us/step - loss: 0.0838 - acc: 0.9745 - val_loss: 0.0809 - val_acc: 0.9763\n",
            "Epoch 182/250\n",
            "48000/48000 [==============================] - 3s 55us/step - loss: 0.0827 - acc: 0.9741 - val_loss: 0.0809 - val_acc: 0.9769\n",
            "Epoch 183/250\n",
            "48000/48000 [==============================] - 3s 55us/step - loss: 0.0813 - acc: 0.9747 - val_loss: 0.0813 - val_acc: 0.9765\n",
            "Epoch 184/250\n",
            "48000/48000 [==============================] - 3s 56us/step - loss: 0.0800 - acc: 0.9755 - val_loss: 0.0808 - val_acc: 0.9764\n",
            "Epoch 185/250\n",
            "19072/48000 [==========>...................] - ETA: 1s - loss: 0.0816 - acc: 0.9754"
          ],
          "name": "stdout"
        },
        {
          "output_type": "stream",
          "text": [
            "48000/48000 [==============================] - 3s 55us/step - loss: 0.0812 - acc: 0.9750 - val_loss: 0.0810 - val_acc: 0.9770\n",
            "Epoch 186/250\n",
            "48000/48000 [==============================] - 3s 60us/step - loss: 0.0815 - acc: 0.9749 - val_loss: 0.0809 - val_acc: 0.9764\n",
            "Epoch 187/250\n",
            "48000/48000 [==============================] - 3s 59us/step - loss: 0.0787 - acc: 0.9762 - val_loss: 0.0809 - val_acc: 0.9772\n",
            "Epoch 188/250\n",
            "48000/48000 [==============================] - 3s 56us/step - loss: 0.0796 - acc: 0.9757 - val_loss: 0.0808 - val_acc: 0.9771\n",
            "Epoch 189/250\n",
            "48000/48000 [==============================] - 3s 55us/step - loss: 0.0786 - acc: 0.9752 - val_loss: 0.0807 - val_acc: 0.9768\n",
            "Epoch 190/250\n",
            "16128/48000 [=========>....................] - ETA: 1s - loss: 0.0779 - acc: 0.9756"
          ],
          "name": "stdout"
        },
        {
          "output_type": "stream",
          "text": [
            "48000/48000 [==============================] - 3s 57us/step - loss: 0.0798 - acc: 0.9750 - val_loss: 0.0808 - val_acc: 0.9771\n",
            "Epoch 191/250\n",
            "48000/48000 [==============================] - 3s 54us/step - loss: 0.0769 - acc: 0.9757 - val_loss: 0.0804 - val_acc: 0.9770\n",
            "Epoch 192/250\n",
            "48000/48000 [==============================] - 3s 55us/step - loss: 0.0774 - acc: 0.9764 - val_loss: 0.0806 - val_acc: 0.9768\n",
            "Epoch 193/250\n",
            "48000/48000 [==============================] - 3s 55us/step - loss: 0.0780 - acc: 0.9764 - val_loss: 0.0806 - val_acc: 0.9766\n",
            "Epoch 194/250\n",
            "48000/48000 [==============================] - 3s 58us/step - loss: 0.0750 - acc: 0.9765 - val_loss: 0.0806 - val_acc: 0.9775\n",
            "Epoch 195/250\n",
            "17920/48000 [==========>...................] - ETA: 1s - loss: 0.0780 - acc: 0.9765"
          ],
          "name": "stdout"
        },
        {
          "output_type": "stream",
          "text": [
            "48000/48000 [==============================] - 3s 55us/step - loss: 0.0758 - acc: 0.9764 - val_loss: 0.0803 - val_acc: 0.9775\n",
            "Epoch 196/250\n",
            "48000/48000 [==============================] - 3s 59us/step - loss: 0.0757 - acc: 0.9767 - val_loss: 0.0807 - val_acc: 0.9767\n",
            "Epoch 197/250\n",
            "48000/48000 [==============================] - 3s 58us/step - loss: 0.0755 - acc: 0.9754 - val_loss: 0.0807 - val_acc: 0.9776\n",
            "Epoch 198/250\n",
            "48000/48000 [==============================] - 3s 56us/step - loss: 0.0744 - acc: 0.9775 - val_loss: 0.0802 - val_acc: 0.9769\n",
            "Epoch 199/250\n",
            "48000/48000 [==============================] - 3s 56us/step - loss: 0.0761 - acc: 0.9770 - val_loss: 0.0807 - val_acc: 0.9773\n",
            "Epoch 200/250\n",
            "15744/48000 [========>.....................] - ETA: 1s - loss: 0.0812 - acc: 0.9750"
          ],
          "name": "stdout"
        },
        {
          "output_type": "stream",
          "text": [
            "48000/48000 [==============================] - 3s 57us/step - loss: 0.0785 - acc: 0.9755 - val_loss: 0.0801 - val_acc: 0.9775\n",
            "Epoch 201/250\n",
            "48000/48000 [==============================] - 3s 54us/step - loss: 0.0736 - acc: 0.9772 - val_loss: 0.0801 - val_acc: 0.9772\n",
            "Epoch 202/250\n",
            "48000/48000 [==============================] - 3s 55us/step - loss: 0.0754 - acc: 0.9767 - val_loss: 0.0796 - val_acc: 0.9775\n",
            "Epoch 203/250\n",
            "48000/48000 [==============================] - 3s 53us/step - loss: 0.0745 - acc: 0.9767 - val_loss: 0.0795 - val_acc: 0.9774\n",
            "Epoch 204/250\n",
            "48000/48000 [==============================] - 3s 57us/step - loss: 0.0753 - acc: 0.9768 - val_loss: 0.0801 - val_acc: 0.9771\n",
            "Epoch 205/250\n",
            "17536/48000 [=========>....................] - ETA: 1s - loss: 0.0732 - acc: 0.9786"
          ],
          "name": "stdout"
        },
        {
          "output_type": "stream",
          "text": [
            "48000/48000 [==============================] - 3s 57us/step - loss: 0.0730 - acc: 0.9777 - val_loss: 0.0794 - val_acc: 0.9776\n",
            "Epoch 206/250\n",
            "48000/48000 [==============================] - 3s 60us/step - loss: 0.0750 - acc: 0.9769 - val_loss: 0.0796 - val_acc: 0.9768\n",
            "Epoch 207/250\n",
            "48000/48000 [==============================] - 3s 60us/step - loss: 0.0756 - acc: 0.9766 - val_loss: 0.0796 - val_acc: 0.9774\n",
            "Epoch 208/250\n",
            "48000/48000 [==============================] - 3s 58us/step - loss: 0.0728 - acc: 0.9775 - val_loss: 0.0791 - val_acc: 0.9777\n",
            "Epoch 209/250\n",
            "48000/48000 [==============================] - 3s 58us/step - loss: 0.0725 - acc: 0.9771 - val_loss: 0.0796 - val_acc: 0.9771\n",
            "Epoch 210/250\n",
            "10624/48000 [=====>........................] - ETA: 2s - loss: 0.0730 - acc: 0.9757"
          ],
          "name": "stdout"
        },
        {
          "output_type": "stream",
          "text": [
            "48000/48000 [==============================] - 3s 56us/step - loss: 0.0727 - acc: 0.9772 - val_loss: 0.0793 - val_acc: 0.9777\n",
            "Epoch 211/250\n",
            "48000/48000 [==============================] - 3s 58us/step - loss: 0.0729 - acc: 0.9779 - val_loss: 0.0797 - val_acc: 0.9775\n",
            "Epoch 212/250\n",
            "48000/48000 [==============================] - 3s 56us/step - loss: 0.0718 - acc: 0.9775 - val_loss: 0.0799 - val_acc: 0.9776\n",
            "Epoch 213/250\n",
            "48000/48000 [==============================] - 3s 56us/step - loss: 0.0734 - acc: 0.9771 - val_loss: 0.0793 - val_acc: 0.9777\n",
            "Epoch 214/250\n",
            "48000/48000 [==============================] - 3s 58us/step - loss: 0.0719 - acc: 0.9782 - val_loss: 0.0793 - val_acc: 0.9776\n",
            "Epoch 215/250\n",
            "13696/48000 [=======>......................] - ETA: 1s - loss: 0.0749 - acc: 0.9776"
          ],
          "name": "stdout"
        },
        {
          "output_type": "stream",
          "text": [
            "48000/48000 [==============================] - 3s 58us/step - loss: 0.0720 - acc: 0.9776 - val_loss: 0.0793 - val_acc: 0.9775\n",
            "Epoch 216/250\n",
            "48000/48000 [==============================] - 3s 60us/step - loss: 0.0706 - acc: 0.9774 - val_loss: 0.0794 - val_acc: 0.9772\n",
            "Epoch 217/250\n",
            "48000/48000 [==============================] - 3s 59us/step - loss: 0.0720 - acc: 0.9772 - val_loss: 0.0796 - val_acc: 0.9767\n",
            "Epoch 218/250\n",
            "48000/48000 [==============================] - 3s 57us/step - loss: 0.0715 - acc: 0.9773 - val_loss: 0.0793 - val_acc: 0.9775\n",
            "Epoch 219/250\n",
            "48000/48000 [==============================] - 3s 55us/step - loss: 0.0696 - acc: 0.9787 - val_loss: 0.0802 - val_acc: 0.9779\n",
            "Epoch 220/250\n",
            "13440/48000 [=======>......................] - ETA: 1s - loss: 0.0673 - acc: 0.9805"
          ],
          "name": "stdout"
        },
        {
          "output_type": "stream",
          "text": [
            "48000/48000 [==============================] - 3s 55us/step - loss: 0.0708 - acc: 0.9782 - val_loss: 0.0789 - val_acc: 0.9779\n",
            "Epoch 221/250\n",
            "48000/48000 [==============================] - 3s 55us/step - loss: 0.0711 - acc: 0.9775 - val_loss: 0.0786 - val_acc: 0.9776\n",
            "Epoch 222/250\n",
            "48000/48000 [==============================] - 3s 55us/step - loss: 0.0696 - acc: 0.9782 - val_loss: 0.0788 - val_acc: 0.9777\n",
            "Epoch 223/250\n",
            "48000/48000 [==============================] - 3s 54us/step - loss: 0.0695 - acc: 0.9779 - val_loss: 0.0785 - val_acc: 0.9777\n",
            "Epoch 224/250\n",
            "48000/48000 [==============================] - 3s 58us/step - loss: 0.0688 - acc: 0.9788 - val_loss: 0.0791 - val_acc: 0.9775\n",
            "Epoch 225/250\n",
            "15744/48000 [========>.....................] - ETA: 1s - loss: 0.0687 - acc: 0.9782"
          ],
          "name": "stdout"
        },
        {
          "output_type": "stream",
          "text": [
            "48000/48000 [==============================] - 3s 56us/step - loss: 0.0688 - acc: 0.9783 - val_loss: 0.0790 - val_acc: 0.9776\n",
            "Epoch 226/250\n",
            "48000/48000 [==============================] - 3s 59us/step - loss: 0.0671 - acc: 0.9788 - val_loss: 0.0794 - val_acc: 0.9780\n",
            "Epoch 227/250\n",
            "48000/48000 [==============================] - 3s 59us/step - loss: 0.0693 - acc: 0.9777 - val_loss: 0.0787 - val_acc: 0.9772\n",
            "Epoch 228/250\n",
            "48000/48000 [==============================] - 3s 58us/step - loss: 0.0688 - acc: 0.9778 - val_loss: 0.0783 - val_acc: 0.9778\n",
            "Epoch 229/250\n",
            "48000/48000 [==============================] - 3s 54us/step - loss: 0.0677 - acc: 0.9789 - val_loss: 0.0784 - val_acc: 0.9782\n",
            "Epoch 230/250\n",
            "14592/48000 [========>.....................] - ETA: 1s - loss: 0.0654 - acc: 0.9798"
          ],
          "name": "stdout"
        },
        {
          "output_type": "stream",
          "text": [
            "48000/48000 [==============================] - 3s 55us/step - loss: 0.0672 - acc: 0.9791 - val_loss: 0.0781 - val_acc: 0.9782\n",
            "Epoch 231/250\n",
            "48000/48000 [==============================] - 3s 57us/step - loss: 0.0679 - acc: 0.9785 - val_loss: 0.0786 - val_acc: 0.9783\n",
            "Epoch 232/250\n",
            "48000/48000 [==============================] - 3s 55us/step - loss: 0.0674 - acc: 0.9786 - val_loss: 0.0782 - val_acc: 0.9779\n",
            "Epoch 233/250\n",
            "48000/48000 [==============================] - 3s 54us/step - loss: 0.0650 - acc: 0.9795 - val_loss: 0.0785 - val_acc: 0.9781\n",
            "Epoch 234/250\n",
            "48000/48000 [==============================] - 3s 58us/step - loss: 0.0674 - acc: 0.9788 - val_loss: 0.0781 - val_acc: 0.9782\n",
            "Epoch 235/250\n",
            "16256/48000 [=========>....................] - ETA: 1s - loss: 0.0644 - acc: 0.9798"
          ],
          "name": "stdout"
        },
        {
          "output_type": "stream",
          "text": [
            "48000/48000 [==============================] - 3s 57us/step - loss: 0.0647 - acc: 0.9799 - val_loss: 0.0787 - val_acc: 0.9781\n",
            "Epoch 236/250\n",
            "48000/48000 [==============================] - 3s 59us/step - loss: 0.0659 - acc: 0.9793 - val_loss: 0.0784 - val_acc: 0.9782\n",
            "Epoch 237/250\n",
            "48000/48000 [==============================] - 3s 59us/step - loss: 0.0641 - acc: 0.9798 - val_loss: 0.0786 - val_acc: 0.9773\n",
            "Epoch 238/250\n",
            "48000/48000 [==============================] - 3s 59us/step - loss: 0.0657 - acc: 0.9792 - val_loss: 0.0786 - val_acc: 0.9780\n",
            "Epoch 239/250\n",
            "48000/48000 [==============================] - 3s 55us/step - loss: 0.0639 - acc: 0.9803 - val_loss: 0.0785 - val_acc: 0.9779\n",
            "Epoch 240/250\n",
            "13312/48000 [=======>......................] - ETA: 1s - loss: 0.0640 - acc: 0.9803"
          ],
          "name": "stdout"
        },
        {
          "output_type": "stream",
          "text": [
            "48000/48000 [==============================] - 3s 56us/step - loss: 0.0657 - acc: 0.9791 - val_loss: 0.0780 - val_acc: 0.9777\n",
            "Epoch 241/250\n",
            "48000/48000 [==============================] - 3s 54us/step - loss: 0.0650 - acc: 0.9794 - val_loss: 0.0783 - val_acc: 0.9781\n",
            "Epoch 242/250\n",
            "48000/48000 [==============================] - 3s 54us/step - loss: 0.0633 - acc: 0.9798 - val_loss: 0.0782 - val_acc: 0.9784\n",
            "Epoch 243/250\n",
            "48000/48000 [==============================] - 3s 53us/step - loss: 0.0645 - acc: 0.9790 - val_loss: 0.0781 - val_acc: 0.9781\n",
            "Epoch 244/250\n",
            "48000/48000 [==============================] - 3s 57us/step - loss: 0.0650 - acc: 0.9795 - val_loss: 0.0785 - val_acc: 0.9783\n",
            "Epoch 245/250\n",
            "18304/48000 [==========>...................] - ETA: 1s - loss: 0.0663 - acc: 0.9794"
          ],
          "name": "stdout"
        },
        {
          "output_type": "stream",
          "text": [
            "48000/48000 [==============================] - 3s 58us/step - loss: 0.0652 - acc: 0.9800 - val_loss: 0.0781 - val_acc: 0.9778\n",
            "Epoch 246/250\n",
            "48000/48000 [==============================] - 3s 60us/step - loss: 0.0659 - acc: 0.9800 - val_loss: 0.0783 - val_acc: 0.9782\n",
            "Epoch 247/250\n",
            "48000/48000 [==============================] - 3s 57us/step - loss: 0.0615 - acc: 0.9806 - val_loss: 0.0779 - val_acc: 0.9779\n",
            "Epoch 248/250\n",
            "48000/48000 [==============================] - 3s 57us/step - loss: 0.0637 - acc: 0.9794 - val_loss: 0.0786 - val_acc: 0.9778\n",
            "Epoch 249/250\n",
            "48000/48000 [==============================] - 3s 54us/step - loss: 0.0619 - acc: 0.9808 - val_loss: 0.0781 - val_acc: 0.9778\n",
            "Epoch 250/250\n",
            "14976/48000 [========>.....................] - ETA: 1s - loss: 0.0614 - acc: 0.9821"
          ],
          "name": "stdout"
        },
        {
          "output_type": "stream",
          "text": [
            "48000/48000 [==============================] - 3s 55us/step - loss: 0.0632 - acc: 0.9800 - val_loss: 0.0781 - val_acc: 0.9780\n"
          ],
          "name": "stdout"
        }
      ]
    },
    {
      "metadata": {
        "id": "HRU5FkTIHw5O",
        "colab_type": "code",
        "colab": {
          "autoexec": {
            "startup": false,
            "wait_interval": 0
          },
          "output_extras": [
            {
              "item_id": 2
            }
          ],
          "base_uri": "https://localhost:8080/",
          "height": 68
        },
        "outputId": "015be123-0be5-4c89-ea2a-7a7e6b465f24",
        "executionInfo": {
          "status": "ok",
          "timestamp": 1519519795428,
          "user_tz": -60,
          "elapsed": 789,
          "user": {
            "displayName": "Javier Estraviz",
            "photoUrl": "//lh3.googleusercontent.com/-VNHsm9RTmpU/AAAAAAAAAAI/AAAAAAAAGLU/zl5Qs4mSSaM/s50-c-k-no/photo.jpg",
            "userId": "117041449029631631280"
          }
        }
      },
      "cell_type": "code",
      "source": [
        "score = model.evaluate(X_test, Y_test, verbose=VERBOSE)\n",
        "\n",
        "print(\"Test score: \", score[0])\n",
        "print(\"Test accuracy: \", score[1])"
      ],
      "execution_count": 41,
      "outputs": [
        {
          "output_type": "stream",
          "text": [
            "10000/10000 [==============================] - 0s 40us/step\n",
            "Test score:  0.07288318377271644\n",
            "Test accuracy:  0.978\n"
          ],
          "name": "stdout"
        }
      ]
    },
    {
      "metadata": {
        "id": "Yai7fUgPYA5C",
        "colab_type": "code",
        "colab": {
          "autoexec": {
            "startup": false,
            "wait_interval": 0
          },
          "output_extras": [
            {
              "item_id": 1
            }
          ],
          "base_uri": "https://localhost:8080/",
          "height": 34
        },
        "outputId": "ab385825-8309-4305-b812-3bc60e49b44b",
        "executionInfo": {
          "status": "ok",
          "timestamp": 1519519796001,
          "user_tz": -60,
          "elapsed": 527,
          "user": {
            "displayName": "Javier Estraviz",
            "photoUrl": "//lh3.googleusercontent.com/-VNHsm9RTmpU/AAAAAAAAAAI/AAAAAAAAGLU/zl5Qs4mSSaM/s50-c-k-no/photo.jpg",
            "userId": "117041449029631631280"
          }
        }
      },
      "cell_type": "code",
      "source": [
        "# list all data in history\n",
        "print(history.history.keys())"
      ],
      "execution_count": 42,
      "outputs": [
        {
          "output_type": "stream",
          "text": [
            "dict_keys(['val_loss', 'val_acc', 'loss', 'acc'])\n"
          ],
          "name": "stdout"
        }
      ]
    },
    {
      "metadata": {
        "id": "v6UI21vIYkJw",
        "colab_type": "code",
        "colab": {
          "autoexec": {
            "startup": false,
            "wait_interval": 0
          },
          "output_extras": [
            {
              "item_id": 1
            }
          ],
          "base_uri": "https://localhost:8080/",
          "height": 376
        },
        "outputId": "e0b6f784-bacc-4da5-fa10-70202c32d9f7",
        "executionInfo": {
          "status": "ok",
          "timestamp": 1519519797011,
          "user_tz": -60,
          "elapsed": 741,
          "user": {
            "displayName": "Javier Estraviz",
            "photoUrl": "//lh3.googleusercontent.com/-VNHsm9RTmpU/AAAAAAAAAAI/AAAAAAAAGLU/zl5Qs4mSSaM/s50-c-k-no/photo.jpg",
            "userId": "117041449029631631280"
          }
        }
      },
      "cell_type": "code",
      "source": [
        "# summarize history for accuracy\n",
        "plt.plot(history.history['acc'])\n",
        "plt.plot(history.history['val_acc'])\n",
        "plt.title('model accuracy')\n",
        "plt.ylabel('accuracy')\n",
        "plt.xlabel('epoch')\n",
        "plt.legend(['train', 'test'], loc='upper left')\n",
        "plt.show()"
      ],
      "execution_count": 43,
      "outputs": [
        {
          "output_type": "display_data",
          "data": {
            "image/png": "[encoded data removed]",
            "text/plain": [
              "<matplotlib.figure.Figure at 0x7ff2cebbb668>"
            ]
          },
          "metadata": {
            "tags": []
          }
        }
      ]
    },
    {
      "metadata": {
        "id": "_6xV6ozIYkpr",
        "colab_type": "code",
        "colab": {
          "autoexec": {
            "startup": false,
            "wait_interval": 0
          },
          "output_extras": [
            {
              "item_id": 1
            }
          ],
          "base_uri": "https://localhost:8080/",
          "height": 376
        },
        "outputId": "6464c0dd-e1d3-404b-cc86-5169dc106c78",
        "executionInfo": {
          "status": "ok",
          "timestamp": 1519519798014,
          "user_tz": -60,
          "elapsed": 809,
          "user": {
            "displayName": "Javier Estraviz",
            "photoUrl": "//lh3.googleusercontent.com/-VNHsm9RTmpU/AAAAAAAAAAI/AAAAAAAAGLU/zl5Qs4mSSaM/s50-c-k-no/photo.jpg",
            "userId": "117041449029631631280"
          }
        }
      },
      "cell_type": "code",
      "source": [
        "# summarize history for loss\n",
        "plt.plot(history.history['loss'])\n",
        "plt.plot(history.history['val_loss'])\n",
        "plt.title('model loss')\n",
        "plt.ylabel('loss')\n",
        "plt.xlabel('epoch')\n",
        "plt.legend(['train', 'test'], loc='upper left')\n",
        "plt.show()"
      ],
      "execution_count": 44,
      "outputs": [
        {
          "output_type": "display_data",
          "data": {
            "image/png": "[encoded data removed]",
            "text/plain": [
              "<matplotlib.figure.Figure at 0x7ff2cebb73c8>"
            ]
          },
          "metadata": {
            "tags": []
          }
        }
      ]
    }
  ]
}