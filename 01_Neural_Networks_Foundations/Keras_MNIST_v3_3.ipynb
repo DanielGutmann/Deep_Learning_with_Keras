{
  "nbformat": 4,
  "nbformat_minor": 0,
  "metadata": {
    "colab": {
      "name": "Keras_MNIST_v3-3.ipynb",
      "version": "0.3.2",
      "views": {},
      "default_view": {},
      "provenance": [
        {
          "file_id": "1FaJoP1w3XW7c8lqyizN2sU7XppeVKP7W",
          "timestamp": 1519557772719
        },
        {
          "file_id": "1MKLl7klLVkshxOx516omiBktGN5XvVqU",
          "timestamp": 1519518287470
        },
        {
          "file_id": "1iUzfluSOOh0seHK5b-zu82Z-IrzQQKrT",
          "timestamp": 1519516616131
        },
        {
          "file_id": "1QOJ-5lgMDmP0QkMamDkpA43kpSoIko7N",
          "timestamp": 1519494277120
        }
      ],
      "collapsed_sections": [],
      "toc_visible": true
    },
    "kernelspec": {
      "name": "python3",
      "display_name": "Python 3"
    },
    "accelerator": "GPU"
  },
  "cells": [
    {
      "metadata": {
        "id": "toN6oOtaze99",
        "colab_type": "text"
      },
      "cell_type": "markdown",
      "source": [
        "# MNIST database of handwritten digits. 2nd version of a Keras Neural Network (2 hidden layers with Dropout, 20 iterations). RMSprop optimizer instead of SGD."
      ]
    },
    {
      "metadata": {
        "id": "jyxgCqS70PJh",
        "colab_type": "text"
      },
      "cell_type": "markdown",
      "source": [
        "## http://yann.lecun.com/exdb/mnist/"
      ]
    },
    {
      "metadata": {
        "id": "GlZ2cEE06gFq",
        "colab_type": "code",
        "colab": {
          "autoexec": {
            "startup": false,
            "wait_interval": 0
          },
          "output_extras": [
            {
              "item_id": 1
            }
          ],
          "base_uri": "https://localhost:8080/",
          "height": 34
        },
        "outputId": "5cb5f284-a3e4-4992-a479-461908bcbd8f",
        "executionInfo": {
          "status": "ok",
          "timestamp": 1519566145955,
          "user_tz": -60,
          "elapsed": 10016,
          "user": {
            "displayName": "Javier Estraviz",
            "photoUrl": "//lh3.googleusercontent.com/-VNHsm9RTmpU/AAAAAAAAAAI/AAAAAAAAGLU/zl5Qs4mSSaM/s50-c-k-no/photo.jpg",
            "userId": "117041449029631631280"
          }
        }
      },
      "cell_type": "code",
      "source": [
        "# https://keras.io/\n",
        "!pip install -q keras\n",
        "import keras"
      ],
      "execution_count": 1,
      "outputs": [
        {
          "output_type": "stream",
          "text": [
            "Using TensorFlow backend.\n"
          ],
          "name": "stderr"
        }
      ]
    },
    {
      "metadata": {
        "id": "-HMmRIi3X9E4",
        "colab_type": "code",
        "colab": {
          "autoexec": {
            "startup": false,
            "wait_interval": 0
          }
        }
      },
      "cell_type": "code",
      "source": [
        "import numpy as np\n",
        "from keras.datasets import mnist\n",
        "from keras.models import Sequential\n",
        "from keras.layers.core import Dense, Dropout, Activation\n",
        "from keras.optimizers import RMSprop\n",
        "from keras.utils import np_utils\n",
        "\n",
        "import matplotlib.pyplot as plt"
      ],
      "execution_count": 0,
      "outputs": []
    },
    {
      "metadata": {
        "id": "q2TVfWsvu5__",
        "colab_type": "code",
        "colab": {
          "autoexec": {
            "startup": false,
            "wait_interval": 0
          }
        }
      },
      "cell_type": "code",
      "source": [
        "# for reproducibility\n",
        "np.random.seed(123)"
      ],
      "execution_count": 0,
      "outputs": []
    },
    {
      "metadata": {
        "id": "Q16udZx0wtOs",
        "colab_type": "code",
        "colab": {
          "autoexec": {
            "startup": false,
            "wait_interval": 0
          }
        }
      },
      "cell_type": "code",
      "source": [
        "# network and training\n",
        "NB_EPOCH = 20\n",
        "BATCH_SIZE = 128\n",
        "VERBOSE = 1\n",
        "NB_CLASSES = 10 # number of outputs = number of digits\n",
        "OPTIMIZER = RMSprop() # RMSprop optimizer\n",
        "N_HIDDEN = 128 # number of neurons in each hidden layer\n",
        "VALIDATION_SPLIT = 0.2 # how much train is reserved fro validation\n",
        "DROPOUT = 0.3 # Way to prevent overfitting, way of regularization"
      ],
      "execution_count": 0,
      "outputs": []
    },
    {
      "metadata": {
        "id": "qw2n91TAzxz4",
        "colab_type": "code",
        "colab": {
          "autoexec": {
            "startup": false,
            "wait_interval": 0
          },
          "output_extras": [
            {
              "item_id": 5
            }
          ],
          "base_uri": "https://localhost:8080/",
          "height": 51
        },
        "outputId": "5a3f92b9-b2b9-4ac6-c7a9-52229cb3a503",
        "executionInfo": {
          "status": "ok",
          "timestamp": 1519566150255,
          "user_tz": -60,
          "elapsed": 1607,
          "user": {
            "displayName": "Javier Estraviz",
            "photoUrl": "//lh3.googleusercontent.com/-VNHsm9RTmpU/AAAAAAAAAAI/AAAAAAAAGLU/zl5Qs4mSSaM/s50-c-k-no/photo.jpg",
            "userId": "117041449029631631280"
          }
        }
      },
      "cell_type": "code",
      "source": [
        "# data shuffled and split between train and test sets\n",
        "(X_train, y_train), (X_test, y_test) = mnist.load_data()"
      ],
      "execution_count": 5,
      "outputs": [
        {
          "output_type": "stream",
          "text": [
            "Downloading data from https://s3.amazonaws.com/img-datasets/mnist.npz\n",
            "11493376/11490434 [==============================] - 1s 0us/step\n"
          ],
          "name": "stdout"
        }
      ]
    },
    {
      "metadata": {
        "id": "PDDqwK9S0BxE",
        "colab_type": "code",
        "colab": {
          "autoexec": {
            "startup": false,
            "wait_interval": 0
          },
          "output_extras": [
            {
              "item_id": 1
            }
          ],
          "base_uri": "https://localhost:8080/",
          "height": 34
        },
        "outputId": "38ed6474-08db-4558-9319-877929798c41",
        "executionInfo": {
          "status": "ok",
          "timestamp": 1519566150833,
          "user_tz": -60,
          "elapsed": 538,
          "user": {
            "displayName": "Javier Estraviz",
            "photoUrl": "//lh3.googleusercontent.com/-VNHsm9RTmpU/AAAAAAAAAAI/AAAAAAAAGLU/zl5Qs4mSSaM/s50-c-k-no/photo.jpg",
            "userId": "117041449029631631280"
          }
        }
      },
      "cell_type": "code",
      "source": [
        "X_train.shape # X_train is 60000 rows of 28x28 values "
      ],
      "execution_count": 6,
      "outputs": [
        {
          "output_type": "execute_result",
          "data": {
            "text/plain": [
              "(60000, 28, 28)"
            ]
          },
          "metadata": {
            "tags": []
          },
          "execution_count": 6
        }
      ]
    },
    {
      "metadata": {
        "id": "cKsi2qoo0GYN",
        "colab_type": "code",
        "colab": {
          "autoexec": {
            "startup": false,
            "wait_interval": 0
          }
        }
      },
      "cell_type": "code",
      "source": [
        "# X_train to be reshaped in 60000x784\n",
        "RESHAPED = 784 # number of neurons\n",
        "\n",
        "X_train = X_train.reshape(60000, RESHAPED)\n",
        "X_test = X_test.reshape(10000, RESHAPED)\n",
        "X_train = X_train.astype('float32')\n",
        "X_test = X_test.astype('float32')"
      ],
      "execution_count": 0,
      "outputs": []
    },
    {
      "metadata": {
        "id": "_-JcMJY80cTb",
        "colab_type": "code",
        "colab": {
          "autoexec": {
            "startup": false,
            "wait_interval": 0
          },
          "output_extras": [
            {
              "item_id": 1
            }
          ],
          "base_uri": "https://localhost:8080/",
          "height": 51
        },
        "outputId": "c1543ade-7d21-4256-c8f3-d436040b14d6",
        "executionInfo": {
          "status": "ok",
          "timestamp": 1519566152124,
          "user_tz": -60,
          "elapsed": 447,
          "user": {
            "displayName": "Javier Estraviz",
            "photoUrl": "//lh3.googleusercontent.com/-VNHsm9RTmpU/AAAAAAAAAAI/AAAAAAAAGLU/zl5Qs4mSSaM/s50-c-k-no/photo.jpg",
            "userId": "117041449029631631280"
          }
        }
      },
      "cell_type": "code",
      "source": [
        "# normalize \n",
        "X_train /= 255\n",
        "X_test /= 255\n",
        "\n",
        "print(X_train.shape[0], 'training set')\n",
        "print(X_test.shape[0], 'testing set')"
      ],
      "execution_count": 8,
      "outputs": [
        {
          "output_type": "stream",
          "text": [
            "60000 training set\n",
            "10000 testing set\n"
          ],
          "name": "stdout"
        }
      ]
    },
    {
      "metadata": {
        "id": "8fn741JM1La1",
        "colab_type": "code",
        "colab": {
          "autoexec": {
            "startup": false,
            "wait_interval": 0
          }
        }
      },
      "cell_type": "code",
      "source": [
        "# convert class vectors to binary class matrices\n",
        "Y_train = np_utils.to_categorical(y_train, NB_CLASSES)\n",
        "Y_test = np_utils.to_categorical(y_test, NB_CLASSES)"
      ],
      "execution_count": 0,
      "outputs": []
    },
    {
      "metadata": {
        "id": "Pf3D-c0BDv_z",
        "colab_type": "code",
        "colab": {
          "autoexec": {
            "startup": false,
            "wait_interval": 0
          }
        }
      },
      "cell_type": "code",
      "source": [
        "# Define the Sequential model or linear stack of layers\n",
        "model = Sequential()\n",
        "\n",
        "# 1st hidden layer\n",
        "model.add(Dense(N_HIDDEN, input_shape=(RESHAPED,)))\n",
        "model.add(Activation('relu'))\n",
        "model.add(Dropout(DROPOUT))\n",
        "\n",
        "# 2nd hidden layer\n",
        "model.add(Dense(N_HIDDEN))\n",
        "model.add(Activation('relu'))\n",
        "model.add(Dropout(DROPOUT))\n",
        "\n",
        "# Output layer with 10 neurons\n",
        "model.add(Dense(NB_CLASSES))\n",
        "model.add(Activation('softmax'))"
      ],
      "execution_count": 0,
      "outputs": []
    },
    {
      "metadata": {
        "id": "QDp0fZLvF3Ay",
        "colab_type": "code",
        "colab": {
          "autoexec": {
            "startup": false,
            "wait_interval": 0
          },
          "output_extras": [
            {
              "item_id": 1
            }
          ],
          "base_uri": "https://localhost:8080/",
          "height": 408
        },
        "outputId": "269fc829-0759-492c-cc72-e2d8d0191dff",
        "executionInfo": {
          "status": "ok",
          "timestamp": 1519566154385,
          "user_tz": -60,
          "elapsed": 448,
          "user": {
            "displayName": "Javier Estraviz",
            "photoUrl": "//lh3.googleusercontent.com/-VNHsm9RTmpU/AAAAAAAAAAI/AAAAAAAAGLU/zl5Qs4mSSaM/s50-c-k-no/photo.jpg",
            "userId": "117041449029631631280"
          }
        }
      },
      "cell_type": "code",
      "source": [
        "model.summary()"
      ],
      "execution_count": 11,
      "outputs": [
        {
          "output_type": "stream",
          "text": [
            "_________________________________________________________________\n",
            "Layer (type)                 Output Shape              Param #   \n",
            "=================================================================\n",
            "dense_1 (Dense)              (None, 128)               100480    \n",
            "_________________________________________________________________\n",
            "activation_1 (Activation)    (None, 128)               0         \n",
            "_________________________________________________________________\n",
            "dropout_1 (Dropout)          (None, 128)               0         \n",
            "_________________________________________________________________\n",
            "dense_2 (Dense)              (None, 128)               16512     \n",
            "_________________________________________________________________\n",
            "activation_2 (Activation)    (None, 128)               0         \n",
            "_________________________________________________________________\n",
            "dropout_2 (Dropout)          (None, 128)               0         \n",
            "_________________________________________________________________\n",
            "dense_3 (Dense)              (None, 10)                1290      \n",
            "_________________________________________________________________\n",
            "activation_3 (Activation)    (None, 10)                0         \n",
            "=================================================================\n",
            "Total params: 118,282\n",
            "Trainable params: 118,282\n",
            "Non-trainable params: 0\n",
            "_________________________________________________________________\n"
          ],
          "name": "stdout"
        }
      ]
    },
    {
      "metadata": {
        "id": "djKhTvbjF-wX",
        "colab_type": "code",
        "colab": {
          "autoexec": {
            "startup": false,
            "wait_interval": 0
          }
        }
      },
      "cell_type": "code",
      "source": [
        "model.compile(loss='categorical_crossentropy', \n",
        "              optimizer=OPTIMIZER, \n",
        "              metrics=['accuracy'])"
      ],
      "execution_count": 0,
      "outputs": []
    },
    {
      "metadata": {
        "id": "olXjLZrCHh6Q",
        "colab_type": "code",
        "colab": {
          "autoexec": {
            "startup": false,
            "wait_interval": 0
          },
          "output_extras": [
            {
              "item_id": 40
            },
            {
              "item_id": 51
            },
            {
              "item_id": 94
            },
            {
              "item_id": 120
            }
          ],
          "base_uri": "https://localhost:8080/",
          "height": 714
        },
        "outputId": "7bb0b689-2864-4be7-cf90-53f3cb307b0e",
        "executionInfo": {
          "status": "ok",
          "timestamp": 1519566199252,
          "user_tz": -60,
          "elapsed": 44003,
          "user": {
            "displayName": "Javier Estraviz",
            "photoUrl": "//lh3.googleusercontent.com/-VNHsm9RTmpU/AAAAAAAAAAI/AAAAAAAAGLU/zl5Qs4mSSaM/s50-c-k-no/photo.jpg",
            "userId": "117041449029631631280"
          }
        }
      },
      "cell_type": "code",
      "source": [
        "history = model.fit(X_train, Y_train, batch_size=BATCH_SIZE, epochs=NB_EPOCH, verbose=VERBOSE, validation_split=VALIDATION_SPLIT)"
      ],
      "execution_count": 13,
      "outputs": [
        {
          "output_type": "stream",
          "text": [
            "Train on 48000 samples, validate on 12000 samples\n",
            "Epoch 1/20\n",
            "48000/48000 [==============================] - 3s 61us/step - loss: 0.4924 - acc: 0.8514 - val_loss: 0.1939 - val_acc: 0.9428\n",
            "Epoch 2/20\n",
            "48000/48000 [==============================] - 2s 45us/step - loss: 0.2311 - acc: 0.9311 - val_loss: 0.1376 - val_acc: 0.9607\n",
            "Epoch 3/20\n",
            "48000/48000 [==============================] - 2s 45us/step - loss: 0.1759 - acc: 0.9477 - val_loss: 0.1145 - val_acc: 0.9668\n",
            "Epoch 4/20\n",
            "48000/48000 [==============================] - 2s 45us/step - loss: 0.1471 - acc: 0.9561 - val_loss: 0.1056 - val_acc: 0.9710\n",
            "Epoch 5/20\n",
            "48000/48000 [==============================] - 2s 44us/step - loss: 0.1304 - acc: 0.9617 - val_loss: 0.1029 - val_acc: 0.9718\n",
            "Epoch 6/20\n",
            "28928/48000 [=================>............] - ETA: 0s - loss: 0.1238 - acc: 0.9623"
          ],
          "name": "stdout"
        },
        {
          "output_type": "stream",
          "text": [
            "48000/48000 [==============================] - 2s 44us/step - loss: 0.1217 - acc: 0.9633 - val_loss: 0.1002 - val_acc: 0.9733\n",
            "Epoch 7/20\n",
            "48000/48000 [==============================] - 2s 44us/step - loss: 0.1100 - acc: 0.9675 - val_loss: 0.0997 - val_acc: 0.9729\n",
            "Epoch 8/20\n",
            "48000/48000 [==============================] - 2s 44us/step - loss: 0.1039 - acc: 0.9694 - val_loss: 0.0947 - val_acc: 0.9757\n",
            "Epoch 9/20\n",
            "48000/48000 [==============================] - 2s 44us/step - loss: 0.0966 - acc: 0.9714 - val_loss: 0.0926 - val_acc: 0.9766\n",
            "Epoch 10/20\n",
            "48000/48000 [==============================] - 2s 44us/step - loss: 0.0926 - acc: 0.9733 - val_loss: 0.0959 - val_acc: 0.9770\n",
            "Epoch 11/20\n",
            "48000/48000 [==============================] - 2s 45us/step - loss: 0.0867 - acc: 0.9746 - val_loss: 0.0956 - val_acc: 0.9762\n",
            "Epoch 12/20\n",
            " 1408/48000 [..............................] - ETA: 2s - loss: 0.0559 - acc: 0.9794"
          ],
          "name": "stdout"
        },
        {
          "output_type": "stream",
          "text": [
            "48000/48000 [==============================] - 2s 44us/step - loss: 0.0838 - acc: 0.9750 - val_loss: 0.0935 - val_acc: 0.9756\n",
            "Epoch 13/20\n",
            "48000/48000 [==============================] - 2s 44us/step - loss: 0.0807 - acc: 0.9761 - val_loss: 0.0992 - val_acc: 0.9764\n",
            "Epoch 14/20\n",
            "48000/48000 [==============================] - 2s 45us/step - loss: 0.0786 - acc: 0.9762 - val_loss: 0.0970 - val_acc: 0.9784\n",
            "Epoch 15/20\n",
            "48000/48000 [==============================] - 2s 44us/step - loss: 0.0765 - acc: 0.9780 - val_loss: 0.0959 - val_acc: 0.9778\n",
            "Epoch 16/20\n",
            "48000/48000 [==============================] - 2s 45us/step - loss: 0.0763 - acc: 0.9776 - val_loss: 0.1016 - val_acc: 0.9777\n",
            "Epoch 17/20\n",
            "47744/48000 [============================>.] - ETA: 0s - loss: 0.0747 - acc: 0.9782"
          ],
          "name": "stdout"
        },
        {
          "output_type": "stream",
          "text": [
            "\b\b\b\b\b\b\b\b\b\b\b\b\b\b\b\b\b\b\b\b\b\b\b\b\b\b\b\b\b\b\b\b\b\b\b\b\b\b\b\b\b\b\b\b\b\b\b\b\b\b\b\b\b\b\b\b\b\b\b\b\b\b\b\b\b\b\b\b\b\b\b\b\b\b\b\b\b\b\b\b\b\b\b\r48000/48000 [==============================] - 2s 45us/step - loss: 0.0746 - acc: 0.9782 - val_loss: 0.1044 - val_acc: 0.9761\n",
            "Epoch 18/20\n",
            "48000/48000 [==============================] - 2s 45us/step - loss: 0.0708 - acc: 0.9794 - val_loss: 0.0947 - val_acc: 0.9789\n",
            "Epoch 19/20\n",
            "48000/48000 [==============================] - 2s 44us/step - loss: 0.0668 - acc: 0.9809 - val_loss: 0.0994 - val_acc: 0.9790\n",
            "Epoch 20/20\n",
            "48000/48000 [==============================] - 2s 44us/step - loss: 0.0671 - acc: 0.9803 - val_loss: 0.1025 - val_acc: 0.9777\n"
          ],
          "name": "stdout"
        }
      ]
    },
    {
      "metadata": {
        "id": "HRU5FkTIHw5O",
        "colab_type": "code",
        "colab": {
          "autoexec": {
            "startup": false,
            "wait_interval": 0
          },
          "output_extras": [
            {
              "item_id": 3
            }
          ],
          "base_uri": "https://localhost:8080/",
          "height": 68
        },
        "outputId": "4500fd79-d7d7-4df5-9f1f-5c007f26653b",
        "executionInfo": {
          "status": "ok",
          "timestamp": 1519566200497,
          "user_tz": -60,
          "elapsed": 1219,
          "user": {
            "displayName": "Javier Estraviz",
            "photoUrl": "//lh3.googleusercontent.com/-VNHsm9RTmpU/AAAAAAAAAAI/AAAAAAAAGLU/zl5Qs4mSSaM/s50-c-k-no/photo.jpg",
            "userId": "117041449029631631280"
          }
        }
      },
      "cell_type": "code",
      "source": [
        "score = model.evaluate(X_test, Y_test, verbose=VERBOSE)\n",
        "\n",
        "print(\"Test score: \", score[0])\n",
        "print(\"Test accuracy: \", score[1])"
      ],
      "execution_count": 14,
      "outputs": [
        {
          "output_type": "stream",
          "text": [
            "10000/10000 [==============================] - 1s 66us/step\n",
            "Test score:  0.09537418492118122\n",
            "Test accuracy:  0.9794\n"
          ],
          "name": "stdout"
        }
      ]
    },
    {
      "metadata": {
        "id": "Yai7fUgPYA5C",
        "colab_type": "code",
        "colab": {
          "autoexec": {
            "startup": false,
            "wait_interval": 0
          },
          "output_extras": [
            {
              "item_id": 1
            }
          ],
          "base_uri": "https://localhost:8080/",
          "height": 34
        },
        "outputId": "d35cf41a-0db2-4160-ee3d-5a2f8e4effbc",
        "executionInfo": {
          "status": "ok",
          "timestamp": 1519566201087,
          "user_tz": -60,
          "elapsed": 444,
          "user": {
            "displayName": "Javier Estraviz",
            "photoUrl": "//lh3.googleusercontent.com/-VNHsm9RTmpU/AAAAAAAAAAI/AAAAAAAAGLU/zl5Qs4mSSaM/s50-c-k-no/photo.jpg",
            "userId": "117041449029631631280"
          }
        }
      },
      "cell_type": "code",
      "source": [
        "# list all data in history\n",
        "print(history.history.keys())"
      ],
      "execution_count": 15,
      "outputs": [
        {
          "output_type": "stream",
          "text": [
            "dict_keys(['val_loss', 'val_acc', 'loss', 'acc'])\n"
          ],
          "name": "stdout"
        }
      ]
    },
    {
      "metadata": {
        "id": "v6UI21vIYkJw",
        "colab_type": "code",
        "colab": {
          "autoexec": {
            "startup": false,
            "wait_interval": 0
          },
          "output_extras": [
            {
              "item_id": 1
            }
          ],
          "base_uri": "https://localhost:8080/",
          "height": 376
        },
        "outputId": "9b4aec5f-6715-4647-a0f6-df8b80b721c1",
        "executionInfo": {
          "status": "ok",
          "timestamp": 1519566202133,
          "user_tz": -60,
          "elapsed": 835,
          "user": {
            "displayName": "Javier Estraviz",
            "photoUrl": "//lh3.googleusercontent.com/-VNHsm9RTmpU/AAAAAAAAAAI/AAAAAAAAGLU/zl5Qs4mSSaM/s50-c-k-no/photo.jpg",
            "userId": "117041449029631631280"
          }
        }
      },
      "cell_type": "code",
      "source": [
        "# summarize history for accuracy\n",
        "plt.plot(history.history['acc'])\n",
        "plt.plot(history.history['val_acc'])\n",
        "plt.title('model accuracy')\n",
        "plt.ylabel('accuracy')\n",
        "plt.xlabel('epoch')\n",
        "plt.legend(['train', 'test'], loc='upper left')\n",
        "plt.show()"
      ],
      "execution_count": 16,
      "outputs": [
        {
          "output_type": "display_data",
          "data": {
            "image/png": "[encoded data removed]",
            "text/plain": [
              "<matplotlib.figure.Figure at 0x7f20547b0358>"
            ]
          },
          "metadata": {
            "tags": []
          }
        }
      ]
    },
    {
      "metadata": {
        "id": "_6xV6ozIYkpr",
        "colab_type": "code",
        "colab": {
          "autoexec": {
            "startup": false,
            "wait_interval": 0
          },
          "output_extras": [
            {
              "item_id": 1
            }
          ],
          "base_uri": "https://localhost:8080/",
          "height": 376
        },
        "outputId": "f39a9903-2ea9-49bc-b1f2-ae53deca3108",
        "executionInfo": {
          "status": "ok",
          "timestamp": 1519566202850,
          "user_tz": -60,
          "elapsed": 500,
          "user": {
            "displayName": "Javier Estraviz",
            "photoUrl": "//lh3.googleusercontent.com/-VNHsm9RTmpU/AAAAAAAAAAI/AAAAAAAAGLU/zl5Qs4mSSaM/s50-c-k-no/photo.jpg",
            "userId": "117041449029631631280"
          }
        }
      },
      "cell_type": "code",
      "source": [
        "# summarize history for loss\n",
        "plt.plot(history.history['loss'])\n",
        "plt.plot(history.history['val_loss'])\n",
        "plt.title('model loss')\n",
        "plt.ylabel('loss')\n",
        "plt.xlabel('epoch')\n",
        "plt.legend(['train', 'test'], loc='upper left')\n",
        "plt.show()"
      ],
      "execution_count": 17,
      "outputs": [
        {
          "output_type": "display_data",
          "data": {
            "image/png": "[encoded data removed]",
            "text/plain": [
              "<matplotlib.figure.Figure at 0x7f205473ae48>"
            ]
          },
          "metadata": {
            "tags": []
          }
        }
      ]
    }
  ]
}