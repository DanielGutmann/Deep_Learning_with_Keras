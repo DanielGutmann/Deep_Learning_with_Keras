{
  "nbformat": 4,
  "nbformat_minor": 0,
  "metadata": {
    "colab": {
      "name": "Keras_MNIST_v2.ipynb",
      "version": "0.3.2",
      "views": {},
      "default_view": {},
      "provenance": [
        {
          "file_id": "1QOJ-5lgMDmP0QkMamDkpA43kpSoIko7N",
          "timestamp": 1519494277120
        }
      ],
      "collapsed_sections": [],
      "toc_visible": true
    },
    "kernelspec": {
      "name": "python3",
      "display_name": "Python 3"
    },
    "accelerator": "GPU"
  },
  "cells": [
    {
      "metadata": {
        "id": "toN6oOtaze99",
        "colab_type": "text"
      },
      "cell_type": "markdown",
      "source": [
        "# MNIST database of handwritten digits. 2nd version of a Keras Neural Network (2 hidden layers, 20 iterations)"
      ]
    },
    {
      "metadata": {
        "id": "jyxgCqS70PJh",
        "colab_type": "text"
      },
      "cell_type": "markdown",
      "source": [
        "## http://yann.lecun.com/exdb/mnist/"
      ]
    },
    {
      "metadata": {
        "id": "GlZ2cEE06gFq",
        "colab_type": "code",
        "colab": {
          "autoexec": {
            "startup": false,
            "wait_interval": 0
          }
        }
      },
      "cell_type": "code",
      "source": [
        "# https://keras.io/\n",
        "!pip install -q keras\n",
        "import keras"
      ],
      "execution_count": 0,
      "outputs": []
    },
    {
      "metadata": {
        "id": "-HMmRIi3X9E4",
        "colab_type": "code",
        "colab": {
          "autoexec": {
            "startup": false,
            "wait_interval": 0
          }
        }
      },
      "cell_type": "code",
      "source": [
        "import numpy as np\n",
        "from keras.datasets import mnist\n",
        "from keras.models import Sequential\n",
        "from keras.layers.core import Dense, Activation\n",
        "from keras.optimizers import SGD\n",
        "from keras.utils import np_utils"
      ],
      "execution_count": 0,
      "outputs": []
    },
    {
      "metadata": {
        "id": "q2TVfWsvu5__",
        "colab_type": "code",
        "colab": {
          "autoexec": {
            "startup": false,
            "wait_interval": 0
          }
        }
      },
      "cell_type": "code",
      "source": [
        "# for reproducibility\n",
        "np.random.seed(123)"
      ],
      "execution_count": 0,
      "outputs": []
    },
    {
      "metadata": {
        "id": "Q16udZx0wtOs",
        "colab_type": "code",
        "colab": {
          "autoexec": {
            "startup": false,
            "wait_interval": 0
          }
        }
      },
      "cell_type": "code",
      "source": [
        "# network and training\n",
        "NB_EPOCH = 20 # only 20 iterations instead of 200 that we had in the 1st model\n",
        "BATCH_SIZE = 128\n",
        "VERBOSE = 1\n",
        "NB_CLASSES = 10 # number of outputs = number of digits\n",
        "OPTIMIZER = SGD() # Stochastic Gradient Descent optimizer\n",
        "N_HIDDEN = 128 # number of neurons in each hidden layer\n",
        "VALIDATION_SPLIT = 0.2 # how much train is reserved fro validation"
      ],
      "execution_count": 0,
      "outputs": []
    },
    {
      "metadata": {
        "id": "qw2n91TAzxz4",
        "colab_type": "code",
        "colab": {
          "autoexec": {
            "startup": false,
            "wait_interval": 0
          }
        }
      },
      "cell_type": "code",
      "source": [
        "# data shuffled and split between train and test sets\n",
        "(X_train, y_train), (X_test, y_test) = mnist.load_data()"
      ],
      "execution_count": 0,
      "outputs": []
    },
    {
      "metadata": {
        "id": "PDDqwK9S0BxE",
        "colab_type": "code",
        "colab": {
          "autoexec": {
            "startup": false,
            "wait_interval": 0
          },
          "output_extras": [
            {
              "item_id": 1
            }
          ],
          "base_uri": "https://localhost:8080/",
          "height": 34
        },
        "outputId": "66f71ee6-93d9-4c71-c11b-edfd7a5de687",
        "executionInfo": {
          "status": "ok",
          "timestamp": 1519516065258,
          "user_tz": -60,
          "elapsed": 643,
          "user": {
            "displayName": "Javier Estraviz",
            "photoUrl": "//lh3.googleusercontent.com/-VNHsm9RTmpU/AAAAAAAAAAI/AAAAAAAAGLU/zl5Qs4mSSaM/s50-c-k-no/photo.jpg",
            "userId": "117041449029631631280"
          }
        }
      },
      "cell_type": "code",
      "source": [
        "X_train.shape # X_train is 60000 rows of 28x28 values "
      ],
      "execution_count": 21,
      "outputs": [
        {
          "output_type": "execute_result",
          "data": {
            "text/plain": [
              "(60000, 28, 28)"
            ]
          },
          "metadata": {
            "tags": []
          },
          "execution_count": 21
        }
      ]
    },
    {
      "metadata": {
        "id": "cKsi2qoo0GYN",
        "colab_type": "code",
        "colab": {
          "autoexec": {
            "startup": false,
            "wait_interval": 0
          }
        }
      },
      "cell_type": "code",
      "source": [
        "# X_train to be reshaped in 60000x784\n",
        "RESHAPED = 784 # number of neurons\n",
        "\n",
        "X_train = X_train.reshape(60000, RESHAPED)\n",
        "X_test = X_test.reshape(10000, RESHAPED)\n",
        "X_train = X_train.astype('float32')\n",
        "X_test = X_test.astype('float32')"
      ],
      "execution_count": 0,
      "outputs": []
    },
    {
      "metadata": {
        "id": "_-JcMJY80cTb",
        "colab_type": "code",
        "colab": {
          "autoexec": {
            "startup": false,
            "wait_interval": 0
          },
          "output_extras": [
            {
              "item_id": 1
            }
          ],
          "base_uri": "https://localhost:8080/",
          "height": 51
        },
        "outputId": "134acfe9-a9e3-4774-8e42-fa5c96406a3b",
        "executionInfo": {
          "status": "ok",
          "timestamp": 1519516066712,
          "user_tz": -60,
          "elapsed": 598,
          "user": {
            "displayName": "Javier Estraviz",
            "photoUrl": "//lh3.googleusercontent.com/-VNHsm9RTmpU/AAAAAAAAAAI/AAAAAAAAGLU/zl5Qs4mSSaM/s50-c-k-no/photo.jpg",
            "userId": "117041449029631631280"
          }
        }
      },
      "cell_type": "code",
      "source": [
        "# normalize \n",
        "X_train /= 255\n",
        "X_test /= 255\n",
        "\n",
        "print(X_train.shape[0], 'training set')\n",
        "print(X_test.shape[0], 'testing set')"
      ],
      "execution_count": 23,
      "outputs": [
        {
          "output_type": "stream",
          "text": [
            "60000 training set\n",
            "10000 testing set\n"
          ],
          "name": "stdout"
        }
      ]
    },
    {
      "metadata": {
        "id": "8fn741JM1La1",
        "colab_type": "code",
        "colab": {
          "autoexec": {
            "startup": false,
            "wait_interval": 0
          }
        }
      },
      "cell_type": "code",
      "source": [
        "# convert class vectors to binary class matrices\n",
        "Y_train = np_utils.to_categorical(y_train, NB_CLASSES)\n",
        "Y_test = np_utils.to_categorical(y_test, NB_CLASSES)"
      ],
      "execution_count": 0,
      "outputs": []
    },
    {
      "metadata": {
        "id": "Pf3D-c0BDv_z",
        "colab_type": "code",
        "colab": {
          "autoexec": {
            "startup": false,
            "wait_interval": 0
          }
        }
      },
      "cell_type": "code",
      "source": [
        "# Define the Sequential model or linear stack of layers\n",
        "model = Sequential()\n",
        "\n",
        "# 1st hidden layer with relu activation function\n",
        "model.add(Dense(N_HIDDEN, input_shape=(RESHAPED,)))\n",
        "# Activation function of the hidden layer is relu\n",
        "model.add(Activation('relu'))\n",
        "\n",
        "# 2nd hidden layer with relu activation function\n",
        "model.add(Dense(N_HIDDEN))\n",
        "model.add(Activation('relu'))\n",
        "\n",
        "# Output layer with 10 neurons\n",
        "model.add(Dense(NB_CLASSES))\n",
        "# final stage: softmax\n",
        "model.add(Activation('softmax'))"
      ],
      "execution_count": 0,
      "outputs": []
    },
    {
      "metadata": {
        "id": "QDp0fZLvF3Ay",
        "colab_type": "code",
        "colab": {
          "autoexec": {
            "startup": false,
            "wait_interval": 0
          },
          "output_extras": [
            {
              "item_id": 1
            }
          ],
          "base_uri": "https://localhost:8080/",
          "height": 340
        },
        "outputId": "20373ac3-25f3-40a1-852e-391bfddc4980",
        "executionInfo": {
          "status": "ok",
          "timestamp": 1519516068696,
          "user_tz": -60,
          "elapsed": 449,
          "user": {
            "displayName": "Javier Estraviz",
            "photoUrl": "//lh3.googleusercontent.com/-VNHsm9RTmpU/AAAAAAAAAAI/AAAAAAAAGLU/zl5Qs4mSSaM/s50-c-k-no/photo.jpg",
            "userId": "117041449029631631280"
          }
        }
      },
      "cell_type": "code",
      "source": [
        "model.summary()"
      ],
      "execution_count": 26,
      "outputs": [
        {
          "output_type": "stream",
          "text": [
            "_________________________________________________________________\n",
            "Layer (type)                 Output Shape              Param #   \n",
            "=================================================================\n",
            "dense_4 (Dense)              (None, 128)               100480    \n",
            "_________________________________________________________________\n",
            "activation_4 (Activation)    (None, 128)               0         \n",
            "_________________________________________________________________\n",
            "dense_5 (Dense)              (None, 128)               16512     \n",
            "_________________________________________________________________\n",
            "activation_5 (Activation)    (None, 128)               0         \n",
            "_________________________________________________________________\n",
            "dense_6 (Dense)              (None, 10)                1290      \n",
            "_________________________________________________________________\n",
            "activation_6 (Activation)    (None, 10)                0         \n",
            "=================================================================\n",
            "Total params: 118,282\n",
            "Trainable params: 118,282\n",
            "Non-trainable params: 0\n",
            "_________________________________________________________________\n"
          ],
          "name": "stdout"
        }
      ]
    },
    {
      "metadata": {
        "id": "djKhTvbjF-wX",
        "colab_type": "code",
        "colab": {
          "autoexec": {
            "startup": false,
            "wait_interval": 0
          }
        }
      },
      "cell_type": "code",
      "source": [
        "model.compile(loss='categorical_crossentropy', \n",
        "              optimizer=OPTIMIZER, \n",
        "              metrics=['accuracy'])"
      ],
      "execution_count": 0,
      "outputs": []
    },
    {
      "metadata": {
        "id": "olXjLZrCHh6Q",
        "colab_type": "code",
        "colab": {
          "autoexec": {
            "startup": false,
            "wait_interval": 0
          },
          "output_extras": [
            {
              "item_id": 44
            },
            {
              "item_id": 90
            },
            {
              "item_id": 132
            },
            {
              "item_id": 143
            }
          ],
          "base_uri": "https://localhost:8080/",
          "height": 714
        },
        "outputId": "c2abea4f-c8ad-45dd-9650-530bbfbc7b51",
        "executionInfo": {
          "status": "ok",
          "timestamp": 1519516105360,
          "user_tz": -60,
          "elapsed": 35822,
          "user": {
            "displayName": "Javier Estraviz",
            "photoUrl": "//lh3.googleusercontent.com/-VNHsm9RTmpU/AAAAAAAAAAI/AAAAAAAAGLU/zl5Qs4mSSaM/s50-c-k-no/photo.jpg",
            "userId": "117041449029631631280"
          }
        }
      },
      "cell_type": "code",
      "source": [
        "history = model.fit(X_train, Y_train, batch_size=BATCH_SIZE, epochs=NB_EPOCH, verbose=VERBOSE, validation_split=VALIDATION_SPLIT)"
      ],
      "execution_count": 28,
      "outputs": [
        {
          "output_type": "stream",
          "text": [
            "Train on 48000 samples, validate on 12000 samples\n",
            "Epoch 1/20\n",
            "48000/48000 [==============================] - 2s 38us/step - loss: 1.4610 - acc: 0.6284 - val_loss: 0.7434 - val_acc: 0.8421\n",
            "Epoch 2/20\n",
            "48000/48000 [==============================] - 2s 36us/step - loss: 0.5998 - acc: 0.8502 - val_loss: 0.4556 - val_acc: 0.8794\n",
            "Epoch 3/20\n",
            "48000/48000 [==============================] - 2s 37us/step - loss: 0.4427 - acc: 0.8788 - val_loss: 0.3766 - val_acc: 0.8978\n",
            "Epoch 4/20\n",
            "48000/48000 [==============================] - 2s 36us/step - loss: 0.3830 - acc: 0.8927 - val_loss: 0.3391 - val_acc: 0.9050\n",
            "Epoch 5/20\n",
            "48000/48000 [==============================] - 2s 36us/step - loss: 0.3501 - acc: 0.9011 - val_loss: 0.3193 - val_acc: 0.9101\n",
            "Epoch 6/20\n",
            "48000/48000 [==============================] - 2s 38us/step - loss: 0.3278 - acc: 0.9065 - val_loss: 0.3014 - val_acc: 0.9146\n",
            "Epoch 7/20\n",
            " 6528/48000 [===>..........................] - ETA: 1s - loss: 0.3116 - acc: 0.9079"
          ],
          "name": "stdout"
        },
        {
          "output_type": "stream",
          "text": [
            "48000/48000 [==============================] - 2s 37us/step - loss: 0.3108 - acc: 0.9112 - val_loss: 0.2880 - val_acc: 0.9173\n",
            "Epoch 8/20\n",
            "48000/48000 [==============================] - 2s 36us/step - loss: 0.2969 - acc: 0.9149 - val_loss: 0.2769 - val_acc: 0.9208\n",
            "Epoch 9/20\n",
            "48000/48000 [==============================] - 2s 37us/step - loss: 0.2847 - acc: 0.9192 - val_loss: 0.2668 - val_acc: 0.9237\n",
            "Epoch 10/20\n",
            "48000/48000 [==============================] - 2s 36us/step - loss: 0.2739 - acc: 0.9219 - val_loss: 0.2575 - val_acc: 0.9272\n",
            "Epoch 11/20\n",
            "48000/48000 [==============================] - 2s 37us/step - loss: 0.2641 - acc: 0.9242 - val_loss: 0.2499 - val_acc: 0.9294\n",
            "Epoch 12/20\n",
            "48000/48000 [==============================] - 2s 37us/step - loss: 0.2548 - acc: 0.9268 - val_loss: 0.2434 - val_acc: 0.9311\n",
            "Epoch 13/20\n",
            "28672/48000 [================>.............] - ETA: 0s - loss: 0.2487 - acc: 0.9277"
          ],
          "name": "stdout"
        },
        {
          "output_type": "stream",
          "text": [
            "48000/48000 [==============================] - 2s 37us/step - loss: 0.2463 - acc: 0.9297 - val_loss: 0.2345 - val_acc: 0.9344\n",
            "Epoch 14/20\n",
            "48000/48000 [==============================] - 2s 37us/step - loss: 0.2382 - acc: 0.9311 - val_loss: 0.2295 - val_acc: 0.9344\n",
            "Epoch 15/20\n",
            "48000/48000 [==============================] - 2s 37us/step - loss: 0.2310 - acc: 0.9340 - val_loss: 0.2227 - val_acc: 0.9368\n",
            "Epoch 16/20\n",
            "48000/48000 [==============================] - 2s 36us/step - loss: 0.2239 - acc: 0.9356 - val_loss: 0.2169 - val_acc: 0.9385\n",
            "Epoch 17/20\n",
            "48000/48000 [==============================] - 2s 36us/step - loss: 0.2172 - acc: 0.9376 - val_loss: 0.2108 - val_acc: 0.9401\n",
            "Epoch 18/20\n",
            "48000/48000 [==============================] - 2s 37us/step - loss: 0.2105 - acc: 0.9397 - val_loss: 0.2069 - val_acc: 0.9414\n",
            "Epoch 19/20\n",
            "30336/48000 [=================>............] - ETA: 0s - loss: 0.2020 - acc: 0.9423"
          ],
          "name": "stdout"
        },
        {
          "output_type": "stream",
          "text": [
            "48000/48000 [==============================] - 2s 36us/step - loss: 0.2049 - acc: 0.9412 - val_loss: 0.2012 - val_acc: 0.9431\n",
            "Epoch 20/20\n",
            "48000/48000 [==============================] - 2s 36us/step - loss: 0.1990 - acc: 0.9430 - val_loss: 0.1968 - val_acc: 0.9449\n"
          ],
          "name": "stdout"
        }
      ]
    },
    {
      "metadata": {
        "id": "HRU5FkTIHw5O",
        "colab_type": "code",
        "colab": {
          "autoexec": {
            "startup": false,
            "wait_interval": 0
          },
          "output_extras": [
            {
              "item_id": 3
            }
          ],
          "base_uri": "https://localhost:8080/",
          "height": 68
        },
        "outputId": "922e7ab4-8a9b-4217-e62e-2ad313fc456d",
        "executionInfo": {
          "status": "ok",
          "timestamp": 1519516106474,
          "user_tz": -60,
          "elapsed": 1096,
          "user": {
            "displayName": "Javier Estraviz",
            "photoUrl": "//lh3.googleusercontent.com/-VNHsm9RTmpU/AAAAAAAAAAI/AAAAAAAAGLU/zl5Qs4mSSaM/s50-c-k-no/photo.jpg",
            "userId": "117041449029631631280"
          }
        }
      },
      "cell_type": "code",
      "source": [
        "score = model.evaluate(X_test, Y_test, verbose=VERBOSE)\n",
        "\n",
        "print(\"Test score: \", score[0])\n",
        "print(\"Test accuracy: \", score[1])"
      ],
      "execution_count": 29,
      "outputs": [
        {
          "output_type": "stream",
          "text": [
            "10000/10000 [==============================] - 1s 56us/step\n",
            "Test score:  0.19552127613276243\n",
            "Test accuracy:  0.9454\n"
          ],
          "name": "stdout"
        }
      ]
    }
  ]
}